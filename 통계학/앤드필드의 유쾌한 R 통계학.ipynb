{
 "cells": [
  {
   "cell_type": "markdown",
   "id": "96f502de",
   "metadata": {},
   "source": [
    "**데이터프레임 생성**"
   ]
  },
  {
   "cell_type": "code",
   "execution_count": 1,
   "id": "1c7a78cc",
   "metadata": {},
   "outputs": [],
   "source": [
    "# 멤버의 이름을 가지는 벡터 만들기\n",
    "memberNames <- c ('Mika','Josep','Kadar','Messi')\n",
    "\n",
    "# 멤버의 나이를 가지는 벡터 만들기\n",
    "memberAges <- c (27,45,31,46)"
   ]
  },
  {
   "cell_type": "code",
   "execution_count": 2,
   "id": "8a11e6a7",
   "metadata": {},
   "outputs": [],
   "source": [
    "# 멤버의 이름과 나이를 칼럼으로 가지는 데이터 프레임으로 합치기 \n",
    "Member <- data.frame(name = memberNames, age = memberAges)"
   ]
  },
  {
   "cell_type": "code",
   "execution_count": 3,
   "id": "db576156",
   "metadata": {},
   "outputs": [
    {
     "data": {
      "text/html": [
       "<table class=\"dataframe\">\n",
       "<caption>A data.frame: 4 × 2</caption>\n",
       "<thead>\n",
       "\t<tr><th scope=col>name</th><th scope=col>age</th></tr>\n",
       "\t<tr><th scope=col>&lt;chr&gt;</th><th scope=col>&lt;dbl&gt;</th></tr>\n",
       "</thead>\n",
       "<tbody>\n",
       "\t<tr><td>Mika </td><td>27</td></tr>\n",
       "\t<tr><td>Josep</td><td>45</td></tr>\n",
       "\t<tr><td>Kadar</td><td>31</td></tr>\n",
       "\t<tr><td>Messi</td><td>46</td></tr>\n",
       "</tbody>\n",
       "</table>\n"
      ],
      "text/latex": [
       "A data.frame: 4 × 2\n",
       "\\begin{tabular}{ll}\n",
       " name & age\\\\\n",
       " <chr> & <dbl>\\\\\n",
       "\\hline\n",
       "\t Mika  & 27\\\\\n",
       "\t Josep & 45\\\\\n",
       "\t Kadar & 31\\\\\n",
       "\t Messi & 46\\\\\n",
       "\\end{tabular}\n"
      ],
      "text/markdown": [
       "\n",
       "A data.frame: 4 × 2\n",
       "\n",
       "| name &lt;chr&gt; | age &lt;dbl&gt; |\n",
       "|---|---|\n",
       "| Mika  | 27 |\n",
       "| Josep | 45 |\n",
       "| Kadar | 31 |\n",
       "| Messi | 46 |\n",
       "\n"
      ],
      "text/plain": [
       "  name  age\n",
       "1 Mika  27 \n",
       "2 Josep 45 \n",
       "3 Kadar 31 \n",
       "4 Messi 46 "
      ]
     },
     "metadata": {},
     "output_type": "display_data"
    }
   ],
   "source": [
    "Member"
   ]
  },
  {
   "cell_type": "code",
   "execution_count": 4,
   "id": "7b9acc0d",
   "metadata": {},
   "outputs": [],
   "source": [
    "# 혈액형 칼럼을 추가하기 \n",
    "Member$bloodType <- c('A','B','AB','O')"
   ]
  },
  {
   "cell_type": "code",
   "execution_count": 5,
   "id": "d5f63078",
   "metadata": {},
   "outputs": [
    {
     "data": {
      "text/html": [
       "<table class=\"dataframe\">\n",
       "<caption>A data.frame: 4 × 3</caption>\n",
       "<thead>\n",
       "\t<tr><th scope=col>name</th><th scope=col>age</th><th scope=col>bloodType</th></tr>\n",
       "\t<tr><th scope=col>&lt;chr&gt;</th><th scope=col>&lt;dbl&gt;</th><th scope=col>&lt;chr&gt;</th></tr>\n",
       "</thead>\n",
       "<tbody>\n",
       "\t<tr><td>Mika </td><td>27</td><td>A </td></tr>\n",
       "\t<tr><td>Josep</td><td>45</td><td>B </td></tr>\n",
       "\t<tr><td>Kadar</td><td>31</td><td>AB</td></tr>\n",
       "\t<tr><td>Messi</td><td>46</td><td>O </td></tr>\n",
       "</tbody>\n",
       "</table>\n"
      ],
      "text/latex": [
       "A data.frame: 4 × 3\n",
       "\\begin{tabular}{lll}\n",
       " name & age & bloodType\\\\\n",
       " <chr> & <dbl> & <chr>\\\\\n",
       "\\hline\n",
       "\t Mika  & 27 & A \\\\\n",
       "\t Josep & 45 & B \\\\\n",
       "\t Kadar & 31 & AB\\\\\n",
       "\t Messi & 46 & O \\\\\n",
       "\\end{tabular}\n"
      ],
      "text/markdown": [
       "\n",
       "A data.frame: 4 × 3\n",
       "\n",
       "| name &lt;chr&gt; | age &lt;dbl&gt; | bloodType &lt;chr&gt; |\n",
       "|---|---|---|\n",
       "| Mika  | 27 | A  |\n",
       "| Josep | 45 | B  |\n",
       "| Kadar | 31 | AB |\n",
       "| Messi | 46 | O  |\n",
       "\n"
      ],
      "text/plain": [
       "  name  age bloodType\n",
       "1 Mika  27  A        \n",
       "2 Josep 45  B        \n",
       "3 Kadar 31  AB       \n",
       "4 Messi 46  O        "
      ]
     },
     "metadata": {},
     "output_type": "display_data"
    }
   ],
   "source": [
    "Member"
   ]
  },
  {
   "cell_type": "code",
   "execution_count": 6,
   "id": "5541c4e8",
   "metadata": {},
   "outputs": [],
   "source": [
    "# 아이들의 나이 칼럼을 추가하기 \n",
    "Member$childAge <- c(2,11,13,20)"
   ]
  },
  {
   "cell_type": "code",
   "execution_count": 7,
   "id": "fa7c4c4b",
   "metadata": {},
   "outputs": [],
   "source": [
    "# 멤버들이 각각 부모가 된 나이를 칼럼으로 가지는 ParenthoodAge칼럼 추가해보자.\n",
    "Member$parenthoodAge = Member$age - Member$childAge"
   ]
  },
  {
   "cell_type": "code",
   "execution_count": 8,
   "id": "d8ebff9c",
   "metadata": {},
   "outputs": [
    {
     "data": {
      "text/html": [
       "<table class=\"dataframe\">\n",
       "<caption>A data.frame: 4 × 5</caption>\n",
       "<thead>\n",
       "\t<tr><th scope=col>name</th><th scope=col>age</th><th scope=col>bloodType</th><th scope=col>childAge</th><th scope=col>parenthoodAge</th></tr>\n",
       "\t<tr><th scope=col>&lt;chr&gt;</th><th scope=col>&lt;dbl&gt;</th><th scope=col>&lt;chr&gt;</th><th scope=col>&lt;dbl&gt;</th><th scope=col>&lt;dbl&gt;</th></tr>\n",
       "</thead>\n",
       "<tbody>\n",
       "\t<tr><td>Mika </td><td>27</td><td>A </td><td> 2</td><td>25</td></tr>\n",
       "\t<tr><td>Josep</td><td>45</td><td>B </td><td>11</td><td>34</td></tr>\n",
       "\t<tr><td>Kadar</td><td>31</td><td>AB</td><td>13</td><td>18</td></tr>\n",
       "\t<tr><td>Messi</td><td>46</td><td>O </td><td>20</td><td>26</td></tr>\n",
       "</tbody>\n",
       "</table>\n"
      ],
      "text/latex": [
       "A data.frame: 4 × 5\n",
       "\\begin{tabular}{lllll}\n",
       " name & age & bloodType & childAge & parenthoodAge\\\\\n",
       " <chr> & <dbl> & <chr> & <dbl> & <dbl>\\\\\n",
       "\\hline\n",
       "\t Mika  & 27 & A  &  2 & 25\\\\\n",
       "\t Josep & 45 & B  & 11 & 34\\\\\n",
       "\t Kadar & 31 & AB & 13 & 18\\\\\n",
       "\t Messi & 46 & O  & 20 & 26\\\\\n",
       "\\end{tabular}\n"
      ],
      "text/markdown": [
       "\n",
       "A data.frame: 4 × 5\n",
       "\n",
       "| name &lt;chr&gt; | age &lt;dbl&gt; | bloodType &lt;chr&gt; | childAge &lt;dbl&gt; | parenthoodAge &lt;dbl&gt; |\n",
       "|---|---|---|---|---|\n",
       "| Mika  | 27 | A  |  2 | 25 |\n",
       "| Josep | 45 | B  | 11 | 34 |\n",
       "| Kadar | 31 | AB | 13 | 18 |\n",
       "| Messi | 46 | O  | 20 | 26 |\n",
       "\n"
      ],
      "text/plain": [
       "  name  age bloodType childAge parenthoodAge\n",
       "1 Mika  27  A          2       25           \n",
       "2 Josep 45  B         11       34           \n",
       "3 Kadar 31  AB        13       18           \n",
       "4 Messi 46  O         20       26           "
      ]
     },
     "metadata": {},
     "output_type": "display_data"
    }
   ],
   "source": [
    "Member"
   ]
  },
  {
   "cell_type": "markdown",
   "id": "6dcc5d1a",
   "metadata": {},
   "source": [
    "**Mika는 25살, Josep은 34살, Kadar는 18살, Messi는 26살에 부모가 되었음을 알 수 있다.**"
   ]
  },
  {
   "cell_type": "code",
   "execution_count": null,
   "id": "cd0920e7",
   "metadata": {},
   "outputs": [],
   "source": []
  },
  {
   "cell_type": "code",
   "execution_count": null,
   "id": "0979bcdf",
   "metadata": {},
   "outputs": [],
   "source": []
  },
  {
   "cell_type": "markdown",
   "id": "5d1d0352",
   "metadata": {},
   "source": [
    "**칼럼명 만 가져오기**"
   ]
  },
  {
   "cell_type": "code",
   "execution_count": 9,
   "id": "01a920ee",
   "metadata": {},
   "outputs": [
    {
     "data": {
      "text/html": [
       "<style>\n",
       ".list-inline {list-style: none; margin:0; padding: 0}\n",
       ".list-inline>li {display: inline-block}\n",
       ".list-inline>li:not(:last-child)::after {content: \"\\00b7\"; padding: 0 .5ex}\n",
       "</style>\n",
       "<ol class=list-inline><li>'name'</li><li>'age'</li><li>'bloodType'</li><li>'childAge'</li><li>'parenthoodAge'</li></ol>\n"
      ],
      "text/latex": [
       "\\begin{enumerate*}\n",
       "\\item 'name'\n",
       "\\item 'age'\n",
       "\\item 'bloodType'\n",
       "\\item 'childAge'\n",
       "\\item 'parenthoodAge'\n",
       "\\end{enumerate*}\n"
      ],
      "text/markdown": [
       "1. 'name'\n",
       "2. 'age'\n",
       "3. 'bloodType'\n",
       "4. 'childAge'\n",
       "5. 'parenthoodAge'\n",
       "\n",
       "\n"
      ],
      "text/plain": [
       "[1] \"name\"          \"age\"           \"bloodType\"     \"childAge\"     \n",
       "[5] \"parenthoodAge\""
      ]
     },
     "metadata": {},
     "output_type": "display_data"
    }
   ],
   "source": [
    "names(Member)"
   ]
  },
  {
   "cell_type": "code",
   "execution_count": null,
   "id": "e04d7d1d",
   "metadata": {},
   "outputs": [],
   "source": []
  },
  {
   "cell_type": "code",
   "execution_count": null,
   "id": "6cc87d82",
   "metadata": {},
   "outputs": [],
   "source": []
  },
  {
   "cell_type": "code",
   "execution_count": null,
   "id": "ac3d30c3",
   "metadata": {},
   "outputs": [],
   "source": []
  },
  {
   "cell_type": "markdown",
   "id": "20857f98",
   "metadata": {},
   "source": [
    "**list()함수로 데이터 리스트 만들기**"
   ]
  },
  {
   "cell_type": "code",
   "execution_count": 10,
   "id": "c50e6732",
   "metadata": {},
   "outputs": [
    {
     "ename": "ERROR",
     "evalue": "Error in eval(expr, envir, enclos): 객체 'MemberNames'를 찾을 수 없습니다\n",
     "output_type": "error",
     "traceback": [
      "Error in eval(expr, envir, enclos): 객체 'MemberNames'를 찾을 수 없습니다\nTraceback:\n"
     ]
    }
   ],
   "source": [
    "Member_list = list(MemberNames,  MemberAges)"
   ]
  },
  {
   "cell_type": "code",
   "execution_count": 11,
   "id": "b173a148",
   "metadata": {},
   "outputs": [
    {
     "ename": "ERROR",
     "evalue": "Error in eval(expr, envir, enclos): 객체 'Member_list'를 찾을 수 없습니다\n",
     "output_type": "error",
     "traceback": [
      "Error in eval(expr, envir, enclos): 객체 'Member_list'를 찾을 수 없습니다\nTraceback:\n"
     ]
    }
   ],
   "source": [
    "Member_list"
   ]
  },
  {
   "cell_type": "code",
   "execution_count": null,
   "id": "66eef0b0",
   "metadata": {},
   "outputs": [],
   "source": []
  },
  {
   "cell_type": "markdown",
   "id": "ce641d8d",
   "metadata": {},
   "source": [
    "**cbind()함수로 데이터 묶기**"
   ]
  },
  {
   "cell_type": "code",
   "execution_count": 12,
   "id": "2edc7e77",
   "metadata": {},
   "outputs": [
    {
     "ename": "ERROR",
     "evalue": "Error in cbind(MemberNames, MemberAges): 객체 'MemberNames'를 찾을 수 없습니다\n",
     "output_type": "error",
     "traceback": [
      "Error in cbind(MemberNames, MemberAges): 객체 'MemberNames'를 찾을 수 없습니다\nTraceback:\n",
      "1. cbind(MemberNames, MemberAges)"
     ]
    }
   ],
   "source": [
    "Member_Cbind = cbind(MemberNames,  MemberAges)"
   ]
  },
  {
   "cell_type": "code",
   "execution_count": 13,
   "id": "9959372f",
   "metadata": {},
   "outputs": [
    {
     "ename": "ERROR",
     "evalue": "Error in eval(expr, envir, enclos): 객체 'Member_Cbind'를 찾을 수 없습니다\n",
     "output_type": "error",
     "traceback": [
      "Error in eval(expr, envir, enclos): 객체 'Member_Cbind'를 찾을 수 없습니다\nTraceback:\n"
     ]
    }
   ],
   "source": [
    "Member_Cbind"
   ]
  },
  {
   "cell_type": "markdown",
   "id": "17b355ae",
   "metadata": {},
   "source": [
    "**matrix: 4 × 2 of type chr 데이터 타입이 chr(문자형)이라는 것을 볼 수 있다. cbind()는 데이터 타입이 모두 같을 때 쓰면 유용하다.**"
   ]
  },
  {
   "cell_type": "code",
   "execution_count": null,
   "id": "fd43c402",
   "metadata": {},
   "outputs": [],
   "source": []
  },
  {
   "cell_type": "markdown",
   "id": "88cedab8",
   "metadata": {},
   "source": [
    "**as.Date() 날짜변수를 지정할때 쓴다.**"
   ]
  },
  {
   "cell_type": "code",
   "execution_count": 17,
   "id": "58e14590",
   "metadata": {},
   "outputs": [],
   "source": [
    "mikaBirth <- as.Date(c('1991-08-15'))\n",
    "dannyBirth <- as.Date(c('1994-10-03'))"
   ]
  },
  {
   "cell_type": "code",
   "execution_count": 18,
   "id": "e732b381",
   "metadata": {},
   "outputs": [],
   "source": [
    "ageGap <- dannyBirth - mikaBirth"
   ]
  },
  {
   "cell_type": "code",
   "execution_count": 20,
   "id": "82141840",
   "metadata": {},
   "outputs": [],
   "source": [
    "ageGap <- mikaBirth - dannyBirth"
   ]
  },
  {
   "cell_type": "code",
   "execution_count": 21,
   "id": "66fe842e",
   "metadata": {},
   "outputs": [
    {
     "data": {
      "text/plain": [
       "Time difference of -1145 days"
      ]
     },
     "metadata": {},
     "output_type": "display_data"
    }
   ],
   "source": [
    "ageGap"
   ]
  },
  {
   "cell_type": "code",
   "execution_count": null,
   "id": "bbea7729",
   "metadata": {},
   "outputs": [],
   "source": []
  },
  {
   "cell_type": "markdown",
   "id": "c7583fe2",
   "metadata": {},
   "source": [
    "**데이터 프레임 내가 만들기**"
   ]
  },
  {
   "cell_type": "code",
   "execution_count": 25,
   "id": "76f471f8",
   "metadata": {},
   "outputs": [],
   "source": [
    "name <- c('Ben','Martin','Andy','Paul')\n",
    "birth_date <-as.Date(c('1977-07-23','1988-09-09','1973-09-01','1991-08-15'))\n",
    "job <- c('Student','Professor','Student','Student')\n",
    "friend <- c(5,4,3,2)\n",
    "alchol <- c(10,12,2,1)\n",
    "income <- c(2000,10000,40000,230000)"
   ]
  },
  {
   "cell_type": "code",
   "execution_count": 26,
   "id": "540a7ea5",
   "metadata": {},
   "outputs": [],
   "source": [
    "lectureData <-data.frame(name,birth_date,job,friend,alchol,income)"
   ]
  },
  {
   "cell_type": "code",
   "execution_count": 28,
   "id": "a2bd1e9c",
   "metadata": {},
   "outputs": [
    {
     "data": {
      "text/html": [
       "<table class=\"dataframe\">\n",
       "<caption>A data.frame: 4 × 6</caption>\n",
       "<thead>\n",
       "\t<tr><th scope=col>name</th><th scope=col>birth_date</th><th scope=col>job</th><th scope=col>friend</th><th scope=col>alchol</th><th scope=col>income</th></tr>\n",
       "\t<tr><th scope=col>&lt;chr&gt;</th><th scope=col>&lt;date&gt;</th><th scope=col>&lt;chr&gt;</th><th scope=col>&lt;dbl&gt;</th><th scope=col>&lt;dbl&gt;</th><th scope=col>&lt;dbl&gt;</th></tr>\n",
       "</thead>\n",
       "<tbody>\n",
       "\t<tr><td>Ben   </td><td>1977-07-23</td><td>Student  </td><td>5</td><td>10</td><td>  2000</td></tr>\n",
       "\t<tr><td>Martin</td><td>1988-09-09</td><td>Professor</td><td>4</td><td>12</td><td> 10000</td></tr>\n",
       "\t<tr><td>Andy  </td><td>1973-09-01</td><td>Student  </td><td>3</td><td> 2</td><td> 40000</td></tr>\n",
       "\t<tr><td>Paul  </td><td>1991-08-15</td><td>Student  </td><td>2</td><td> 1</td><td>230000</td></tr>\n",
       "</tbody>\n",
       "</table>\n"
      ],
      "text/latex": [
       "A data.frame: 4 × 6\n",
       "\\begin{tabular}{llllll}\n",
       " name & birth\\_date & job & friend & alchol & income\\\\\n",
       " <chr> & <date> & <chr> & <dbl> & <dbl> & <dbl>\\\\\n",
       "\\hline\n",
       "\t Ben    & 1977-07-23 & Student   & 5 & 10 &   2000\\\\\n",
       "\t Martin & 1988-09-09 & Professor & 4 & 12 &  10000\\\\\n",
       "\t Andy   & 1973-09-01 & Student   & 3 &  2 &  40000\\\\\n",
       "\t Paul   & 1991-08-15 & Student   & 2 &  1 & 230000\\\\\n",
       "\\end{tabular}\n"
      ],
      "text/markdown": [
       "\n",
       "A data.frame: 4 × 6\n",
       "\n",
       "| name &lt;chr&gt; | birth_date &lt;date&gt; | job &lt;chr&gt; | friend &lt;dbl&gt; | alchol &lt;dbl&gt; | income &lt;dbl&gt; |\n",
       "|---|---|---|---|---|---|\n",
       "| Ben    | 1977-07-23 | Student   | 5 | 10 |   2000 |\n",
       "| Martin | 1988-09-09 | Professor | 4 | 12 |  10000 |\n",
       "| Andy   | 1973-09-01 | Student   | 3 |  2 |  40000 |\n",
       "| Paul   | 1991-08-15 | Student   | 2 |  1 | 230000 |\n",
       "\n"
      ],
      "text/plain": [
       "  name   birth_date job       friend alchol income\n",
       "1 Ben    1977-07-23 Student   5      10       2000\n",
       "2 Martin 1988-09-09 Professor 4      12      10000\n",
       "3 Andy   1973-09-01 Student   3       2      40000\n",
       "4 Paul   1991-08-15 Student   2       1     230000"
      ]
     },
     "metadata": {},
     "output_type": "display_data"
    }
   ],
   "source": [
    "lectureData"
   ]
  },
  {
   "cell_type": "code",
   "execution_count": 30,
   "id": "2f0a74bd",
   "metadata": {},
   "outputs": [],
   "source": [
    "lectureData$job <-as.factor(lectureData$job)"
   ]
  },
  {
   "cell_type": "code",
   "execution_count": 31,
   "id": "85d2ed0a",
   "metadata": {},
   "outputs": [
    {
     "data": {
      "text/html": [
       "<table class=\"dataframe\">\n",
       "<caption>A data.frame: 4 × 6</caption>\n",
       "<thead>\n",
       "\t<tr><th scope=col>name</th><th scope=col>birth_date</th><th scope=col>job</th><th scope=col>friend</th><th scope=col>alchol</th><th scope=col>income</th></tr>\n",
       "\t<tr><th scope=col>&lt;chr&gt;</th><th scope=col>&lt;date&gt;</th><th scope=col>&lt;fct&gt;</th><th scope=col>&lt;dbl&gt;</th><th scope=col>&lt;dbl&gt;</th><th scope=col>&lt;dbl&gt;</th></tr>\n",
       "</thead>\n",
       "<tbody>\n",
       "\t<tr><td>Ben   </td><td>1977-07-23</td><td>Student  </td><td>5</td><td>10</td><td>  2000</td></tr>\n",
       "\t<tr><td>Martin</td><td>1988-09-09</td><td>Professor</td><td>4</td><td>12</td><td> 10000</td></tr>\n",
       "\t<tr><td>Andy  </td><td>1973-09-01</td><td>Student  </td><td>3</td><td> 2</td><td> 40000</td></tr>\n",
       "\t<tr><td>Paul  </td><td>1991-08-15</td><td>Student  </td><td>2</td><td> 1</td><td>230000</td></tr>\n",
       "</tbody>\n",
       "</table>\n"
      ],
      "text/latex": [
       "A data.frame: 4 × 6\n",
       "\\begin{tabular}{llllll}\n",
       " name & birth\\_date & job & friend & alchol & income\\\\\n",
       " <chr> & <date> & <fct> & <dbl> & <dbl> & <dbl>\\\\\n",
       "\\hline\n",
       "\t Ben    & 1977-07-23 & Student   & 5 & 10 &   2000\\\\\n",
       "\t Martin & 1988-09-09 & Professor & 4 & 12 &  10000\\\\\n",
       "\t Andy   & 1973-09-01 & Student   & 3 &  2 &  40000\\\\\n",
       "\t Paul   & 1991-08-15 & Student   & 2 &  1 & 230000\\\\\n",
       "\\end{tabular}\n"
      ],
      "text/markdown": [
       "\n",
       "A data.frame: 4 × 6\n",
       "\n",
       "| name &lt;chr&gt; | birth_date &lt;date&gt; | job &lt;fct&gt; | friend &lt;dbl&gt; | alchol &lt;dbl&gt; | income &lt;dbl&gt; |\n",
       "|---|---|---|---|---|---|\n",
       "| Ben    | 1977-07-23 | Student   | 5 | 10 |   2000 |\n",
       "| Martin | 1988-09-09 | Professor | 4 | 12 |  10000 |\n",
       "| Andy   | 1973-09-01 | Student   | 3 |  2 |  40000 |\n",
       "| Paul   | 1991-08-15 | Student   | 2 |  1 | 230000 |\n",
       "\n"
      ],
      "text/plain": [
       "  name   birth_date job       friend alchol income\n",
       "1 Ben    1977-07-23 Student   5      10       2000\n",
       "2 Martin 1988-09-09 Professor 4      12      10000\n",
       "3 Andy   1973-09-01 Student   3       2      40000\n",
       "4 Paul   1991-08-15 Student   2       1     230000"
      ]
     },
     "metadata": {},
     "output_type": "display_data"
    }
   ],
   "source": [
    "lectureData"
   ]
  },
  {
   "cell_type": "code",
   "execution_count": null,
   "id": "bbd7bdab",
   "metadata": {},
   "outputs": [],
   "source": []
  }
 ],
 "metadata": {
  "kernelspec": {
   "display_name": "R",
   "language": "R",
   "name": "ir"
  },
  "language_info": {
   "codemirror_mode": "r",
   "file_extension": ".r",
   "mimetype": "text/x-r-source",
   "name": "R",
   "pygments_lexer": "r",
   "version": "4.1.0"
  }
 },
 "nbformat": 4,
 "nbformat_minor": 5
}
