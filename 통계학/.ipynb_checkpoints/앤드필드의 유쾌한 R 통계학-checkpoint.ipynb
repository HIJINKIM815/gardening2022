{
 "cells": [
  {
   "cell_type": "markdown",
   "id": "aeeefb01",
   "metadata": {},
   "source": [
    "**데이터프레임 생성**"
   ]
  },
  {
   "cell_type": "code",
   "execution_count": 1,
   "id": "1c7a78cc",
   "metadata": {},
   "outputs": [
    {
     "ename": "NameError",
     "evalue": "name 'Members' is not defined",
     "output_type": "error",
     "traceback": [
      "\u001b[0;31m---------------------------------------------------------------------------\u001b[0m",
      "\u001b[0;31mNameError\u001b[0m                                 Traceback (most recent call last)",
      "\u001b[0;32m/var/folders/zz/lwjzp_r130b4y7w9qcwwkfhr0000gn/T/ipykernel_5527/1016235155.py\u001b[0m in \u001b[0;36m<module>\u001b[0;34m\u001b[0m\n\u001b[0;32m----> 1\u001b[0;31m \u001b[0mMembers\u001b[0m \u001b[0;34m<\u001b[0m\u001b[0;34m-\u001b[0m \u001b[0mc\u001b[0m \u001b[0;34m(\u001b[0m\u001b[0;34m'Mika'\u001b[0m\u001b[0;34m,\u001b[0m\u001b[0;34m'Josep'\u001b[0m\u001b[0;34m,\u001b[0m\u001b[0;34m'Kadar'\u001b[0m\u001b[0;34m,\u001b[0m\u001b[0;34m'Messi'\u001b[0m\u001b[0;34m)\u001b[0m\u001b[0;34m\u001b[0m\u001b[0;34m\u001b[0m\u001b[0m\n\u001b[0m\u001b[1;32m      2\u001b[0m \u001b[0mmetallicaAges\u001b[0m \u001b[0;34m<\u001b[0m\u001b[0;34m-\u001b[0m \u001b[0mc\u001b[0m \u001b[0;34m(\u001b[0m\u001b[0;36m27\u001b[0m\u001b[0;34m,\u001b[0m\u001b[0;36m45\u001b[0m\u001b[0;34m,\u001b[0m\u001b[0;36m31\u001b[0m\u001b[0;34m,\u001b[0m\u001b[0;36m46\u001b[0m\u001b[0;34m)\u001b[0m\u001b[0;34m\u001b[0m\u001b[0;34m\u001b[0m\u001b[0m\n",
      "\u001b[0;31mNameError\u001b[0m: name 'Members' is not defined"
     ]
    }
   ],
   "source": [
    "\n",
    "MembersN <- c ('Mika','Josep','Kadar','Messi')\n",
    "metallicaAges <- c (27,45,31,46)"
   ]
  },
  {
   "cell_type": "code",
   "execution_count": 15,
   "id": "8a11e6a7",
   "metadata": {},
   "outputs": [],
   "source": [
    "metallica <- data.frame(Name = metallicaNames, Age = metallicaAges)"
   ]
  },
  {
   "cell_type": "code",
   "execution_count": 16,
   "id": "db576156",
   "metadata": {},
   "outputs": [
    {
     "data": {
      "text/html": [
       "<table class=\"dataframe\">\n",
       "<caption>A data.frame: 4 × 2</caption>\n",
       "<thead>\n",
       "\t<tr><th scope=col>Name</th><th scope=col>Age</th></tr>\n",
       "\t<tr><th scope=col>&lt;chr&gt;</th><th scope=col>&lt;dbl&gt;</th></tr>\n",
       "</thead>\n",
       "<tbody>\n",
       "\t<tr><td>Lars </td><td>47</td></tr>\n",
       "\t<tr><td>James</td><td>47</td></tr>\n",
       "\t<tr><td>Kirk </td><td>48</td></tr>\n",
       "\t<tr><td>Rob  </td><td>46</td></tr>\n",
       "</tbody>\n",
       "</table>\n"
      ],
      "text/latex": [
       "A data.frame: 4 × 2\n",
       "\\begin{tabular}{ll}\n",
       " Name & Age\\\\\n",
       " <chr> & <dbl>\\\\\n",
       "\\hline\n",
       "\t Lars  & 47\\\\\n",
       "\t James & 47\\\\\n",
       "\t Kirk  & 48\\\\\n",
       "\t Rob   & 46\\\\\n",
       "\\end{tabular}\n"
      ],
      "text/markdown": [
       "\n",
       "A data.frame: 4 × 2\n",
       "\n",
       "| Name &lt;chr&gt; | Age &lt;dbl&gt; |\n",
       "|---|---|\n",
       "| Lars  | 47 |\n",
       "| James | 47 |\n",
       "| Kirk  | 48 |\n",
       "| Rob   | 46 |\n",
       "\n"
      ],
      "text/plain": [
       "  Name  Age\n",
       "1 Lars  47 \n",
       "2 James 47 \n",
       "3 Kirk  48 \n",
       "4 Rob   46 "
      ]
     },
     "metadata": {},
     "output_type": "display_data"
    }
   ],
   "source": [
    "metallica"
   ]
  },
  {
   "cell_type": "code",
   "execution_count": 17,
   "id": "7b9acc0d",
   "metadata": {},
   "outputs": [],
   "source": [
    "metallica$childAge <- c(12,11,13,23)"
   ]
  },
  {
   "cell_type": "code",
   "execution_count": 18,
   "id": "d5f63078",
   "metadata": {},
   "outputs": [
    {
     "data": {
      "text/html": [
       "<table class=\"dataframe\">\n",
       "<caption>A data.frame: 4 × 3</caption>\n",
       "<thead>\n",
       "\t<tr><th scope=col>Name</th><th scope=col>Age</th><th scope=col>childAge</th></tr>\n",
       "\t<tr><th scope=col>&lt;chr&gt;</th><th scope=col>&lt;dbl&gt;</th><th scope=col>&lt;dbl&gt;</th></tr>\n",
       "</thead>\n",
       "<tbody>\n",
       "\t<tr><td>Lars </td><td>47</td><td>12</td></tr>\n",
       "\t<tr><td>James</td><td>47</td><td>11</td></tr>\n",
       "\t<tr><td>Kirk </td><td>48</td><td>13</td></tr>\n",
       "\t<tr><td>Rob  </td><td>46</td><td>23</td></tr>\n",
       "</tbody>\n",
       "</table>\n"
      ],
      "text/latex": [
       "A data.frame: 4 × 3\n",
       "\\begin{tabular}{lll}\n",
       " Name & Age & childAge\\\\\n",
       " <chr> & <dbl> & <dbl>\\\\\n",
       "\\hline\n",
       "\t Lars  & 47 & 12\\\\\n",
       "\t James & 47 & 11\\\\\n",
       "\t Kirk  & 48 & 13\\\\\n",
       "\t Rob   & 46 & 23\\\\\n",
       "\\end{tabular}\n"
      ],
      "text/markdown": [
       "\n",
       "A data.frame: 4 × 3\n",
       "\n",
       "| Name &lt;chr&gt; | Age &lt;dbl&gt; | childAge &lt;dbl&gt; |\n",
       "|---|---|---|\n",
       "| Lars  | 47 | 12 |\n",
       "| James | 47 | 11 |\n",
       "| Kirk  | 48 | 13 |\n",
       "| Rob   | 46 | 23 |\n",
       "\n"
      ],
      "text/plain": [
       "  Name  Age childAge\n",
       "1 Lars  47  12      \n",
       "2 James 47  11      \n",
       "3 Kirk  48  13      \n",
       "4 Rob   46  23      "
      ]
     },
     "metadata": {},
     "output_type": "display_data"
    }
   ],
   "source": [
    "metallica"
   ]
  },
  {
   "cell_type": "code",
   "execution_count": 2,
   "id": "3bbd4bc1",
   "metadata": {},
   "outputs": [],
   "source": [
    "import pandas as pd\n",
    "\n",
    "metallica_Names = ['Lars','James','Kirk','Rob']\n",
    "metallica_Ages = [47,47,48,46]"
   ]
  },
  {
   "cell_type": "code",
   "execution_count": 17,
   "id": "c50e6732",
   "metadata": {},
   "outputs": [],
   "source": [
    "metallica = pd.DataFrame({'Name' : metallica_Names,'Age' : metallica_Ages})"
   ]
  },
  {
   "cell_type": "code",
   "execution_count": 18,
   "id": "b173a148",
   "metadata": {},
   "outputs": [
    {
     "data": {
      "text/html": [
       "<div>\n",
       "<style scoped>\n",
       "    .dataframe tbody tr th:only-of-type {\n",
       "        vertical-align: middle;\n",
       "    }\n",
       "\n",
       "    .dataframe tbody tr th {\n",
       "        vertical-align: top;\n",
       "    }\n",
       "\n",
       "    .dataframe thead th {\n",
       "        text-align: right;\n",
       "    }\n",
       "</style>\n",
       "<table border=\"1\" class=\"dataframe\">\n",
       "  <thead>\n",
       "    <tr style=\"text-align: right;\">\n",
       "      <th></th>\n",
       "      <th>Name</th>\n",
       "      <th>Age</th>\n",
       "    </tr>\n",
       "  </thead>\n",
       "  <tbody>\n",
       "    <tr>\n",
       "      <th>0</th>\n",
       "      <td>Lars</td>\n",
       "      <td>47</td>\n",
       "    </tr>\n",
       "    <tr>\n",
       "      <th>1</th>\n",
       "      <td>James</td>\n",
       "      <td>47</td>\n",
       "    </tr>\n",
       "    <tr>\n",
       "      <th>2</th>\n",
       "      <td>Kirk</td>\n",
       "      <td>48</td>\n",
       "    </tr>\n",
       "    <tr>\n",
       "      <th>3</th>\n",
       "      <td>Rob</td>\n",
       "      <td>46</td>\n",
       "    </tr>\n",
       "  </tbody>\n",
       "</table>\n",
       "</div>"
      ],
      "text/plain": [
       "    Name  Age\n",
       "0   Lars   47\n",
       "1  James   47\n",
       "2   Kirk   48\n",
       "3    Rob   46"
      ]
     },
     "execution_count": 18,
     "metadata": {},
     "output_type": "execute_result"
    }
   ],
   "source": [
    "metallica"
   ]
  },
  {
   "cell_type": "code",
   "execution_count": null,
   "id": "66eef0b0",
   "metadata": {},
   "outputs": [],
   "source": []
  }
 ],
 "metadata": {
  "kernelspec": {
   "display_name": "R",
   "language": "R",
   "name": "ir"
  },
  "language_info": {
   "codemirror_mode": "r",
   "file_extension": ".r",
   "mimetype": "text/x-r-source",
   "name": "R",
   "pygments_lexer": "r",
   "version": "4.1.0"
  }
 },
 "nbformat": 4,
 "nbformat_minor": 5
}
