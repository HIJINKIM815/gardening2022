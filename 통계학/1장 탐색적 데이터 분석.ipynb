{
 "cells": [
  {
   "cell_type": "markdown",
   "id": "85cbb468",
   "metadata": {},
   "source": [
    "# 1.3.3 예제 : 인구에 따른 살인 비율의 위치 추정"
   ]
  },
  {
   "cell_type": "code",
   "execution_count": 127,
   "id": "1c91b074",
   "metadata": {},
   "outputs": [],
   "source": [
    "import pandas as pd\n",
    "import numpy as np\n",
    "import matplotlib.pyplot as plt"
   ]
  },
  {
   "cell_type": "markdown",
   "id": "8381a480",
   "metadata": {},
   "source": [
    "**2010년 미국 각 주별로 인구 10만명당 살인 비율**"
   ]
  },
  {
   "cell_type": "code",
   "execution_count": 6,
   "id": "d383e30f",
   "metadata": {},
   "outputs": [],
   "source": [
    "state= pd.read_csv('./data/state.csv')"
   ]
  },
  {
   "cell_type": "code",
   "execution_count": 7,
   "id": "a9c1c14a",
   "metadata": {},
   "outputs": [
    {
     "data": {
      "text/html": [
       "<div>\n",
       "<style scoped>\n",
       "    .dataframe tbody tr th:only-of-type {\n",
       "        vertical-align: middle;\n",
       "    }\n",
       "\n",
       "    .dataframe tbody tr th {\n",
       "        vertical-align: top;\n",
       "    }\n",
       "\n",
       "    .dataframe thead th {\n",
       "        text-align: right;\n",
       "    }\n",
       "</style>\n",
       "<table border=\"1\" class=\"dataframe\">\n",
       "  <thead>\n",
       "    <tr style=\"text-align: right;\">\n",
       "      <th></th>\n",
       "      <th>State</th>\n",
       "      <th>Population</th>\n",
       "      <th>Murder.Rate</th>\n",
       "      <th>Abbreviation</th>\n",
       "    </tr>\n",
       "  </thead>\n",
       "  <tbody>\n",
       "    <tr>\n",
       "      <th>0</th>\n",
       "      <td>Alabama</td>\n",
       "      <td>4779736</td>\n",
       "      <td>5.7</td>\n",
       "      <td>AL</td>\n",
       "    </tr>\n",
       "    <tr>\n",
       "      <th>1</th>\n",
       "      <td>Alaska</td>\n",
       "      <td>710231</td>\n",
       "      <td>5.6</td>\n",
       "      <td>AK</td>\n",
       "    </tr>\n",
       "    <tr>\n",
       "      <th>2</th>\n",
       "      <td>Arizona</td>\n",
       "      <td>6392017</td>\n",
       "      <td>4.7</td>\n",
       "      <td>AZ</td>\n",
       "    </tr>\n",
       "    <tr>\n",
       "      <th>3</th>\n",
       "      <td>Arkansas</td>\n",
       "      <td>2915918</td>\n",
       "      <td>5.6</td>\n",
       "      <td>AR</td>\n",
       "    </tr>\n",
       "    <tr>\n",
       "      <th>4</th>\n",
       "      <td>California</td>\n",
       "      <td>37253956</td>\n",
       "      <td>4.4</td>\n",
       "      <td>CA</td>\n",
       "    </tr>\n",
       "  </tbody>\n",
       "</table>\n",
       "</div>"
      ],
      "text/plain": [
       "        State  Population  Murder.Rate Abbreviation\n",
       "0     Alabama     4779736          5.7           AL\n",
       "1      Alaska      710231          5.6           AK\n",
       "2     Arizona     6392017          4.7           AZ\n",
       "3    Arkansas     2915918          5.6           AR\n",
       "4  California    37253956          4.4           CA"
      ]
     },
     "execution_count": 7,
     "metadata": {},
     "output_type": "execute_result"
    }
   ],
   "source": [
    "state.head(5)"
   ]
  },
  {
   "cell_type": "code",
   "execution_count": 9,
   "id": "eab8eb86",
   "metadata": {},
   "outputs": [
    {
     "data": {
      "text/plain": [
       "6162876.3"
      ]
     },
     "execution_count": 9,
     "metadata": {},
     "output_type": "execute_result"
    }
   ],
   "source": [
    "# 인구의 평균 구하기\n",
    "state['Population'].mean()"
   ]
  },
  {
   "cell_type": "markdown",
   "id": "ba7e0413",
   "metadata": {},
   "source": [
    "**절사평균 : 크기 순으로 정렬한 후 양 끝에서 일정 개수의 값들을 삭제한 뒤 남은 값들을 가지고 구한 평균을 말한다.**"
   ]
  },
  {
   "cell_type": "code",
   "execution_count": 41,
   "id": "bf35693e",
   "metadata": {},
   "outputs": [
    {
     "name": "stdout",
     "output_type": "stream",
     "text": [
      "4783697.125\n"
     ]
    }
   ],
   "source": [
    "# trim = 0.1 인 절사평균을 구해보자. \n",
    "len(state['Population']) # state는 50개가 있고, 인구 데이터를 크기 순으로 정렬한 후 양쪽에서 0.1의 비율 즉 5개씩을 제외하고 남은 값들의 평균을 구해야한다.\n",
    "sorted_pop = sorted(state['Population'].tolist())\n",
    "trim_1_of_mean = np.mean(sorted_pop[5:-5])\n",
    "print(trim_1_of_mean)"
   ]
  },
  {
   "cell_type": "code",
   "execution_count": 45,
   "id": "4f1b8100",
   "metadata": {},
   "outputs": [
    {
     "data": {
      "text/plain": [
       "4783697.125"
      ]
     },
     "execution_count": 45,
     "metadata": {},
     "output_type": "execute_result"
    }
   ],
   "source": [
    "from scipy import stats\n",
    "stats.trim_mean(state['Population'],0.1)"
   ]
  },
  {
   "cell_type": "markdown",
   "id": "0168ce1e",
   "metadata": {},
   "source": [
    "**가중평균 : 주마다 인구수(Population)이 다르기 때문에 미국 전체의 MurderRate를 구할때 단순히 더한값을 50(주의 개수)로 나누는것이 아니라, 인구수에 가중치를 주어야한다.**"
   ]
  },
  {
   "cell_type": "code",
   "execution_count": 46,
   "id": "e671c764",
   "metadata": {},
   "outputs": [],
   "source": [
    "# Murder.Rate의 정의는 Murder.Rate = (실제 살인사건 발생률 / 주의 인구수)*10만 미국 전체의 인구 10만명당 살인 사건을 구하기 위해서는\n",
    "# 각 주의 범죄율에 각 주의 인구수를 곱하고 전체 미국의 인구수를 나누어준 값을 더해야한다.\n",
    "state['Population_Rate'] = state['Population']/state['Population'].sum()"
   ]
  },
  {
   "cell_type": "code",
   "execution_count": 50,
   "id": "e2f47733",
   "metadata": {},
   "outputs": [
    {
     "data": {
      "text/plain": [
       "4.445833981123394"
      ]
     },
     "execution_count": 50,
     "metadata": {},
     "output_type": "execute_result"
    }
   ],
   "source": [
    "sum(state['Murder.Rate']*state['Population_Rate'])"
   ]
  },
  {
   "cell_type": "markdown",
   "id": "91a35ce0",
   "metadata": {},
   "source": [
    "# 1.4.3 예제 : 주별 인구의 변이 추정"
   ]
  },
  {
   "cell_type": "markdown",
   "id": "9721893f",
   "metadata": {},
   "source": [
    "**표준편차, 사분위 범위(IQR), 중위 절대편차(MAD) 구하기**"
   ]
  },
  {
   "cell_type": "code",
   "execution_count": 57,
   "id": "40f4c462",
   "metadata": {},
   "outputs": [
    {
     "name": "stdout",
     "output_type": "stream",
     "text": [
      "4847308.0\n"
     ]
    }
   ],
   "source": [
    "state['Population'].std() # 표준편차\n",
    "IQR=state['Population'].quantile(0.75)-state['Population'].quantile(0.25)\n",
    "print(IQR)"
   ]
  },
  {
   "cell_type": "code",
   "execution_count": 88,
   "id": "bbd923f3",
   "metadata": {},
   "outputs": [
    {
     "data": {
      "text/plain": [
       "2596702.0"
      ]
     },
     "execution_count": 88,
     "metadata": {},
     "output_type": "execute_result"
    }
   ],
   "source": [
    "# 중위 절대 편차(MAD)\n",
    "pop_med = state['Population'].median() # 인구의 중간값\n",
    "abs_pop_minus_med = abs(state['Population']-4436369.5) # 인구데이터에서 중간값을 뺀 값들의 절대값\n",
    "abs_pop_minus_med.median() # 이 값은 c=1이라는 파라미터를 설정해주어야만한다. "
   ]
  },
  {
   "cell_type": "code",
   "execution_count": 111,
   "id": "c38381f7",
   "metadata": {},
   "outputs": [
    {
     "data": {
      "text/plain": [
       "3849876.1459979336"
      ]
     },
     "execution_count": 111,
     "metadata": {},
     "output_type": "execute_result"
    }
   ],
   "source": [
    "import statsmodels.robust\n",
    "statsmodels.robust.scale.mad(state['Population'],c=0.6744897501960817) # default c값은 c=0.6744897501960817 이다. "
   ]
  },
  {
   "cell_type": "code",
   "execution_count": 117,
   "id": "46730c39",
   "metadata": {},
   "outputs": [
    {
     "data": {
      "text/plain": [
       "2596702.0"
      ]
     },
     "execution_count": 117,
     "metadata": {},
     "output_type": "execute_result"
    }
   ],
   "source": [
    "statsmodels.robust.scale.mad(state['Population'],c=1)"
   ]
  },
  {
   "cell_type": "code",
   "execution_count": null,
   "id": "b89fc50e",
   "metadata": {},
   "outputs": [],
   "source": [
    "# c=1 이라는 파라미터의 의미는? 가우시안 분포를 따를 때 c=0.6745라는 디폴트 값을 넣어서 계산하도록 한다. "
   ]
  },
  {
   "cell_type": "markdown",
   "id": "0a177172",
   "metadata": {},
   "source": [
    "**로버스트의 사전적 의미는 '건장한' 이지만 통계학에서는 다른 이상치나, 에러값이 있어도 영향을 크게 받지 않는 통계량을 의미한다.**"
   ]
  },
  {
   "cell_type": "code",
   "execution_count": 120,
   "id": "7c7d157a",
   "metadata": {},
   "outputs": [
    {
     "name": "stdout",
     "output_type": "stream",
     "text": [
      "[ 0  2  4  6  8 10 12 14 16 18]\n"
     ]
    },
    {
     "data": {
      "text/plain": [
       "8.895613311033612"
      ]
     },
     "execution_count": 120,
     "metadata": {},
     "output_type": "execute_result"
    }
   ],
   "source": [
    "zeroto18 = np.arange(0,20,2)\n",
    "print(zeroto18) \n",
    "data = np.append(zeroto18,100) # 100이라는 특이값을 추가 해주기\n",
    "statsmodels.robust.scale.mad(zeroto18)\n",
    "statsmodels.robust.scale.mad(data)"
   ]
  },
  {
   "cell_type": "code",
   "execution_count": 122,
   "id": "b93d0219",
   "metadata": {},
   "outputs": [
    {
     "data": {
      "text/plain": [
       "5.744562646538029"
      ]
     },
     "execution_count": 122,
     "metadata": {},
     "output_type": "execute_result"
    }
   ],
   "source": [
    "zeroto18.std()"
   ]
  },
  {
   "cell_type": "code",
   "execution_count": 123,
   "id": "05892d45",
   "metadata": {},
   "outputs": [
    {
     "data": {
      "text/plain": [
       "26.727891149307982"
      ]
     },
     "execution_count": 123,
     "metadata": {},
     "output_type": "execute_result"
    }
   ],
   "source": [
    "data.std()"
   ]
  },
  {
   "cell_type": "markdown",
   "id": "1505082b",
   "metadata": {},
   "source": [
    "# 1.5.1 백분위수와 상자그림"
   ]
  },
  {
   "cell_type": "code",
   "execution_count": 126,
   "id": "aabab227",
   "metadata": {},
   "outputs": [
    {
     "data": {
      "text/plain": [
       "0.05    1.60\n",
       "0.10    1.89\n",
       "0.50    4.00\n",
       "0.75    5.55\n",
       "0.90    6.01\n",
       "Name: Murder.Rate, dtype: float64"
      ]
     },
     "execution_count": 126,
     "metadata": {},
     "output_type": "execute_result"
    }
   ],
   "source": [
    "state['Murder.Rate'].quantile([0.05,0.10,0.5,0.75,0.9])"
   ]
  },
  {
   "cell_type": "code",
   "execution_count": 133,
   "id": "84762cd3",
   "metadata": {},
   "outputs": [
    {
     "data": {
      "text/plain": [
       "Text(0.5, 0, 'Population (millions)')"
      ]
     },
     "execution_count": 133,
     "metadata": {},
     "output_type": "execute_result"
    },
    {
     "data": {
      "image/png": "[encoded data removed]",
      "text/plain": [
       "<Figure size 432x288 with 1 Axes>"
      ]
     },
     "metadata": {
      "needs_background": "light"
     },
     "output_type": "display_data"
    }
   ],
   "source": [
    "# 상자그림 \n",
    "plt.boxplot(state['Population']/1_000_000)\n",
    "plt.xlabel('Population (millions)')"
   ]
  },
  {
   "cell_type": "code",
   "execution_count": null,
   "id": "784f567c",
   "metadata": {},
   "outputs": [],
   "source": []
  }
 ],
 "metadata": {
  "kernelspec": {
   "display_name": "Python 3 (ipykernel)",
   "language": "python",
   "name": "python3"
  },
  "language_info": {
   "codemirror_mode": {
    "name": "ipython",
    "version": 3
   },
   "file_extension": ".py",
   "mimetype": "text/x-python",
   "name": "python",
   "nbconvert_exporter": "python",
   "pygments_lexer": "ipython3",
   "version": "3.9.7"
  }
 },
 "nbformat": 4,
 "nbformat_minor": 5
}
