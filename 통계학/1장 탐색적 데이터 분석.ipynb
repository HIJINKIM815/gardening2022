{
 "cells": [
  {
   "cell_type": "markdown",
   "id": "85cbb468",
   "metadata": {},
   "source": [
    "# 1.3.3 예제 : 인구에 따른 살인 비율의 위치 추정"
   ]
  },
  {
   "cell_type": "code",
   "execution_count": 1,
   "id": "1c91b074",
   "metadata": {},
   "outputs": [],
   "source": [
    "import pandas as pd\n",
    "import numpy as np\n",
    "import matplotlib.pyplot as plt"
   ]
  },
  {
   "cell_type": "markdown",
   "id": "8381a480",
   "metadata": {},
   "source": [
    "**2010년 미국 각 주별로 인구 10만명당 살인 비율**"
   ]
  },
  {
   "cell_type": "code",
   "execution_count": 2,
   "id": "d383e30f",
   "metadata": {},
   "outputs": [],
   "source": [
    "state= pd.read_csv('./data/state.csv')"
   ]
  },
  {
   "cell_type": "code",
   "execution_count": 3,
   "id": "a9c1c14a",
   "metadata": {},
   "outputs": [
    {
     "data": {
      "text/html": [
       "<div>\n",
       "<style scoped>\n",
       "    .dataframe tbody tr th:only-of-type {\n",
       "        vertical-align: middle;\n",
       "    }\n",
       "\n",
       "    .dataframe tbody tr th {\n",
       "        vertical-align: top;\n",
       "    }\n",
       "\n",
       "    .dataframe thead th {\n",
       "        text-align: right;\n",
       "    }\n",
       "</style>\n",
       "<table border=\"1\" class=\"dataframe\">\n",
       "  <thead>\n",
       "    <tr style=\"text-align: right;\">\n",
       "      <th></th>\n",
       "      <th>State</th>\n",
       "      <th>Population</th>\n",
       "      <th>Murder.Rate</th>\n",
       "      <th>Abbreviation</th>\n",
       "    </tr>\n",
       "  </thead>\n",
       "  <tbody>\n",
       "    <tr>\n",
       "      <th>0</th>\n",
       "      <td>Alabama</td>\n",
       "      <td>4779736</td>\n",
       "      <td>5.7</td>\n",
       "      <td>AL</td>\n",
       "    </tr>\n",
       "    <tr>\n",
       "      <th>1</th>\n",
       "      <td>Alaska</td>\n",
       "      <td>710231</td>\n",
       "      <td>5.6</td>\n",
       "      <td>AK</td>\n",
       "    </tr>\n",
       "    <tr>\n",
       "      <th>2</th>\n",
       "      <td>Arizona</td>\n",
       "      <td>6392017</td>\n",
       "      <td>4.7</td>\n",
       "      <td>AZ</td>\n",
       "    </tr>\n",
       "    <tr>\n",
       "      <th>3</th>\n",
       "      <td>Arkansas</td>\n",
       "      <td>2915918</td>\n",
       "      <td>5.6</td>\n",
       "      <td>AR</td>\n",
       "    </tr>\n",
       "    <tr>\n",
       "      <th>4</th>\n",
       "      <td>California</td>\n",
       "      <td>37253956</td>\n",
       "      <td>4.4</td>\n",
       "      <td>CA</td>\n",
       "    </tr>\n",
       "  </tbody>\n",
       "</table>\n",
       "</div>"
      ],
      "text/plain": [
       "        State  Population  Murder.Rate Abbreviation\n",
       "0     Alabama     4779736          5.7           AL\n",
       "1      Alaska      710231          5.6           AK\n",
       "2     Arizona     6392017          4.7           AZ\n",
       "3    Arkansas     2915918          5.6           AR\n",
       "4  California    37253956          4.4           CA"
      ]
     },
     "execution_count": 3,
     "metadata": {},
     "output_type": "execute_result"
    }
   ],
   "source": [
    "state.head(5)"
   ]
  },
  {
   "cell_type": "code",
   "execution_count": 4,
   "id": "eab8eb86",
   "metadata": {},
   "outputs": [
    {
     "data": {
      "text/plain": [
       "6162876.3"
      ]
     },
     "execution_count": 4,
     "metadata": {},
     "output_type": "execute_result"
    }
   ],
   "source": [
    "# 인구의 평균 구하기\n",
    "state['Population'].mean()"
   ]
  },
  {
   "cell_type": "markdown",
   "id": "ba7e0413",
   "metadata": {},
   "source": [
    "**절사평균 : 크기 순으로 정렬한 후 양 끝에서 일정 개수의 값들을 삭제한 뒤 남은 값들을 가지고 구한 평균을 말한다.**"
   ]
  },
  {
   "cell_type": "code",
   "execution_count": 5,
   "id": "bf35693e",
   "metadata": {},
   "outputs": [
    {
     "name": "stdout",
     "output_type": "stream",
     "text": [
      "4783697.125\n"
     ]
    }
   ],
   "source": [
    "# trim = 0.1 인 절사평균을 구해보자. \n",
    "len(state['Population']) # state는 50개가 있고, 인구 데이터를 크기 순으로 정렬한 후 양쪽에서 0.1의 비율 즉 5개씩을 제외하고 남은 값들의 평균을 구해야한다.\n",
    "sorted_pop = sorted(state['Population'].tolist())\n",
    "trim_1_of_mean = np.mean(sorted_pop[5:-5])\n",
    "print(trim_1_of_mean)"
   ]
  },
  {
   "cell_type": "code",
   "execution_count": 6,
   "id": "4f1b8100",
   "metadata": {},
   "outputs": [
    {
     "data": {
      "text/plain": [
       "4783697.125"
      ]
     },
     "execution_count": 6,
     "metadata": {},
     "output_type": "execute_result"
    }
   ],
   "source": [
    "from scipy import stats\n",
    "stats.trim_mean(state['Population'],0.1)"
   ]
  },
  {
   "cell_type": "markdown",
   "id": "0168ce1e",
   "metadata": {},
   "source": [
    "**가중평균 : 주마다 인구수(Population)이 다르기 때문에 미국 전체의 MurderRate를 구할때 단순히 더한값을 50(주의 개수)로 나누는것이 아니라, 인구수에 가중치를 주어야한다.**"
   ]
  },
  {
   "cell_type": "code",
   "execution_count": 7,
   "id": "e671c764",
   "metadata": {},
   "outputs": [],
   "source": [
    "# Murder.Rate의 정의는 Murder.Rate = (실제 살인사건 발생률 / 주의 인구수)*10만 미국 전체의 인구 10만명당 살인 사건을 구하기 위해서는\n",
    "# 각 주의 범죄율에 각 주의 인구수를 곱하고 전체 미국의 인구수를 나누어준 값을 더해야한다.\n",
    "state['Population_Rate'] = state['Population']/state['Population'].sum()"
   ]
  },
  {
   "cell_type": "code",
   "execution_count": 8,
   "id": "e2f47733",
   "metadata": {},
   "outputs": [
    {
     "data": {
      "text/plain": [
       "4.445833981123394"
      ]
     },
     "execution_count": 8,
     "metadata": {},
     "output_type": "execute_result"
    }
   ],
   "source": [
    "sum(state['Murder.Rate']*state['Population_Rate'])"
   ]
  },
  {
   "cell_type": "markdown",
   "id": "91a35ce0",
   "metadata": {},
   "source": [
    "# 1.4.3 예제 : 주별 인구의 변이 추정"
   ]
  },
  {
   "cell_type": "markdown",
   "id": "9721893f",
   "metadata": {},
   "source": [
    "**표준편차, 사분위 범위(IQR), 중위 절대편차(MAD) 구하기**"
   ]
  },
  {
   "cell_type": "code",
   "execution_count": 9,
   "id": "40f4c462",
   "metadata": {},
   "outputs": [
    {
     "name": "stdout",
     "output_type": "stream",
     "text": [
      "4847308.0\n"
     ]
    }
   ],
   "source": [
    "state['Population'].std() # 표준편차\n",
    "IQR=state['Population'].quantile(0.75)-state['Population'].quantile(0.25)\n",
    "print(IQR)"
   ]
  },
  {
   "cell_type": "code",
   "execution_count": 10,
   "id": "bbd923f3",
   "metadata": {},
   "outputs": [
    {
     "data": {
      "text/plain": [
       "2596702.0"
      ]
     },
     "execution_count": 10,
     "metadata": {},
     "output_type": "execute_result"
    }
   ],
   "source": [
    "# 중위 절대 편차(MAD)\n",
    "pop_med = state['Population'].median() # 인구의 중간값\n",
    "abs_pop_minus_med = abs(state['Population']-4436369.5) # 인구데이터에서 중간값을 뺀 값들의 절대값\n",
    "abs_pop_minus_med.median() # 이 값은 c=1이라는 파라미터를 설정해주어야만한다. "
   ]
  },
  {
   "cell_type": "code",
   "execution_count": 11,
   "id": "c38381f7",
   "metadata": {},
   "outputs": [
    {
     "data": {
      "text/plain": [
       "3849876.1459979336"
      ]
     },
     "execution_count": 11,
     "metadata": {},
     "output_type": "execute_result"
    }
   ],
   "source": [
    "import statsmodels.robust\n",
    "statsmodels.robust.scale.mad(state['Population'],c=0.6744897501960817) # default c값은 c=0.6744897501960817 이다. "
   ]
  },
  {
   "cell_type": "code",
   "execution_count": 12,
   "id": "46730c39",
   "metadata": {},
   "outputs": [
    {
     "data": {
      "text/plain": [
       "2596702.0"
      ]
     },
     "execution_count": 12,
     "metadata": {},
     "output_type": "execute_result"
    }
   ],
   "source": [
    "statsmodels.robust.scale.mad(state['Population'],c=1)"
   ]
  },
  {
   "cell_type": "code",
   "execution_count": 13,
   "id": "b89fc50e",
   "metadata": {},
   "outputs": [],
   "source": [
    "# c=1 이라는 파라미터의 의미는? 가우시안 분포를 따를 때 c=0.6745라는 디폴트 값을 넣어서 계산하도록 한다. "
   ]
  },
  {
   "cell_type": "markdown",
   "id": "0a177172",
   "metadata": {},
   "source": [
    "**로버스트의 사전적 의미는 '건장한' 이지만 통계학에서는 다른 이상치나, 에러값이 있어도 영향을 크게 받지 않는 통계량을 의미한다.**"
   ]
  },
  {
   "cell_type": "code",
   "execution_count": 14,
   "id": "7c7d157a",
   "metadata": {},
   "outputs": [
    {
     "name": "stdout",
     "output_type": "stream",
     "text": [
      "[ 0  2  4  6  8 10 12 14 16 18]\n"
     ]
    },
    {
     "data": {
      "text/plain": [
       "8.895613311033612"
      ]
     },
     "execution_count": 14,
     "metadata": {},
     "output_type": "execute_result"
    }
   ],
   "source": [
    "zeroto18 = np.arange(0,20,2)\n",
    "print(zeroto18) \n",
    "data = np.append(zeroto18,100) # 100이라는 특이값을 추가 해주기\n",
    "statsmodels.robust.scale.mad(zeroto18)\n",
    "statsmodels.robust.scale.mad(data)"
   ]
  },
  {
   "cell_type": "code",
   "execution_count": 15,
   "id": "b93d0219",
   "metadata": {},
   "outputs": [
    {
     "data": {
      "text/plain": [
       "5.744562646538029"
      ]
     },
     "execution_count": 15,
     "metadata": {},
     "output_type": "execute_result"
    }
   ],
   "source": [
    "zeroto18.std()"
   ]
  },
  {
   "cell_type": "code",
   "execution_count": 16,
   "id": "05892d45",
   "metadata": {},
   "outputs": [
    {
     "data": {
      "text/plain": [
       "26.727891149307982"
      ]
     },
     "execution_count": 16,
     "metadata": {},
     "output_type": "execute_result"
    }
   ],
   "source": [
    "data.std()"
   ]
  },
  {
   "cell_type": "markdown",
   "id": "1505082b",
   "metadata": {},
   "source": [
    "# 1.5.1 백분위수와 상자그림"
   ]
  },
  {
   "cell_type": "code",
   "execution_count": 17,
   "id": "aabab227",
   "metadata": {},
   "outputs": [
    {
     "data": {
      "text/plain": [
       "0.05    1.60\n",
       "0.10    1.89\n",
       "0.50    4.00\n",
       "0.75    5.55\n",
       "0.90    6.01\n",
       "Name: Murder.Rate, dtype: float64"
      ]
     },
     "execution_count": 17,
     "metadata": {},
     "output_type": "execute_result"
    }
   ],
   "source": [
    "state['Murder.Rate'].quantile([0.05,0.10,0.5,0.75,0.9])"
   ]
  },
  {
   "cell_type": "code",
   "execution_count": 18,
   "id": "84762cd3",
   "metadata": {},
   "outputs": [
    {
     "data": {
      "text/plain": [
       "Text(0.5, 0, 'Population (millions)')"
      ]
     },
     "execution_count": 18,
     "metadata": {},
     "output_type": "execute_result"
    },
    {
     "data": {
      "image/png": "[encoded data removed]",
      "text/plain": [
       "<Figure size 432x288 with 1 Axes>"
      ]
     },
     "metadata": {
      "needs_background": "light"
     },
     "output_type": "display_data"
    }
   ],
   "source": [
    "# 상자그림 \n",
    "plt.boxplot(state['Population']/1_000_000)\n",
    "plt.xlabel('Population (millions)')"
   ]
  },
  {
   "cell_type": "markdown",
   "id": "9f653101",
   "metadata": {},
   "source": [
    "# 1.5.2 도수 분포표와 히스토그램"
   ]
  },
  {
   "cell_type": "code",
   "execution_count": 19,
   "id": "de0b4587",
   "metadata": {},
   "outputs": [
    {
     "data": {
      "text/plain": [
       "(array([24., 14.,  6.,  2.,  1.,  1.,  1.,  0.,  0.,  1.]),\n",
       " array([  563626.,  4232659.,  7901692., 11570725., 15239758., 18908791.,\n",
       "        22577824., 26246857., 29915890., 33584923., 37253956.]),\n",
       " <BarContainer object of 10 artists>)"
      ]
     },
     "execution_count": 19,
     "metadata": {},
     "output_type": "execute_result"
    },
    {
     "data": {
      "image/png": "[encoded data removed]",
      "text/plain": [
       "<Figure size 432x288 with 1 Axes>"
      ]
     },
     "metadata": {
      "needs_background": "light"
     },
     "output_type": "display_data"
    }
   ],
   "source": [
    "plt.hist(state['Population'],bins=10) # 히스토그램"
   ]
  },
  {
   "cell_type": "markdown",
   "id": "62c90969",
   "metadata": {},
   "source": [
    "# 1.5.3 밀도 그림과 추정"
   ]
  },
  {
   "cell_type": "code",
   "execution_count": 20,
   "id": "1ad0929d",
   "metadata": {},
   "outputs": [
    {
     "data": {
      "text/plain": [
       "Text(0.5, 0, 'Murder Rate (per 100,000)')"
      ]
     },
     "execution_count": 20,
     "metadata": {},
     "output_type": "execute_result"
    },
    {
     "data": {
      "image/png": "[encoded data removed]",
      "text/plain": [
       "<Figure size 432x288 with 1 Axes>"
      ]
     },
     "metadata": {
      "needs_background": "light"
     },
     "output_type": "display_data"
    }
   ],
   "source": [
    "# 밀도 곡선의 부드러움을 제어하기 위해서 bw_method 인수 사용\n",
    "ax = state['Murder.Rate'].plot.hist(density=True, xlim=[0,12], bins=range(1,12)) # histogram\n",
    "state['Murder.Rate'].plot.density(ax=ax) # Density\n",
    "ax.set_xlabel('Murder Rate (per 100,000)')"
   ]
  },
  {
   "cell_type": "markdown",
   "id": "9a8f2741",
   "metadata": {},
   "source": [
    "# 1.6 이진 데이터와 범주 데이터 탐색하기"
   ]
  },
  {
   "cell_type": "code",
   "execution_count": 21,
   "id": "7fdf72a5",
   "metadata": {},
   "outputs": [],
   "source": [
    "# 댈러스 포트워스 공항의 항공기 운행 지연 원인별 퍼센트 비율\n",
    "dalayed_reason = {'Carrier':23.02, 'ATC':30.40, 'Weather': 4.03, 'Security':0.12, 'Inbound':42.43}"
   ]
  },
  {
   "cell_type": "code",
   "execution_count": 22,
   "id": "d22332a3",
   "metadata": {},
   "outputs": [],
   "source": [
    "dalayed_reason_df = pd.DataFrame(dalayed_reason,index=['percent']).transpose()\n",
    "dalayed_reason_df=dalayed_reason_df.reset_index()"
   ]
  },
  {
   "cell_type": "code",
   "execution_count": 23,
   "id": "a99fe84a",
   "metadata": {},
   "outputs": [
    {
     "data": {
      "text/html": [
       "<div>\n",
       "<style scoped>\n",
       "    .dataframe tbody tr th:only-of-type {\n",
       "        vertical-align: middle;\n",
       "    }\n",
       "\n",
       "    .dataframe tbody tr th {\n",
       "        vertical-align: top;\n",
       "    }\n",
       "\n",
       "    .dataframe thead th {\n",
       "        text-align: right;\n",
       "    }\n",
       "</style>\n",
       "<table border=\"1\" class=\"dataframe\">\n",
       "  <thead>\n",
       "    <tr style=\"text-align: right;\">\n",
       "      <th></th>\n",
       "      <th>index</th>\n",
       "      <th>percent</th>\n",
       "    </tr>\n",
       "  </thead>\n",
       "  <tbody>\n",
       "    <tr>\n",
       "      <th>0</th>\n",
       "      <td>Carrier</td>\n",
       "      <td>23.02</td>\n",
       "    </tr>\n",
       "    <tr>\n",
       "      <th>1</th>\n",
       "      <td>ATC</td>\n",
       "      <td>30.40</td>\n",
       "    </tr>\n",
       "    <tr>\n",
       "      <th>2</th>\n",
       "      <td>Weather</td>\n",
       "      <td>4.03</td>\n",
       "    </tr>\n",
       "    <tr>\n",
       "      <th>3</th>\n",
       "      <td>Security</td>\n",
       "      <td>0.12</td>\n",
       "    </tr>\n",
       "    <tr>\n",
       "      <th>4</th>\n",
       "      <td>Inbound</td>\n",
       "      <td>42.43</td>\n",
       "    </tr>\n",
       "  </tbody>\n",
       "</table>\n",
       "</div>"
      ],
      "text/plain": [
       "      index  percent\n",
       "0   Carrier    23.02\n",
       "1       ATC    30.40\n",
       "2   Weather     4.03\n",
       "3  Security     0.12\n",
       "4   Inbound    42.43"
      ]
     },
     "execution_count": 23,
     "metadata": {},
     "output_type": "execute_result"
    }
   ],
   "source": [
    "dalayed_reason_df"
   ]
  },
  {
   "cell_type": "markdown",
   "id": "a24bf27d",
   "metadata": {},
   "source": [
    "**항공기 운행이 지연된 원인별 퍼센트 비율은 범주형 데이터이다**"
   ]
  },
  {
   "cell_type": "code",
   "execution_count": 24,
   "id": "b5ab47ca",
   "metadata": {},
   "outputs": [
    {
     "data": {
      "text/plain": [
       "Text(0.5, 1.0, 'Cause of Delay')"
      ]
     },
     "execution_count": 24,
     "metadata": {},
     "output_type": "execute_result"
    },
    {
     "data": {
      "image/png": "[encoded data removed]",
      "text/plain": [
       "<Figure size 432x288 with 1 Axes>"
      ]
     },
     "metadata": {
      "needs_background": "light"
     },
     "output_type": "display_data"
    }
   ],
   "source": [
    "# 범주별로 바그래프를 그려서 분포를 나타낸다.\n",
    "plt.bar(dalayed_reason_df['index'],dalayed_reason_df['percent'])\n",
    "plt.title('Cause of Delay')"
   ]
  },
  {
   "cell_type": "markdown",
   "id": "e537c1aa",
   "metadata": {},
   "source": [
    "# 1.7 상관관계"
   ]
  },
  {
   "cell_type": "code",
   "execution_count": 25,
   "id": "f7ae78fc",
   "metadata": {},
   "outputs": [],
   "source": [
    "iris_df = pd.read_csv('./data/iris_train.csv')\n",
    "iris_df.head(10)\n",
    "iris_df_features = iris_df.iloc[:,2:]"
   ]
  },
  {
   "cell_type": "code",
   "execution_count": 29,
   "id": "bf2fa0aa",
   "metadata": {},
   "outputs": [
    {
     "data": {
      "text/plain": [
       "<AxesSubplot:>"
      ]
     },
     "execution_count": 29,
     "metadata": {},
     "output_type": "execute_result"
    },
    {
     "data": {
      "image/png": "[encoded data removed]",
      "text/plain": [
       "<Figure size 432x288 with 2 Axes>"
      ]
     },
     "metadata": {
      "needs_background": "light"
     },
     "output_type": "display_data"
    }
   ],
   "source": [
    "import seaborn as sns\n",
    "# 히트맵 ( 상관관계를 시각화 )\n",
    "sns.heatmap(iris_df_features.corr(), vmin=-1, vmax=1, \n",
    "           cmap=sns.diverging_palette(20,220,as_cmap=True))"
   ]
  },
  {
   "cell_type": "markdown",
   "id": "38bf9b3d",
   "metadata": {},
   "source": [
    "**petal length와 sepal length, petal width와 sepal length와 강한 상관관계를 갖는다**"
   ]
  },
  {
   "cell_type": "markdown",
   "id": "c7ebae28",
   "metadata": {},
   "source": [
    "# 1.7.1 산점도"
   ]
  },
  {
   "cell_type": "code",
   "execution_count": 30,
   "id": "7e53da27",
   "metadata": {},
   "outputs": [
    {
     "data": {
      "text/plain": [
       "Text(0, 0.5, 'petal lenght (cm)')"
      ]
     },
     "execution_count": 30,
     "metadata": {},
     "output_type": "execute_result"
    },
    {
     "data": {
      "image/png": "[encoded data removed]",
      "text/plain": [
       "<Figure size 288x288 with 1 Axes>"
      ]
     },
     "metadata": {
      "needs_background": "light"
     },
     "output_type": "display_data"
    }
   ],
   "source": [
    "# 두 변수 사이의 관계를 시각화 (산점도)\n",
    "ax = iris_df.plot.scatter(x='sepal length (cm)',y='petal length (cm)', figsize=(4,4), marker='$\\u25EF$')\n",
    "ax.set_xlabel('sepal lenght (cm)')\n",
    "ax.set_ylabel('petal lenght (cm)')"
   ]
  },
  {
   "cell_type": "markdown",
   "id": "d3c5bdac",
   "metadata": {},
   "source": [
    "# 1.8 두 개 이상의 변수 탐색하기 (다변량변수:셋 이상의 변수)"
   ]
  },
  {
   "cell_type": "code",
   "execution_count": 32,
   "id": "655fb765",
   "metadata": {},
   "outputs": [
    {
     "data": {
      "text/plain": [
       "Text(0, 0.5, 'petal lenght (cm)')"
      ]
     },
     "execution_count": 32,
     "metadata": {},
     "output_type": "execute_result"
    },
    {
     "data": {
      "image/png": "[encoded data removed]",
      "text/plain": [
       "<Figure size 360x288 with 2 Axes>"
      ]
     },
     "metadata": {
      "needs_background": "light"
     },
     "output_type": "display_data"
    }
   ],
   "source": [
    "# 육각형 구간과 등고선\n",
    "# 두 변수 사이의 관계를 시각화 (산점도)\n",
    "ax = iris_df.plot.hexbin(x='sepal length (cm)',y='petal length (cm)',\n",
    "                          gridsize=30, sharex=False,figsize=(5,4))\n",
    "ax.set_xlabel('sepal lenght (cm)')\n",
    "ax.set_ylabel('petal lenght (cm)')"
   ]
  },
  {
   "cell_type": "code",
   "execution_count": 45,
   "id": "8fd8ed8d",
   "metadata": {},
   "outputs": [],
   "source": [
    "# 1.8.2 범주형 변수 Vs 범주형 변수 "
   ]
  },
  {
   "cell_type": "code",
   "execution_count": 46,
   "id": "29505479",
   "metadata": {},
   "outputs": [
    {
     "data": {
      "text/html": [
       "<div>\n",
       "<style scoped>\n",
       "    .dataframe tbody tr th:only-of-type {\n",
       "        vertical-align: middle;\n",
       "    }\n",
       "\n",
       "    .dataframe tbody tr th {\n",
       "        vertical-align: top;\n",
       "    }\n",
       "\n",
       "    .dataframe thead th {\n",
       "        text-align: right;\n",
       "    }\n",
       "</style>\n",
       "<table border=\"1\" class=\"dataframe\">\n",
       "  <thead>\n",
       "    <tr style=\"text-align: right;\">\n",
       "      <th></th>\n",
       "      <th>id</th>\n",
       "      <th>gender</th>\n",
       "      <th>age</th>\n",
       "      <th>hypertension</th>\n",
       "      <th>heart_disease</th>\n",
       "      <th>ever_married</th>\n",
       "      <th>work_type</th>\n",
       "      <th>Residence_type</th>\n",
       "      <th>avg_glucose_level</th>\n",
       "      <th>bmi</th>\n",
       "      <th>smoking_status</th>\n",
       "      <th>stroke</th>\n",
       "    </tr>\n",
       "  </thead>\n",
       "  <tbody>\n",
       "    <tr>\n",
       "      <th>0</th>\n",
       "      <td>9046</td>\n",
       "      <td>Male</td>\n",
       "      <td>67.0</td>\n",
       "      <td>0</td>\n",
       "      <td>1</td>\n",
       "      <td>Yes</td>\n",
       "      <td>Private</td>\n",
       "      <td>Urban</td>\n",
       "      <td>228.69</td>\n",
       "      <td>36.6</td>\n",
       "      <td>formerly smoked</td>\n",
       "      <td>1</td>\n",
       "    </tr>\n",
       "    <tr>\n",
       "      <th>1</th>\n",
       "      <td>51676</td>\n",
       "      <td>Female</td>\n",
       "      <td>61.0</td>\n",
       "      <td>0</td>\n",
       "      <td>0</td>\n",
       "      <td>Yes</td>\n",
       "      <td>Self-employed</td>\n",
       "      <td>Rural</td>\n",
       "      <td>202.21</td>\n",
       "      <td>NaN</td>\n",
       "      <td>never smoked</td>\n",
       "      <td>1</td>\n",
       "    </tr>\n",
       "    <tr>\n",
       "      <th>2</th>\n",
       "      <td>31112</td>\n",
       "      <td>Male</td>\n",
       "      <td>80.0</td>\n",
       "      <td>0</td>\n",
       "      <td>1</td>\n",
       "      <td>Yes</td>\n",
       "      <td>Private</td>\n",
       "      <td>Rural</td>\n",
       "      <td>105.92</td>\n",
       "      <td>32.5</td>\n",
       "      <td>never smoked</td>\n",
       "      <td>1</td>\n",
       "    </tr>\n",
       "    <tr>\n",
       "      <th>3</th>\n",
       "      <td>60182</td>\n",
       "      <td>Female</td>\n",
       "      <td>49.0</td>\n",
       "      <td>0</td>\n",
       "      <td>0</td>\n",
       "      <td>Yes</td>\n",
       "      <td>Private</td>\n",
       "      <td>Urban</td>\n",
       "      <td>171.23</td>\n",
       "      <td>34.4</td>\n",
       "      <td>smokes</td>\n",
       "      <td>1</td>\n",
       "    </tr>\n",
       "    <tr>\n",
       "      <th>4</th>\n",
       "      <td>1665</td>\n",
       "      <td>Female</td>\n",
       "      <td>79.0</td>\n",
       "      <td>1</td>\n",
       "      <td>0</td>\n",
       "      <td>Yes</td>\n",
       "      <td>Self-employed</td>\n",
       "      <td>Rural</td>\n",
       "      <td>174.12</td>\n",
       "      <td>24.0</td>\n",
       "      <td>never smoked</td>\n",
       "      <td>1</td>\n",
       "    </tr>\n",
       "    <tr>\n",
       "      <th>5</th>\n",
       "      <td>56669</td>\n",
       "      <td>Male</td>\n",
       "      <td>81.0</td>\n",
       "      <td>0</td>\n",
       "      <td>0</td>\n",
       "      <td>Yes</td>\n",
       "      <td>Private</td>\n",
       "      <td>Urban</td>\n",
       "      <td>186.21</td>\n",
       "      <td>29.0</td>\n",
       "      <td>formerly smoked</td>\n",
       "      <td>1</td>\n",
       "    </tr>\n",
       "    <tr>\n",
       "      <th>6</th>\n",
       "      <td>53882</td>\n",
       "      <td>Male</td>\n",
       "      <td>74.0</td>\n",
       "      <td>1</td>\n",
       "      <td>1</td>\n",
       "      <td>Yes</td>\n",
       "      <td>Private</td>\n",
       "      <td>Rural</td>\n",
       "      <td>70.09</td>\n",
       "      <td>27.4</td>\n",
       "      <td>never smoked</td>\n",
       "      <td>1</td>\n",
       "    </tr>\n",
       "    <tr>\n",
       "      <th>7</th>\n",
       "      <td>10434</td>\n",
       "      <td>Female</td>\n",
       "      <td>69.0</td>\n",
       "      <td>0</td>\n",
       "      <td>0</td>\n",
       "      <td>No</td>\n",
       "      <td>Private</td>\n",
       "      <td>Urban</td>\n",
       "      <td>94.39</td>\n",
       "      <td>22.8</td>\n",
       "      <td>never smoked</td>\n",
       "      <td>1</td>\n",
       "    </tr>\n",
       "    <tr>\n",
       "      <th>8</th>\n",
       "      <td>27419</td>\n",
       "      <td>Female</td>\n",
       "      <td>59.0</td>\n",
       "      <td>0</td>\n",
       "      <td>0</td>\n",
       "      <td>Yes</td>\n",
       "      <td>Private</td>\n",
       "      <td>Rural</td>\n",
       "      <td>76.15</td>\n",
       "      <td>NaN</td>\n",
       "      <td>Unknown</td>\n",
       "      <td>1</td>\n",
       "    </tr>\n",
       "    <tr>\n",
       "      <th>9</th>\n",
       "      <td>60491</td>\n",
       "      <td>Female</td>\n",
       "      <td>78.0</td>\n",
       "      <td>0</td>\n",
       "      <td>0</td>\n",
       "      <td>Yes</td>\n",
       "      <td>Private</td>\n",
       "      <td>Urban</td>\n",
       "      <td>58.57</td>\n",
       "      <td>24.2</td>\n",
       "      <td>Unknown</td>\n",
       "      <td>1</td>\n",
       "    </tr>\n",
       "  </tbody>\n",
       "</table>\n",
       "</div>"
      ],
      "text/plain": [
       "      id  gender   age  hypertension  heart_disease ever_married  \\\n",
       "0   9046    Male  67.0             0              1          Yes   \n",
       "1  51676  Female  61.0             0              0          Yes   \n",
       "2  31112    Male  80.0             0              1          Yes   \n",
       "3  60182  Female  49.0             0              0          Yes   \n",
       "4   1665  Female  79.0             1              0          Yes   \n",
       "5  56669    Male  81.0             0              0          Yes   \n",
       "6  53882    Male  74.0             1              1          Yes   \n",
       "7  10434  Female  69.0             0              0           No   \n",
       "8  27419  Female  59.0             0              0          Yes   \n",
       "9  60491  Female  78.0             0              0          Yes   \n",
       "\n",
       "       work_type Residence_type  avg_glucose_level   bmi   smoking_status  \\\n",
       "0        Private          Urban             228.69  36.6  formerly smoked   \n",
       "1  Self-employed          Rural             202.21   NaN     never smoked   \n",
       "2        Private          Rural             105.92  32.5     never smoked   \n",
       "3        Private          Urban             171.23  34.4           smokes   \n",
       "4  Self-employed          Rural             174.12  24.0     never smoked   \n",
       "5        Private          Urban             186.21  29.0  formerly smoked   \n",
       "6        Private          Rural              70.09  27.4     never smoked   \n",
       "7        Private          Urban              94.39  22.8     never smoked   \n",
       "8        Private          Rural              76.15   NaN          Unknown   \n",
       "9        Private          Urban              58.57  24.2          Unknown   \n",
       "\n",
       "   stroke  \n",
       "0       1  \n",
       "1       1  \n",
       "2       1  \n",
       "3       1  \n",
       "4       1  \n",
       "5       1  \n",
       "6       1  \n",
       "7       1  \n",
       "8       1  \n",
       "9       1  "
      ]
     },
     "execution_count": 46,
     "metadata": {},
     "output_type": "execute_result"
    }
   ],
   "source": [
    "stroke_df = pd.read_csv('./data/stroke.csv')\n",
    "stroke_df.head(10)"
   ]
  },
  {
   "cell_type": "markdown",
   "id": "0a421374",
   "metadata": {},
   "source": [
    "**결혼여부와 고혈압간의 상관관계를 알아보도록하자**"
   ]
  },
  {
   "cell_type": "code",
   "execution_count": 58,
   "id": "a76896ac",
   "metadata": {},
   "outputs": [],
   "source": [
    "crosstab = stroke_df[['hypertension','ever_married']].pivot_table(index='hypertension',\n",
    "                                                                  columns='ever_married',\n",
    "                                                                  aggfunc=lambda x:len(x),\n",
    "                                                                  margins=True) # 합을 나타내는 칼럼 유무"
   ]
  },
  {
   "cell_type": "code",
   "execution_count": 59,
   "id": "945b6f88",
   "metadata": {},
   "outputs": [
    {
     "data": {
      "text/html": [
       "<div>\n",
       "<style scoped>\n",
       "    .dataframe tbody tr th:only-of-type {\n",
       "        vertical-align: middle;\n",
       "    }\n",
       "\n",
       "    .dataframe tbody tr th {\n",
       "        vertical-align: top;\n",
       "    }\n",
       "\n",
       "    .dataframe thead th {\n",
       "        text-align: right;\n",
       "    }\n",
       "</style>\n",
       "<table border=\"1\" class=\"dataframe\">\n",
       "  <thead>\n",
       "    <tr style=\"text-align: right;\">\n",
       "      <th>ever_married</th>\n",
       "      <th>No</th>\n",
       "      <th>Yes</th>\n",
       "      <th>All</th>\n",
       "    </tr>\n",
       "    <tr>\n",
       "      <th>hypertension</th>\n",
       "      <th></th>\n",
       "      <th></th>\n",
       "      <th></th>\n",
       "    </tr>\n",
       "  </thead>\n",
       "  <tbody>\n",
       "    <tr>\n",
       "      <th>0</th>\n",
       "      <td>1704</td>\n",
       "      <td>2908</td>\n",
       "      <td>4612</td>\n",
       "    </tr>\n",
       "    <tr>\n",
       "      <th>1</th>\n",
       "      <td>53</td>\n",
       "      <td>445</td>\n",
       "      <td>498</td>\n",
       "    </tr>\n",
       "    <tr>\n",
       "      <th>All</th>\n",
       "      <td>1757</td>\n",
       "      <td>3353</td>\n",
       "      <td>5110</td>\n",
       "    </tr>\n",
       "  </tbody>\n",
       "</table>\n",
       "</div>"
      ],
      "text/plain": [
       "ever_married    No   Yes   All\n",
       "hypertension                  \n",
       "0             1704  2908  4612\n",
       "1               53   445   498\n",
       "All           1757  3353  5110"
      ]
     },
     "execution_count": 59,
     "metadata": {},
     "output_type": "execute_result"
    }
   ],
   "source": [
    "crosstab"
   ]
  },
  {
   "cell_type": "markdown",
   "id": "234f44f0",
   "metadata": {},
   "source": [
    "**결혼 유무와 고혈압간의 상관관계를 알기 위해서는 어떤 계산식을 써야할까?**"
   ]
  },
  {
   "cell_type": "code",
   "execution_count": 69,
   "id": "eb2c78fc",
   "metadata": {},
   "outputs": [
    {
     "name": "stdout",
     "output_type": "stream",
     "text": [
      "결혼하지 않은 사람들(1757명)중에서 고혈압(53명)인 사람의 비율 0.03016505406943654\n",
      "결혼한 사람들(3353명)중에서 고혈압(445명)인 사람의 비율 0.13271696987772144\n"
     ]
    }
   ],
   "source": [
    "print('결혼하지 않은 사람들(1757명)중에서 고혈압(53명)인 사람의 비율',crosstab.loc[1,'No']/crosstab.loc['All','No'])\n",
    "print('결혼한 사람들(3353명)중에서 고혈압(445명)인 사람의 비율',crosstab.loc[1,'Yes']/crosstab.loc['All','Yes'])"
   ]
  },
  {
   "cell_type": "markdown",
   "id": "b0359fc9",
   "metadata": {},
   "source": [
    "**결혼한 사람들 중에서 고혈압을 앓고 있는 사람이 훨씬 많음을 알 수 있다.(약 4배)**"
   ]
  },
  {
   "cell_type": "code",
   "execution_count": 74,
   "id": "099be580",
   "metadata": {},
   "outputs": [
    {
     "data": {
      "image/png": "[encoded data removed]",
      "text/plain": [
       "<Figure size 432x288 with 1 Axes>"
      ]
     },
     "metadata": {
      "needs_background": "light"
     },
     "output_type": "display_data"
    }
   ],
   "source": [
    "# 범주형 변수 vs 수치형 변수 (상자그림)\n",
    "\n",
    "ax = stroke_df.boxplot(by='ever_married', column='bmi')"
   ]
  },
  {
   "cell_type": "markdown",
   "id": "bb55c9f4",
   "metadata": {},
   "source": [
    "**결혼여부(ever_married)에 따른 비만도(bmi)의 분포를 상자그림으로 살펴보면, 평균 bmi가 결혼을 한 그룹에서 더 놉게 나타났고, 75% 도 결혼을 한 그룹에서 더 높다는 것을 알 수 있다. 결혼을 하면 함께하면서 더 맛있는 것을 많이 먹기 때문일까?**"
   ]
  },
  {
   "cell_type": "code",
   "execution_count": 76,
   "id": "5a8dc848",
   "metadata": {},
   "outputs": [
    {
     "name": "stderr",
     "output_type": "stream",
     "text": [
      "/opt/anaconda3/lib/python3.9/site-packages/seaborn/_decorators.py:36: FutureWarning: Pass the following variables as keyword args: x, y. From version 0.12, the only valid positional argument will be `data`, and passing other arguments without an explicit keyword will result in an error or misinterpretation.\n",
      "  warnings.warn(\n"
     ]
    },
    {
     "data": {
      "image/png": "[encoded data removed]",
      "text/plain": [
       "<Figure size 432x288 with 1 Axes>"
      ]
     },
     "metadata": {
      "needs_background": "light"
     },
     "output_type": "display_data"
    }
   ],
   "source": [
    "# 바이올린 도표(밀도 추정 결과를 동시에 시각화 한다.)\n",
    "# 흡연 (smoking_status) 결과에 따른 체내 글루코스 양 (avg_glucose_level)을 바이올린 도표로 그려보자\n",
    "ax = sns.violinplot(stroke_df.smoking_status,stroke_df.avg_glucose_level,\n",
    "                   inner = 'quartile', color='white')"
   ]
  },
  {
   "cell_type": "markdown",
   "id": "6d7be7cd",
   "metadata": {},
   "source": [
    "**흡연 여부에 따른 글루코스양은 별 차이가 없는 것 같다.**"
   ]
  },
  {
   "cell_type": "code",
   "execution_count": null,
   "id": "149a5150",
   "metadata": {},
   "outputs": [],
   "source": []
  }
 ],
 "metadata": {
  "kernelspec": {
   "display_name": "Python 3 (ipykernel)",
   "language": "python",
   "name": "python3"
  },
  "language_info": {
   "codemirror_mode": {
    "name": "ipython",
    "version": 3
   },
   "file_extension": ".py",
   "mimetype": "text/x-python",
   "name": "python",
   "nbconvert_exporter": "python",
   "pygments_lexer": "ipython3",
   "version": "3.9.7"
  }
 },
 "nbformat": 4,
 "nbformat_minor": 5
}
