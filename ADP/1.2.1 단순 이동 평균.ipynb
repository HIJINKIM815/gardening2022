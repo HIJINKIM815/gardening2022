{
 "cells": [
  {
   "cell_type": "code",
   "execution_count": 238,
   "id": "4cfd1e94",
   "metadata": {},
   "outputs": [],
   "source": [
    "# 시계열 분석 및 응용 책의 예제 및 연습문제 풀이"
   ]
  },
  {
   "cell_type": "code",
   "execution_count": 239,
   "id": "bd745cfb",
   "metadata": {},
   "outputs": [
    {
     "name": "stderr",
     "output_type": "stream",
     "text": [
      "UsageError: Line magic function `%matplot` not found.\n"
     ]
    }
   ],
   "source": [
    "import numpy as np\n",
    "import pandas as pd\n",
    "import matplotlib.pyplot as plt\n",
    "%matplot inline\n",
    "import seaborn as sns"
   ]
  },
  {
   "cell_type": "markdown",
   "id": "e58c3e91",
   "metadata": {},
   "source": [
    "예 1.1 다음은 연도별 (2006 ~ 2016) 우리나라의 산불 건수를 나타낸 것이다. N=3, N=6 에 대한 단순 이동 평균을 각각 산출하여라."
   ]
  },
  {
   "cell_type": "code",
   "execution_count": null,
   "id": "0abd0781",
   "metadata": {},
   "outputs": [],
   "source": [
    "forestFires = {2006:369,2007:418,2008:389,2009:570,2010:282,2010:282,2011:277,2012:197,2013:296,2014:492,2015:623,2016:391}"
   ]
  },
  {
   "cell_type": "code",
   "execution_count": null,
   "id": "a854216c",
   "metadata": {},
   "outputs": [],
   "source": [
    "forestFires"
   ]
  },
  {
   "cell_type": "code",
   "execution_count": null,
   "id": "ad21e002",
   "metadata": {},
   "outputs": [],
   "source": [
    "forestFires_df = pd.DataFrame(forestFires,index=['건수'])"
   ]
  },
  {
   "cell_type": "code",
   "execution_count": null,
   "id": "b256e7cc",
   "metadata": {},
   "outputs": [],
   "source": [
    "forestFires_df=forestFires_df.transpose()\n",
    "forestFires_df"
   ]
  },
  {
   "cell_type": "markdown",
   "id": "7701c0e8",
   "metadata": {},
   "source": [
    "**단순 이동 평균 (Simple Moving Average, SMA)**\n",
    "단순히 주어진 기간 동안의 지난 종가들을 모두 합해서 계산에 쓰이는 가격들의 개수로 나누는 것이죠. 예를 들면 10일간의 이동 평균은 지난 10개의 종가를 모두 더해서 10으로 나눔"
   ]
  },
  {
   "cell_type": "code",
   "execution_count": null,
   "id": "7c51bc7b",
   "metadata": {},
   "outputs": [],
   "source": [
    "# N=3 에 대한 단순 이동 평균은 지난 3개년동안 산불횟수를 모두 더해서 3으로 나눈 값 \n",
    "# N=6 에 대한 단순 이동 평균은 지난 6개년동안 산불횟수를 모두 더해서 6으로 나눈 값 "
   ]
  },
  {
   "cell_type": "code",
   "execution_count": null,
   "id": "01003731",
   "metadata": {},
   "outputs": [],
   "source": [
    "print(\"N=3에 대한 단순 이동 평균은\" , forestFires_df[-3:].mean())\n",
    "print(\"N=5에 대한 단순 이동 평균은\" , forestFires_df[-6:].mean())"
   ]
  },
  {
   "cell_type": "markdown",
   "id": "d4b70f10",
   "metadata": {},
   "source": [
    "**하지만 정답에서 요구한 것은 각 시점별 단순 이동 평균이었고, 내가 구한 것은 t=2016 한 시점동안의 단순 이동 평균이었다**"
   ]
  },
  {
   "cell_type": "code",
   "execution_count": null,
   "id": "9f0abfb8",
   "metadata": {},
   "outputs": [],
   "source": [
    "forestFires_df['N=3']=pd.DataFrame(range(len(forestFires)))"
   ]
  },
  {
   "cell_type": "code",
   "execution_count": 240,
   "id": "cce45f9d",
   "metadata": {},
   "outputs": [
    {
     "data": {
      "text/plain": [
       "0.0"
      ]
     },
     "execution_count": 240,
     "metadata": {},
     "output_type": "execute_result"
    }
   ],
   "source": [
    "forestFires_df['N=3'][2006]"
   ]
  },
  {
   "cell_type": "code",
   "execution_count": 241,
   "id": "c7ec251d",
   "metadata": {},
   "outputs": [
    {
     "name": "stderr",
     "output_type": "stream",
     "text": [
      "/var/folders/sy/lzv1b4r92bqb6hy15tk2qy5h0000gn/T/ipykernel_1596/4110234258.py:4: SettingWithCopyWarning: \n",
      "A value is trying to be set on a copy of a slice from a DataFrame\n",
      "\n",
      "See the caveats in the documentation: https://pandas.pydata.org/pandas-docs/stable/user_guide/indexing.html#returning-a-view-versus-a-copy\n",
      "  forestFires_df['N=3'][i]=np.nan\n",
      "/var/folders/sy/lzv1b4r92bqb6hy15tk2qy5h0000gn/T/ipykernel_1596/4110234258.py:6: SettingWithCopyWarning: \n",
      "A value is trying to be set on a copy of a slice from a DataFrame\n",
      "\n",
      "See the caveats in the documentation: https://pandas.pydata.org/pandas-docs/stable/user_guide/indexing.html#returning-a-view-versus-a-copy\n",
      "  forestFires_df['N=3'][i]=int(forestFires_df.loc[i-2:i,'건수'].mean())\n"
     ]
    }
   ],
   "source": [
    "forestFires_df['N=3']\n",
    "for i in range(2006,2017):\n",
    "    if i<2008 :\n",
    "        forestFires_df['N=3'][i]=np.nan\n",
    "    else:\n",
    "        forestFires_df['N=3'][i]=int(forestFires_df.loc[i-2:i,'건수'].mean())"
   ]
  },
  {
   "cell_type": "code",
   "execution_count": 242,
   "id": "d9fa6f35",
   "metadata": {},
   "outputs": [
    {
     "data": {
      "text/html": [
       "<div>\n",
       "<style scoped>\n",
       "    .dataframe tbody tr th:only-of-type {\n",
       "        vertical-align: middle;\n",
       "    }\n",
       "\n",
       "    .dataframe tbody tr th {\n",
       "        vertical-align: top;\n",
       "    }\n",
       "\n",
       "    .dataframe thead th {\n",
       "        text-align: right;\n",
       "    }\n",
       "</style>\n",
       "<table border=\"1\" class=\"dataframe\">\n",
       "  <thead>\n",
       "    <tr style=\"text-align: right;\">\n",
       "      <th></th>\n",
       "      <th>건수</th>\n",
       "      <th>N=3</th>\n",
       "      <th>N=6</th>\n",
       "    </tr>\n",
       "  </thead>\n",
       "  <tbody>\n",
       "    <tr>\n",
       "      <th>2006</th>\n",
       "      <td>369</td>\n",
       "      <td>NaN</td>\n",
       "      <td>0.0</td>\n",
       "    </tr>\n",
       "    <tr>\n",
       "      <th>2007</th>\n",
       "      <td>418</td>\n",
       "      <td>NaN</td>\n",
       "      <td>0.0</td>\n",
       "    </tr>\n",
       "    <tr>\n",
       "      <th>2008</th>\n",
       "      <td>389</td>\n",
       "      <td>392.0</td>\n",
       "      <td>0.0</td>\n",
       "    </tr>\n",
       "    <tr>\n",
       "      <th>2009</th>\n",
       "      <td>570</td>\n",
       "      <td>459.0</td>\n",
       "      <td>0.0</td>\n",
       "    </tr>\n",
       "    <tr>\n",
       "      <th>2010</th>\n",
       "      <td>282</td>\n",
       "      <td>413.0</td>\n",
       "      <td>0.0</td>\n",
       "    </tr>\n",
       "    <tr>\n",
       "      <th>2011</th>\n",
       "      <td>277</td>\n",
       "      <td>376.0</td>\n",
       "      <td>384.0</td>\n",
       "    </tr>\n",
       "    <tr>\n",
       "      <th>2012</th>\n",
       "      <td>197</td>\n",
       "      <td>252.0</td>\n",
       "      <td>355.0</td>\n",
       "    </tr>\n",
       "    <tr>\n",
       "      <th>2013</th>\n",
       "      <td>296</td>\n",
       "      <td>256.0</td>\n",
       "      <td>335.0</td>\n",
       "    </tr>\n",
       "    <tr>\n",
       "      <th>2014</th>\n",
       "      <td>492</td>\n",
       "      <td>328.0</td>\n",
       "      <td>352.0</td>\n",
       "    </tr>\n",
       "    <tr>\n",
       "      <th>2015</th>\n",
       "      <td>623</td>\n",
       "      <td>470.0</td>\n",
       "      <td>361.0</td>\n",
       "    </tr>\n",
       "    <tr>\n",
       "      <th>2016</th>\n",
       "      <td>391</td>\n",
       "      <td>502.0</td>\n",
       "      <td>379.0</td>\n",
       "    </tr>\n",
       "  </tbody>\n",
       "</table>\n",
       "</div>"
      ],
      "text/plain": [
       "       건수    N=3    N=6\n",
       "2006  369    NaN    0.0\n",
       "2007  418    NaN    0.0\n",
       "2008  389  392.0    0.0\n",
       "2009  570  459.0    0.0\n",
       "2010  282  413.0    0.0\n",
       "2011  277  376.0  384.0\n",
       "2012  197  252.0  355.0\n",
       "2013  296  256.0  335.0\n",
       "2014  492  328.0  352.0\n",
       "2015  623  470.0  361.0\n",
       "2016  391  502.0  379.0"
      ]
     },
     "execution_count": 242,
     "metadata": {},
     "output_type": "execute_result"
    }
   ],
   "source": [
    "forestFires_df"
   ]
  },
  {
   "cell_type": "markdown",
   "id": "5065dcb0",
   "metadata": {},
   "source": [
    "**N=6에 대하여 이동 평균 구하기**"
   ]
  },
  {
   "cell_type": "code",
   "execution_count": 243,
   "id": "60e80d66",
   "metadata": {},
   "outputs": [],
   "source": [
    "forestFires_df['N=6']=pd.DataFrame(range(len(forestFires)))"
   ]
  },
  {
   "cell_type": "code",
   "execution_count": 244,
   "id": "be48cddd",
   "metadata": {},
   "outputs": [
    {
     "name": "stderr",
     "output_type": "stream",
     "text": [
      "/var/folders/sy/lzv1b4r92bqb6hy15tk2qy5h0000gn/T/ipykernel_1596/2665824803.py:3: SettingWithCopyWarning: \n",
      "A value is trying to be set on a copy of a slice from a DataFrame\n",
      "\n",
      "See the caveats in the documentation: https://pandas.pydata.org/pandas-docs/stable/user_guide/indexing.html#returning-a-view-versus-a-copy\n",
      "  forestFires_df['N=6'][i]=np.nan\n",
      "/var/folders/sy/lzv1b4r92bqb6hy15tk2qy5h0000gn/T/ipykernel_1596/2665824803.py:5: SettingWithCopyWarning: \n",
      "A value is trying to be set on a copy of a slice from a DataFrame\n",
      "\n",
      "See the caveats in the documentation: https://pandas.pydata.org/pandas-docs/stable/user_guide/indexing.html#returning-a-view-versus-a-copy\n",
      "  forestFires_df['N=6'][i]=int(forestFires_df.loc[i-5:i,'건수'].mean())\n"
     ]
    }
   ],
   "source": [
    "\n",
    "for i in range(2006,2017):\n",
    "    if i<2011 :\n",
    "        forestFires_df['N=6'][i]=np.nan\n",
    "    else:\n",
    "        forestFires_df['N=6'][i]=int(forestFires_df.loc[i-5:i,'건수'].mean())"
   ]
  },
  {
   "cell_type": "code",
   "execution_count": 245,
   "id": "5c2cd356",
   "metadata": {},
   "outputs": [
    {
     "data": {
      "text/html": [
       "<div>\n",
       "<style scoped>\n",
       "    .dataframe tbody tr th:only-of-type {\n",
       "        vertical-align: middle;\n",
       "    }\n",
       "\n",
       "    .dataframe tbody tr th {\n",
       "        vertical-align: top;\n",
       "    }\n",
       "\n",
       "    .dataframe thead th {\n",
       "        text-align: right;\n",
       "    }\n",
       "</style>\n",
       "<table border=\"1\" class=\"dataframe\">\n",
       "  <thead>\n",
       "    <tr style=\"text-align: right;\">\n",
       "      <th></th>\n",
       "      <th>건수</th>\n",
       "      <th>N=3</th>\n",
       "      <th>N=6</th>\n",
       "    </tr>\n",
       "  </thead>\n",
       "  <tbody>\n",
       "    <tr>\n",
       "      <th>2006</th>\n",
       "      <td>369</td>\n",
       "      <td>NaN</td>\n",
       "      <td>NaN</td>\n",
       "    </tr>\n",
       "    <tr>\n",
       "      <th>2007</th>\n",
       "      <td>418</td>\n",
       "      <td>NaN</td>\n",
       "      <td>NaN</td>\n",
       "    </tr>\n",
       "    <tr>\n",
       "      <th>2008</th>\n",
       "      <td>389</td>\n",
       "      <td>392.0</td>\n",
       "      <td>NaN</td>\n",
       "    </tr>\n",
       "    <tr>\n",
       "      <th>2009</th>\n",
       "      <td>570</td>\n",
       "      <td>459.0</td>\n",
       "      <td>NaN</td>\n",
       "    </tr>\n",
       "    <tr>\n",
       "      <th>2010</th>\n",
       "      <td>282</td>\n",
       "      <td>413.0</td>\n",
       "      <td>NaN</td>\n",
       "    </tr>\n",
       "    <tr>\n",
       "      <th>2011</th>\n",
       "      <td>277</td>\n",
       "      <td>376.0</td>\n",
       "      <td>384.0</td>\n",
       "    </tr>\n",
       "    <tr>\n",
       "      <th>2012</th>\n",
       "      <td>197</td>\n",
       "      <td>252.0</td>\n",
       "      <td>355.0</td>\n",
       "    </tr>\n",
       "    <tr>\n",
       "      <th>2013</th>\n",
       "      <td>296</td>\n",
       "      <td>256.0</td>\n",
       "      <td>335.0</td>\n",
       "    </tr>\n",
       "    <tr>\n",
       "      <th>2014</th>\n",
       "      <td>492</td>\n",
       "      <td>328.0</td>\n",
       "      <td>352.0</td>\n",
       "    </tr>\n",
       "    <tr>\n",
       "      <th>2015</th>\n",
       "      <td>623</td>\n",
       "      <td>470.0</td>\n",
       "      <td>361.0</td>\n",
       "    </tr>\n",
       "    <tr>\n",
       "      <th>2016</th>\n",
       "      <td>391</td>\n",
       "      <td>502.0</td>\n",
       "      <td>379.0</td>\n",
       "    </tr>\n",
       "  </tbody>\n",
       "</table>\n",
       "</div>"
      ],
      "text/plain": [
       "       건수    N=3    N=6\n",
       "2006  369    NaN    NaN\n",
       "2007  418    NaN    NaN\n",
       "2008  389  392.0    NaN\n",
       "2009  570  459.0    NaN\n",
       "2010  282  413.0    NaN\n",
       "2011  277  376.0  384.0\n",
       "2012  197  252.0  355.0\n",
       "2013  296  256.0  335.0\n",
       "2014  492  328.0  352.0\n",
       "2015  623  470.0  361.0\n",
       "2016  391  502.0  379.0"
      ]
     },
     "execution_count": 245,
     "metadata": {},
     "output_type": "execute_result"
    }
   ],
   "source": [
    "forestFires_df"
   ]
  },
  {
   "cell_type": "code",
   "execution_count": 246,
   "id": "bc0a04b2",
   "metadata": {},
   "outputs": [
    {
     "data": {
      "text/plain": [
       "[<matplotlib.lines.Line2D at 0x7f9a40a346a0>,\n",
       " <matplotlib.lines.Line2D at 0x7f9a40a346d0>,\n",
       " <matplotlib.lines.Line2D at 0x7f9a40a347f0>]"
      ]
     },
     "execution_count": 246,
     "metadata": {},
     "output_type": "execute_result"
    },
    {
     "data": {
      "image/png": "[encoded data removed]",
      "text/plain": [
       "<Figure size 432x288 with 1 Axes>"
      ]
     },
     "metadata": {
      "needs_background": "light"
     },
     "output_type": "display_data"
    }
   ],
   "source": [
    "plt.plot(forestFires_df)"
   ]
  },
  {
   "cell_type": "code",
   "execution_count": null,
   "id": "c2921d3e",
   "metadata": {},
   "outputs": [],
   "source": []
  }
 ],
 "metadata": {
  "kernelspec": {
   "display_name": "Python 3 (ipykernel)",
   "language": "python",
   "name": "python3"
  },
  "language_info": {
   "codemirror_mode": {
    "name": "ipython",
    "version": 3
   },
   "file_extension": ".py",
   "mimetype": "text/x-python",
   "name": "python",
   "nbconvert_exporter": "python",
   "pygments_lexer": "ipython3",
   "version": "3.9.7"
  }
 },
 "nbformat": 4,
 "nbformat_minor": 5
}
