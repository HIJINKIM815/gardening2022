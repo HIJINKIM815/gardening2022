{
 "cells": [
  {
   "cell_type": "markdown",
   "id": "ba2b59f6",
   "metadata": {},
   "source": [
    "앨버타의 자동차 번호판은 ABC-0123 (세 글자, 네 숫자)와 같이 두 부분으로 나누어져 있다.\n",
    "\n",
    "좋은 번호판은 첫 번째 부분의 가치와 두 번째 부분의 가치의 차이가 100을 넘지 않는 번호판이다.\n",
    "\n",
    "글자로 이루어진 첫 번째 부분의 가치는 글자를 26진법 수처럼 계산한다. (각 자리가 [A..Z]) 예를 들어, \"ABC\"의 가치는 28 (0×262 + 1×261 + 2×260)이 된다. \"ABC-0123\"은  |28 - 123| ≤ 100 이기 때문에, 좋은 번호판이다.\n",
    "\n",
    "자동차 번호판이 주어졌을 때, 좋은 번호판인지 아닌지를 구하는 프로그램을 작성하시오."
   ]
  },
  {
   "cell_type": "code",
   "execution_count": 1,
   "id": "40aad8f6",
   "metadata": {},
   "outputs": [
    {
     "name": "stdout",
     "output_type": "stream",
     "text": [
      "2\n"
     ]
    }
   ],
   "source": [
    "enroll_count = int(input()) # 입력받을 자동차 번호판의 개수"
   ]
  },
  {
   "cell_type": "code",
   "execution_count": 2,
   "id": "78cbd37b",
   "metadata": {},
   "outputs": [
    {
     "name": "stdout",
     "output_type": "stream",
     "text": [
      "AAA-1222\n",
      "BBB-3154\n"
     ]
    }
   ],
   "source": [
    "car_number = [] # 입력 받을 번호판 넘버\n",
    "alphabet = 'ABCDEFGHIJKLMNOPQRSTUVWXYZ'\n",
    "for i in range(enroll_count):\n",
    "    car_number.append(input())"
   ]
  },
  {
   "cell_type": "code",
   "execution_count": 3,
   "id": "9ca79ad7",
   "metadata": {},
   "outputs": [
    {
     "data": {
      "text/plain": [
       "['AAA-1222', 'BBB-3154']"
      ]
     },
     "execution_count": 3,
     "metadata": {},
     "output_type": "execute_result"
    }
   ],
   "source": [
    "car_number"
   ]
  },
  {
   "cell_type": "code",
   "execution_count": 4,
   "id": "b5646ead",
   "metadata": {},
   "outputs": [
    {
     "data": {
      "text/plain": [
       "['AAA', '1222']"
      ]
     },
     "execution_count": 4,
     "metadata": {},
     "output_type": "execute_result"
    }
   ],
   "source": [
    "car_number[0].split('-')"
   ]
  },
  {
   "cell_type": "code",
   "execution_count": 28,
   "id": "a75d855c",
   "metadata": {},
   "outputs": [
    {
     "data": {
      "text/plain": [
       "'A'"
      ]
     },
     "execution_count": 28,
     "metadata": {},
     "output_type": "execute_result"
    }
   ],
   "source": [
    "alphabet[0]"
   ]
  },
  {
   "cell_type": "markdown",
   "id": "27be15c5",
   "metadata": {},
   "source": [
    "**자동차 번호 분석하기**"
   ]
  },
  {
   "cell_type": "code",
   "execution_count": 7,
   "id": "06bd474e",
   "metadata": {},
   "outputs": [
    {
     "data": {
      "text/plain": [
       "'AAA-1222'"
      ]
     },
     "execution_count": 7,
     "metadata": {},
     "output_type": "execute_result"
    }
   ],
   "source": [
    "a = car_number[0]\n",
    "a"
   ]
  },
  {
   "cell_type": "markdown",
   "id": "182e7bd8",
   "metadata": {},
   "source": [
    "**AAA-1222를 분석해보자.**"
   ]
  },
  {
   "cell_type": "code",
   "execution_count": 8,
   "id": "3aec8f3a",
   "metadata": {},
   "outputs": [
    {
     "data": {
      "text/plain": [
       "['AAA', '1222']"
      ]
     },
     "execution_count": 8,
     "metadata": {},
     "output_type": "execute_result"
    }
   ],
   "source": [
    "### 알파벳이 있는 앞부분과 숫자가 있는 뒷부분을 먼저 분리하도록 하자\n",
    "a.split('-')"
   ]
  },
  {
   "cell_type": "code",
   "execution_count": 9,
   "id": "35b00159",
   "metadata": {},
   "outputs": [
    {
     "name": "stdout",
     "output_type": "stream",
     "text": [
      "AAA\n",
      "1222\n"
     ]
    }
   ],
   "source": [
    "### a를 분리하면 두개의 원소를 가진 리스트를 생성한다.\n",
    "### 알파벳 부분을 정의하고\n",
    "a_alphabet = a.split('-')[0]\n",
    "\n",
    "### 숫자부분을 정의하도록 하자\n",
    "a_number = a.split('-')[1]\n",
    "\n",
    "print(a_alphabet)\n",
    "print(a_number)"
   ]
  },
  {
   "cell_type": "markdown",
   "id": "8f93dbcd",
   "metadata": {},
   "source": [
    "**알파벳 부분을 점수화 하는 방법을 생각해보도록 하자**"
   ]
  },
  {
   "cell_type": "markdown",
   "id": "97377fdb",
   "metadata": {},
   "source": [
    "A는 0, B는 1, ... z는 25에 대응을하게 됨으로 알파벳 순서대로 리스트에 넣으면 인덱스와 바로 대응을 하게 된다."
   ]
  },
  {
   "cell_type": "code",
   "execution_count": 10,
   "id": "b805ea6c",
   "metadata": {},
   "outputs": [],
   "source": [
    "### 알파벳이 뜻하는 수와, 인덱스가 대응하도록 정의한다.\n",
    "alphabet_numbers = 'ABCDEFGHIJKLMNOPQRSTUVWXYZ'"
   ]
  },
  {
   "cell_type": "code",
   "execution_count": 13,
   "id": "ab5cb2c4",
   "metadata": {},
   "outputs": [
    {
     "data": {
      "text/plain": [
       "1"
      ]
     },
     "execution_count": 13,
     "metadata": {},
     "output_type": "execute_result"
    }
   ],
   "source": [
    "alphabet_numbers.find('B')"
   ]
  },
  {
   "cell_type": "markdown",
   "id": "c6c1d089",
   "metadata": {},
   "source": [
    "**구글신 : 문자열에서 해당 문자의 위치 (인덱스)를 찾고 싶을때 find 함수를 쓰세요** "
   ]
  },
  {
   "cell_type": "code",
   "execution_count": null,
   "id": "ce5f1960",
   "metadata": {},
   "outputs": [],
   "source": []
  },
  {
   "cell_type": "code",
   "execution_count": 27,
   "id": "b33651d3",
   "metadata": {},
   "outputs": [
    {
     "name": "stdout",
     "output_type": "stream",
     "text": [
      "2\n",
      "AAA-1211\n",
      "BBB-3133\n"
     ]
    }
   ],
   "source": [
    "### 백준에 돌릴 코드 \n",
    "\n",
    "### 입력받을 자동차 번호판의 개수 입력 받기 \n",
    "car_enroll = int(input())\n",
    "\n",
    "### 알파벳을 숫자에 대응 ( 알바펫과 알파벳의 위치(수적인 가치)를 대응시키기 )\n",
    "alphabet_numbers = 'ABCDEFGHIJKLMNOPQRSTUVWXYZ'\n",
    "\n",
    "\n",
    "### 자동차 번호판 입력받기 \n",
    "### 번호판을 입력받을 리스트\n",
    "car_number = [] \n",
    "for i in range(car_enroll):\n",
    "    car_number.append(input())\n",
    "    \n",
    "### 입력 받은 번포한의 가치를 측정하는 함수를 만들기\n",
    "def number_value(car_number):\n",
    "    for i in range(len(car_number)):\n",
    "        alphabet = car_number[i].split('-')[0]\n",
    "        car_values = abs(alphabet_numbers.find(alphabet[0])*26*26+\n",
    "                         alphabet_numbers.find(alphabet[1])*26+\n",
    "                         alphabet_numbers.find(alphabet[2])*1-int(car_number[i].split('-')[1]))\n",
    "        if car_values < 101:\n",
    "            print('nice')\n",
    "        else:\n",
    "            print('not nice')\n",
    "number_value(car_number)\n",
    "        "
   ]
  },
  {
   "cell_type": "code",
   "execution_count": 28,
   "id": "4cc250d8",
   "metadata": {},
   "outputs": [
    {
     "name": "stdout",
     "output_type": "stream",
     "text": [
      "not nice\n",
      "not nice\n"
     ]
    }
   ],
   "source": [
    "number_value(car_number)"
   ]
  },
  {
   "cell_type": "code",
   "execution_count": null,
   "id": "3cd311fd",
   "metadata": {},
   "outputs": [],
   "source": []
  }
 ],
 "metadata": {
  "kernelspec": {
   "display_name": "Python 3 (ipykernel)",
   "language": "python",
   "name": "python3"
  },
  "language_info": {
   "codemirror_mode": {
    "name": "ipython",
    "version": 3
   },
   "file_extension": ".py",
   "mimetype": "text/x-python",
   "name": "python",
   "nbconvert_exporter": "python",
   "pygments_lexer": "ipython3",
   "version": "3.9.9"
  }
 },
 "nbformat": 4,
 "nbformat_minor": 5
}
