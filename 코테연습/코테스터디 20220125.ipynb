{
 "cells": [
  {
   "cell_type": "markdown",
   "id": "505e9f5e",
   "metadata": {},
   "source": [
    "**회사에 있는 사람**"
   ]
  },
  {
   "cell_type": "markdown",
   "id": "49c6b087",
   "metadata": {},
   "source": [
    "상근이는 세계적인 소프트웨어 회사 기글에서 일한다. 이 회사의 가장 큰 특징은 자유로운 출퇴근 시간이다. 따라서, 직원들은 반드시 9시부터 6시까지 회사에 있지 않아도 된다.\n",
    "\n",
    "각 직원은 자기가 원할 때 출근할 수 있고, 아무때나 퇴근할 수 있다.\n",
    "\n",
    "상근이는 모든 사람의 출입카드 시스템의 로그를 가지고 있다. 이 로그는 어떤 사람이 회사에 들어왔는지, 나갔는지가 기록되어져 있다. 로그가 주어졌을 때, 현재 회사에 있는 모든 사람을 구하는 프로그램을 작성하시오.\n",
    "첫째 줄에 로그에 기록된 출입 기록의 수 n이 주어진다. (2 ≤ n ≤ 106) 다음 n개의 줄에는 출입 기록이 순서대로 주어지며, 각 사람의 이름이 주어지고 \"enter\"나 \"leave\"가 주어진다. \"enter\"인 경우는 출근, \"leave\"인 경우는 퇴근이다.\n",
    "\n",
    "회사에는 동명이인이 없으며, 대소문자가 다른 경우에는 다른 이름이다. 사람들의 이름은 알파벳 대소문자로 구성된 5글자 이하의 문자열이다.\n",
    "\n",
    "현재 회사에 있는 사람의 이름을 사전 순의 역순으로 한 줄에 한 명씩 출력한다."
   ]
  },
  {
   "cell_type": "code",
   "execution_count": 18,
   "id": "9df92fa0",
   "metadata": {},
   "outputs": [
    {
     "name": "stdout",
     "output_type": "stream",
     "text": [
      "3\n",
      "Heejin leave\n",
      "Elly enter\n",
      "Heeseon enter\n"
     ]
    }
   ],
   "source": [
    "### 로그에 기록된 출입 기록의 수 ( 출근한 사람의 수 )\n",
    "n = int(input())\n",
    "\n",
    "### 출입 기록을 입력받을 리스트 \n",
    "enter_list = []\n",
    "\n",
    "### 출입 기록을 입력받을때, 이름과 출입기록이 순서대로 주어진다. \n",
    "for i in range(n):\n",
    "    name, status = map(str, input().split(' '))\n",
    "    enter_list.append({status:name})"
   ]
  },
  {
   "cell_type": "code",
   "execution_count": 19,
   "id": "1c33e0b6",
   "metadata": {},
   "outputs": [
    {
     "data": {
      "text/plain": [
       "[{'leave': 'Heejin'}, {'enter': 'Elly'}, {'enter': 'Heeseon'}]"
      ]
     },
     "execution_count": 19,
     "metadata": {},
     "output_type": "execute_result"
    }
   ],
   "source": [
    "enter_list"
   ]
  },
  {
   "cell_type": "code",
   "execution_count": 20,
   "id": "74ed9297",
   "metadata": {},
   "outputs": [
    {
     "data": {
      "text/plain": [
       "dict"
      ]
     },
     "execution_count": 20,
     "metadata": {},
     "output_type": "execute_result"
    }
   ],
   "source": [
    "type(enter_list[0])"
   ]
  },
  {
   "cell_type": "code",
   "execution_count": 50,
   "id": "2f4168c1",
   "metadata": {},
   "outputs": [
    {
     "data": {
      "text/plain": [
       "False"
      ]
     },
     "execution_count": 50,
     "metadata": {},
     "output_type": "execute_result"
    }
   ],
   "source": [
    "enter_list[0].keys()==['leave']"
   ]
  },
  {
   "cell_type": "code",
   "execution_count": 15,
   "id": "509f0a80",
   "metadata": {},
   "outputs": [
    {
     "ename": "SyntaxError",
     "evalue": "EOL while scanning string literal (1746157905.py, line 2)",
     "output_type": "error",
     "traceback": [
      "\u001b[0;36m  Input \u001b[0;32mIn [15]\u001b[0;36m\u001b[0m\n\u001b[0;31m    if enter_list[n-i]['enter'or'Leave]:\u001b[0m\n\u001b[0m                                        ^\u001b[0m\n\u001b[0;31mSyntaxError\u001b[0m\u001b[0;31m:\u001b[0m EOL while scanning string literal\n"
     ]
    }
   ],
   "source": [
    "for i in range(n):\n",
    "    if enter_list[n-i]['enter'or'Leave]:"
   ]
  },
  {
   "cell_type": "code",
   "execution_count": 40,
   "id": "f827ca7e",
   "metadata": {},
   "outputs": [
    {
     "ename": "KeyError",
     "evalue": "'enter'",
     "output_type": "error",
     "traceback": [
      "\u001b[0;31m---------------------------------------------------------------------------\u001b[0m",
      "\u001b[0;31mKeyError\u001b[0m                                  Traceback (most recent call last)",
      "Input \u001b[0;32mIn [40]\u001b[0m, in \u001b[0;36m<module>\u001b[0;34m\u001b[0m\n\u001b[0;32m----> 1\u001b[0m \u001b[43menter_list\u001b[49m\u001b[43m[\u001b[49m\u001b[38;5;241;43m0\u001b[39;49m\u001b[43m]\u001b[49m\u001b[43m[\u001b[49m\u001b[38;5;124;43m'\u001b[39;49m\u001b[38;5;124;43menter\u001b[39;49m\u001b[38;5;124;43m'\u001b[39;49m\u001b[43m]\u001b[49m\n",
      "\u001b[0;31mKeyError\u001b[0m: 'enter'"
     ]
    }
   ],
   "source": [
    "enter_list[0]['enter']"
   ]
  },
  {
   "cell_type": "code",
   "execution_count": 43,
   "id": "f5ad0271",
   "metadata": {},
   "outputs": [],
   "source": [
    "enter_dict = {'heejin':'enter','heejin':'leave'}"
   ]
  },
  {
   "cell_type": "code",
   "execution_count": 44,
   "id": "44ccef05",
   "metadata": {},
   "outputs": [
    {
     "data": {
      "text/plain": [
       "'leave'"
      ]
     },
     "execution_count": 44,
     "metadata": {},
     "output_type": "execute_result"
    }
   ],
   "source": []
  },
  {
   "cell_type": "code",
   "execution_count": null,
   "id": "c4ec2e49",
   "metadata": {},
   "outputs": [],
   "source": []
  }
 ],
 "metadata": {
  "kernelspec": {
   "display_name": "Python 3 (ipykernel)",
   "language": "python",
   "name": "python3"
  },
  "language_info": {
   "codemirror_mode": {
    "name": "ipython",
    "version": 3
   },
   "file_extension": ".py",
   "mimetype": "text/x-python",
   "name": "python",
   "nbconvert_exporter": "python",
   "pygments_lexer": "ipython3",
   "version": "3.9.10"
  }
 },
 "nbformat": 4,
 "nbformat_minor": 5
}
