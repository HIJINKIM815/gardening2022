{
 "cells": [
  {
   "cell_type": "markdown",
   "id": "505e9f5e",
   "metadata": {},
   "source": [
    "**회사에 있는 사람**"
   ]
  },
  {
   "cell_type": "markdown",
   "id": "49c6b087",
   "metadata": {},
   "source": [
    "상근이는 세계적인 소프트웨어 회사 기글에서 일한다. 이 회사의 가장 큰 특징은 자유로운 출퇴근 시간이다. 따라서, 직원들은 반드시 9시부터 6시까지 회사에 있지 않아도 된다.\n",
    "\n",
    "각 직원은 자기가 원할 때 출근할 수 있고, 아무때나 퇴근할 수 있다.\n",
    "\n",
    "상근이는 모든 사람의 출입카드 시스템의 로그를 가지고 있다. 이 로그는 어떤 사람이 회사에 들어왔는지, 나갔는지가 기록되어져 있다. 로그가 주어졌을 때, 현재 회사에 있는 모든 사람을 구하는 프로그램을 작성하시오.\n",
    "첫째 줄에 로그에 기록된 출입 기록의 수 n이 주어진다. (2 ≤ n ≤ 106) 다음 n개의 줄에는 출입 기록이 순서대로 주어지며, 각 사람의 이름이 주어지고 \"enter\"나 \"leave\"가 주어진다. \"enter\"인 경우는 출근, \"leave\"인 경우는 퇴근이다.\n",
    "\n",
    "회사에는 동명이인이 없으며, 대소문자가 다른 경우에는 다른 이름이다. 사람들의 이름은 알파벳 대소문자로 구성된 5글자 이하의 문자열이다.\n",
    "\n",
    "현재 회사에 있는 사람의 이름을 사전 순의 역순으로 한 줄에 한 명씩 출력한다."
   ]
  },
  {
   "cell_type": "code",
   "execution_count": null,
   "id": "9df92fa0",
   "metadata": {},
   "outputs": [
    {
     "name": "stdout",
     "output_type": "stream",
     "text": [
      "2\n"
     ]
    }
   ],
   "source": [
    "### 로그에 기록된 출입 기록의 수 ( 출근한 사람의 수 )\n",
    "n = int(input())\n",
    "\n",
    "### 출입 기록을 입력받을 리스트 \n",
    "enter_list = []\n",
    "\n",
    "### 출입 기록을 입력받을때, 이름과 출입기록이 순서대로 주어진다. \n",
    "for i in range(n):\n",
    "    name, status = map(str, input().split(' '))\n",
    "    enter_list.append({name,status})"
   ]
  },
  {
   "cell_type": "code",
   "execution_count": 29,
   "id": "1c33e0b6",
   "metadata": {},
   "outputs": [
    {
     "data": {
      "text/plain": [
       "[{'heejin': 'leave'}, {'elly': 'enter'}]"
      ]
     },
     "execution_count": 29,
     "metadata": {},
     "output_type": "execute_result"
    }
   ],
   "source": [
    "enter_list"
   ]
  },
  {
   "cell_type": "code",
   "execution_count": 16,
   "id": "74ed9297",
   "metadata": {},
   "outputs": [
    {
     "data": {
      "text/plain": [
       "<map at 0x11402a250>"
      ]
     },
     "execution_count": 16,
     "metadata": {},
     "output_type": "execute_result"
    }
   ],
   "source": [
    "a"
   ]
  },
  {
   "cell_type": "code",
   "execution_count": null,
   "id": "509f0a80",
   "metadata": {},
   "outputs": [],
   "source": []
  }
 ],
 "metadata": {
  "kernelspec": {
   "display_name": "Python 3 (ipykernel)",
   "language": "python",
   "name": "python3"
  },
  "language_info": {
   "codemirror_mode": {
    "name": "ipython",
    "version": 3
   },
   "file_extension": ".py",
   "mimetype": "text/x-python",
   "name": "python",
   "nbconvert_exporter": "python",
   "pygments_lexer": "ipython3",
   "version": "3.9.10"
  }
 },
 "nbformat": 4,
 "nbformat_minor": 5
}
