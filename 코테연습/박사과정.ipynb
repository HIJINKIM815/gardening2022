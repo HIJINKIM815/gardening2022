{
 "cells": [
  {
   "cell_type": "markdown",
   "id": "7577700b",
   "metadata": {},
   "source": [
    "**동혁이는 박사 학위 논문을 쓰던 중 두 수를 더하는 방법을 까먹었다. 동혁이는 덧셈 문제와 컴퓨터 과학 문제로 이루어진 문제지를 풀어야 군면제를 받을 수 있다. 문제지의 덧셈 문제는 \"a+b\"와 같은 형식이고, 컴퓨터 과학 문제는 \"P=NP\" 하나이다. 동혁이의 문제지가 주어졌을 때, 답을 모두 구하는 프로그램을 작성하시오.**"
   ]
  },
  {
   "cell_type": "code",
   "execution_count": null,
   "id": "387c03dd",
   "metadata": {},
   "outputs": [],
   "source": []
  }
 ],
 "metadata": {
  "kernelspec": {
   "display_name": "Python 3 (ipykernel)",
   "language": "python",
   "name": "python3"
  },
  "language_info": {
   "codemirror_mode": {
    "name": "ipython",
    "version": 3
   },
   "file_extension": ".py",
   "mimetype": "text/x-python",
   "name": "python",
   "nbconvert_exporter": "python",
   "pygments_lexer": "ipython3",
   "version": "3.9.10"
  }
 },
 "nbformat": 4,
 "nbformat_minor": 5
}
