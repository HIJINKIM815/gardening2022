{
 "cells": [
  {
   "cell_type": "markdown",
   "id": "a0b3b060",
   "metadata": {},
   "source": [
    "수 N개가 주어졌을 때, N개의 합을 구하는 프로그램을 작성하시오."
   ]
  },
  {
   "cell_type": "code",
   "execution_count": 1,
   "id": "3a856688",
   "metadata": {},
   "outputs": [
    {
     "name": "stdout",
     "output_type": "stream",
     "text": [
      "2\n"
     ]
    }
   ],
   "source": [
    "### 입력받을 테스트 케이스의 개수 T\n",
    "T = int(input())"
   ]
  },
  {
   "cell_type": "code",
   "execution_count": 6,
   "id": "90f98649",
   "metadata": {},
   "outputs": [
    {
     "name": "stdout",
     "output_type": "stream",
     "text": [
      "2 4 6 8 10\n",
      "30\n",
      "3 8 7 6 5 7 6\n",
      "42\n"
     ]
    }
   ],
   "source": [
    "for i in range(T):\n",
    "    ### 입력받을 N개의 수를 담을 list\n",
    "    number_list = list(map(int,input().split(' '))) \n",
    "    ### N개의 수의 합을 출력 \n",
    "    print(sum(number_list))"
   ]
  },
  {
   "cell_type": "markdown",
   "id": "b69b965f",
   "metadata": {},
   "source": [
    "**문제에서는 연속적으로 입력을 T번 받고, 출력 또한 T번 연속적으로 하기 때문에 코드를 조금 수정해보도록한다.**"
   ]
  },
  {
   "cell_type": "code",
   "execution_count": 7,
   "id": "fec8445d",
   "metadata": {},
   "outputs": [
    {
     "name": "stdout",
     "output_type": "stream",
     "text": [
      "2 4 6 8 10\n",
      "3 8 7 5 9\n"
     ]
    }
   ],
   "source": [
    "number_list = []\n",
    "for i in range(T):\n",
    "    ### 입력받을 N개의 수를 담을 list\n",
    "    number_list.append(list(map(int,input().split(' '))))"
   ]
  },
  {
   "cell_type": "code",
   "execution_count": 8,
   "id": "b3a3e5f0",
   "metadata": {},
   "outputs": [
    {
     "name": "stdout",
     "output_type": "stream",
     "text": [
      "30\n",
      "32\n"
     ]
    }
   ],
   "source": [
    "for i in range(T):\n",
    "    print(sum(number_list[i]))"
   ]
  },
  {
   "cell_type": "code",
   "execution_count": null,
   "id": "5a3b08c6",
   "metadata": {},
   "outputs": [],
   "source": []
  }
 ],
 "metadata": {
  "kernelspec": {
   "display_name": "Python 3 (ipykernel)",
   "language": "python",
   "name": "python3"
  },
  "language_info": {
   "codemirror_mode": {
    "name": "ipython",
    "version": 3
   },
   "file_extension": ".py",
   "mimetype": "text/x-python",
   "name": "python",
   "nbconvert_exporter": "python",
   "pygments_lexer": "ipython3",
   "version": "3.9.10"
  }
 },
 "nbformat": 4,
 "nbformat_minor": 5
}
