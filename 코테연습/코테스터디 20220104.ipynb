{
 "cells": [
  {
   "cell_type": "markdown",
   "id": "5537b3c5",
   "metadata": {},
   "source": [
    "**append와 pop**\n",
    "\n",
    "   - append : list의 맨 끝에 원소를 추가할때\n",
    "    \n",
    "   - pop() : list의 맨 끝에 있는 원소를 뺄때"
   ]
  },
  {
   "cell_type": "code",
   "execution_count": 60,
   "id": "5750f7ea",
   "metadata": {},
   "outputs": [
    {
     "data": {
      "text/plain": [
       "['a']"
      ]
     },
     "execution_count": 60,
     "metadata": {},
     "output_type": "execute_result"
    }
   ],
   "source": [
    "# pop() - 리스트에서 맨 끝의 원소를 꺼낼때 \n",
    "list1 = [] # 빈 리스트 \n",
    "list1.append('a') # list1에 'a'를 넣는다.\n",
    "list1"
   ]
  },
  {
   "cell_type": "code",
   "execution_count": 61,
   "id": "8b959e93",
   "metadata": {},
   "outputs": [
    {
     "data": {
      "text/plain": [
       "['a', 1, 2, 3]"
      ]
     },
     "execution_count": 61,
     "metadata": {},
     "output_type": "execute_result"
    }
   ],
   "source": [
    "# list1에 1,2,3을 차례대로 넣어보자\n",
    "list1.append(1)\n",
    "list1.append(2)\n",
    "list1.append(3)\n",
    "list1"
   ]
  },
  {
   "cell_type": "code",
   "execution_count": 62,
   "id": "b87dfe76",
   "metadata": {},
   "outputs": [
    {
     "data": {
      "text/plain": [
       "3"
      ]
     },
     "execution_count": 62,
     "metadata": {},
     "output_type": "execute_result"
    }
   ],
   "source": [
    "# 맨 마지막 원소인 3을 꺼내보도록 하자\n",
    "list1.pop()"
   ]
  },
  {
   "cell_type": "code",
   "execution_count": 63,
   "id": "d5e5a62d",
   "metadata": {},
   "outputs": [
    {
     "data": {
      "text/plain": [
       "['a', 1, 2]"
      ]
     },
     "execution_count": 63,
     "metadata": {},
     "output_type": "execute_result"
    }
   ],
   "source": [
    "list1 # list1.pop()후 결과 "
   ]
  },
  {
   "cell_type": "markdown",
   "id": "18af2f7d",
   "metadata": {},
   "source": [
    "**N과 M(1)**"
   ]
  },
  {
   "cell_type": "markdown",
   "id": "94b2b7d8",
   "metadata": {},
   "source": [
    "자연수 N과 M을 입력받아, 1에서 N까지 수를 이용하여 M개 수를 가지는 수열을 차례대로 출력하여라.\n",
    " - 입력예제\n",
    "    4 2\n",
    "    \n",
    "    1 2\n",
    "    \n",
    "    1 3\n",
    "    \n",
    "    1 4\n",
    "    \n",
    "    2 3\n",
    "    \n",
    "    2 4\n",
    "    \n",
    "    3 4\n"
   ]
  },
  {
   "cell_type": "code",
   "execution_count": 65,
   "id": "36f05fee",
   "metadata": {},
   "outputs": [
    {
     "name": "stdout",
     "output_type": "stream",
     "text": [
      "4,2\n"
     ]
    }
   ],
   "source": [
    "n, m = input().split(',') # 입력 할때 콤마(',')에 의해서 입력한 수를 구분한다."
   ]
  },
  {
   "cell_type": "code",
   "execution_count": 66,
   "id": "28776b7e",
   "metadata": {},
   "outputs": [
    {
     "name": "stdout",
     "output_type": "stream",
     "text": [
      "<class 'str'> <class 'str'>\n"
     ]
    }
   ],
   "source": [
    "print(type(n),type(m)) # 입력 받은 두 정수의 자료형이 'str'임을 알 수 있다. "
   ]
  },
  {
   "cell_type": "code",
   "execution_count": 67,
   "id": "8126c047",
   "metadata": {},
   "outputs": [
    {
     "name": "stdout",
     "output_type": "stream",
     "text": [
      "1 2 3\n"
     ]
    }
   ],
   "source": [
    "a,b,c = input().split() # 뛰어 쓰기에 의해서 입력이 구분된다."
   ]
  },
  {
   "cell_type": "code",
   "execution_count": 68,
   "id": "2c2547da",
   "metadata": {},
   "outputs": [
    {
     "name": "stdout",
     "output_type": "stream",
     "text": [
      "1 2 3\n",
      "<class 'str'> <class 'str'> <class 'str'>\n"
     ]
    }
   ],
   "source": [
    "print(a,b,c)\n",
    "print(type(a),type(b),type(c))"
   ]
  },
  {
   "cell_type": "markdown",
   "id": "28768feb",
   "metadata": {},
   "source": [
    "**입력받은 숫자가 문자형으로 변환되는 것을 알 수 있다. 이 자료형을 한번에 바꾸기 위해서 map이라는 내장 함수를 이용한다.**"
   ]
  },
  {
   "cell_type": "code",
   "execution_count": 73,
   "id": "7602bdf7",
   "metadata": {},
   "outputs": [
    {
     "name": "stdout",
     "output_type": "stream",
     "text": [
      "1 3\n"
     ]
    }
   ],
   "source": [
    "n,m = list(map(int,input().split())) # 입력 받은 두 수를 정수로 변환해준다."
   ]
  },
  {
   "cell_type": "code",
   "execution_count": 74,
   "id": "3c72c55c",
   "metadata": {},
   "outputs": [
    {
     "name": "stdout",
     "output_type": "stream",
     "text": [
      "1 3\n",
      "<class 'int'> <class 'int'>\n"
     ]
    }
   ],
   "source": [
    "print(n,m)\n",
    "print(type(n),type(m)) "
   ]
  },
  {
   "cell_type": "code",
   "execution_count": null,
   "id": "cbe16805",
   "metadata": {},
   "outputs": [],
   "source": []
  },
  {
   "cell_type": "markdown",
   "id": "4259a390",
   "metadata": {},
   "source": [
    "**map함수를 이용하여, list의 원소에 1을 더하기**"
   ]
  },
  {
   "cell_type": "code",
   "execution_count": 80,
   "id": "25ed2fb9",
   "metadata": {},
   "outputs": [],
   "source": [
    "def plus(x):\n",
    "    \n",
    "    return x+1"
   ]
  },
  {
   "cell_type": "code",
   "execution_count": 82,
   "id": "649e0abd",
   "metadata": {},
   "outputs": [
    {
     "name": "stdout",
     "output_type": "stream",
     "text": [
      "[2, 3, 4]\n"
     ]
    }
   ],
   "source": [
    "numbers = [1,2,3]\n",
    "plus_one = list(map(plus,numbers))\n",
    "print(plus_one)"
   ]
  },
  {
   "cell_type": "code",
   "execution_count": null,
   "id": "0528a4b6",
   "metadata": {},
   "outputs": [],
   "source": []
  },
  {
   "cell_type": "markdown",
   "id": "3fe3ebea",
   "metadata": {},
   "source": [
    "**N과 M(7)**"
   ]
  },
  {
   "cell_type": "markdown",
   "id": "62ab7493",
   "metadata": {},
   "source": [
    "N개의 모두 다른 자연수가 주어졌을때, M개의 자연수를 뽑아 수열 오름차순으로 정리하여라."
   ]
  },
  {
   "cell_type": "markdown",
   "id": "e4fa6d8d",
   "metadata": {},
   "source": [
    "총 N*(N-1)*(N-2)*...*(N-M+1) 개 의 수열이 만들어지고 이 수열을 차레대로 출력하도록 하면 된다.\n"
   ]
  },
  {
   "cell_type": "code",
   "execution_count": 15,
   "id": "b874d3be",
   "metadata": {},
   "outputs": [
    {
     "name": "stdout",
     "output_type": "stream",
     "text": [
      "4 2 \n",
      "1 3 5 7\n",
      "1 1\n",
      "1 3\n",
      "1 5\n",
      "1 7\n",
      "3 1\n",
      "3 3\n",
      "3 5\n",
      "3 7\n",
      "5 1\n",
      "5 3\n",
      "5 5\n",
      "5 7\n",
      "7 1\n",
      "7 3\n",
      "7 5\n",
      "7 7\n"
     ]
    }
   ],
   "source": [
    "\n",
    "n,m = list(map(int,input().split())) \n",
    "series = list(map(int,input().split()))\n",
    "\n",
    "s = [] # 수열을 생성할 리스트\n",
    "def f():\n",
    "    if len(s) == m: # 수열의 길이가 m이면 멈춘다.\n",
    "        print(' '.join(map(str, s)))\n",
    "        return\n",
    "\n",
    "    for i in series:\n",
    "        if i in s:\n",
    "            if len(s)==0:\n",
    "                continue\n",
    "            elif i>s[-1]:\n",
    "                continue\n",
    "        s.append(i)\n",
    "        f()\n",
    "        s.pop()\n",
    "\n",
    "f()"
   ]
  },
  {
   "cell_type": "code",
   "execution_count": 26,
   "id": "dec85f17",
   "metadata": {},
   "outputs": [
    {
     "data": {
      "text/plain": [
       "'1 2 3'"
      ]
     },
     "execution_count": 26,
     "metadata": {},
     "output_type": "execute_result"
    }
   ],
   "source": [
    "s = [1,2,3]\n",
    "' '.join(map(str, s))"
   ]
  },
  {
   "cell_type": "code",
   "execution_count": null,
   "id": "9590fce4",
   "metadata": {},
   "outputs": [],
   "source": [
    "\n",
    "n,m = list(map(int,input().split())) \n",
    "\n",
    "s = []#빈리스트를 만든다\n",
    "s\n",
    "\n",
    "# 가장 작은 원소인 1을 넣는다.\n",
    "s.append(1)\n",
    "\n",
    "s\n",
    "\n",
    "# 그 다음으로 가장 작은 원소인 2를 넣는다.\n",
    "s.append(2)\n",
    "s\n",
    "\n",
    "# 수열이 하나 완성이 되었으니 출력한다.\n",
    "print(s)\n",
    "\n",
    "# 그 다음 수열을 만들기 위해 원소 하나를 뺀다.\n",
    "s.pop()\n",
    "s\n",
    "\n",
    "# 3을 넣는다.\n",
    "s.append(3)\n",
    "s\n",
    "\n",
    "# s의 길이가 2 이므로 출력을 한다.\n",
    "print(s)\n",
    "\n",
    "# 전체적인 사이클은 \n",
    "# 가장 작은 원소를 넣고 >> 그 다음으로 작은 원소를 넣고 >>... 길이가 m이 되었을때 출력을 하는 사이클을 반복한다.\n",
    "\n",
    "print(n)\n",
    "print(m)\n",
    "print(s)\n",
    "\n",
    "s.pop()\n",
    "s.pop()\n",
    "\n",
    "print(s)\n",
    "\n",
    "s.append(1)\n",
    "s.append(2)\n",
    "print(s)\n",
    "\n",
    "s.pop()\n",
    "\n",
    "print(s)\n",
    "\n",
    "s.append(3)\n",
    "\n",
    "print(s)\n",
    "\n",
    "s.pop()\n",
    "s.append(4)\n",
    "print(s)\n",
    "\n",
    "s.pop()\n",
    "s.pop()\n",
    "s.append(2)\n",
    "s.append(3)\n",
    "print(s)\n",
    "\n",
    "s.pop()\n",
    "\n",
    "s.append(4)\n",
    "\n",
    "print(s)\n",
    "\n",
    "s.pop()\n",
    "s.pop()\n",
    "s.append(3)\n",
    "s.append(4)\n",
    "\n",
    "print(s)"
   ]
  },
  {
   "cell_type": "markdown",
   "id": "0fb36f98",
   "metadata": {},
   "source": [
    "**프로그래머스(가운데 글자 가져오기)**"
   ]
  },
  {
   "cell_type": "code",
   "execution_count": 49,
   "id": "4dc277ae",
   "metadata": {},
   "outputs": [],
   "source": [
    "def solution(s):\n",
    "    if len(s)%2 == 0:\n",
    "        answer = s[int(len(s)/2)-1:int(len(s)/2)+1]\n",
    "    else:\n",
    "        answer = s[int(len(s)-1)/2]\n",
    "    return answer"
   ]
  },
  {
   "cell_type": "code",
   "execution_count": 16,
   "id": "c79560ac",
   "metadata": {},
   "outputs": [],
   "source": [
    "s = []"
   ]
  },
  {
   "cell_type": "code",
   "execution_count": 17,
   "id": "ab9c945a",
   "metadata": {},
   "outputs": [
    {
     "ename": "IndexError",
     "evalue": "list index out of range",
     "output_type": "error",
     "traceback": [
      "\u001b[0;31m---------------------------------------------------------------------------\u001b[0m",
      "\u001b[0;31mIndexError\u001b[0m                                Traceback (most recent call last)",
      "\u001b[0;32m/var/folders/sy/lzv1b4r92bqb6hy15tk2qy5h0000gn/T/ipykernel_66448/2713154622.py\u001b[0m in \u001b[0;36m<module>\u001b[0;34m\u001b[0m\n\u001b[0;32m----> 1\u001b[0;31m \u001b[0ms\u001b[0m\u001b[0;34m[\u001b[0m\u001b[0;34m-\u001b[0m\u001b[0;36m1\u001b[0m\u001b[0;34m]\u001b[0m\u001b[0;34m\u001b[0m\u001b[0;34m\u001b[0m\u001b[0m\n\u001b[0m",
      "\u001b[0;31mIndexError\u001b[0m: list index out of range"
     ]
    }
   ],
   "source": [
    "s[-1]"
   ]
  },
  {
   "cell_type": "code",
   "execution_count": null,
   "id": "97e77d50",
   "metadata": {},
   "outputs": [],
   "source": []
  }
 ],
 "metadata": {
  "kernelspec": {
   "display_name": "Python 3 (ipykernel)",
   "language": "python",
   "name": "python3"
  },
  "language_info": {
   "codemirror_mode": {
    "name": "ipython",
    "version": 3
   },
   "file_extension": ".py",
   "mimetype": "text/x-python",
   "name": "python",
   "nbconvert_exporter": "python",
   "pygments_lexer": "ipython3",
   "version": "3.9.7"
  }
 },
 "nbformat": 4,
 "nbformat_minor": 5
}
