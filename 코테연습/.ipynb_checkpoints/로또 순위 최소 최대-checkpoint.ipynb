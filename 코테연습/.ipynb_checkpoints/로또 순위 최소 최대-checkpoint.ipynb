{
 "cells": [
  {
   "cell_type": "code",
   "execution_count": 83,
   "id": "b7d5ed50",
   "metadata": {},
   "outputs": [],
   "source": [
    "import numpy as np"
   ]
  },
  {
   "cell_type": "code",
   "execution_count": 84,
   "id": "012b785b",
   "metadata": {},
   "outputs": [],
   "source": [
    "lottos = [0,0,0,3,9,19]\n",
    "win_nums = [1,2,3,4,5,6]"
   ]
  },
  {
   "cell_type": "code",
   "execution_count": 85,
   "id": "9aeb3361",
   "metadata": {},
   "outputs": [],
   "source": [
    "lottos=sorted(lottos) # 올림차순으로 정렬\n",
    "win_nums=sorted(win_nums)"
   ]
  },
  {
   "cell_type": "code",
   "execution_count": 86,
   "id": "caa269ee",
   "metadata": {},
   "outputs": [],
   "source": [
    "win_account = [] # 당첨이 확실시 되는 번호를 담을 리스트\n",
    "zero_account = [] # 0인 값을 담을 리스트 \n",
    "for i in range(6):\n",
    "    if lottos[i] in win_nums: # 로또 번호가 당첨 번호 중에 하나일때 win_account에 담기\n",
    "        win_account.append(lottos[i])\n",
    "    elif lottos[i] == 0: # 로또 번호가 0일 때 zero_account에 담기\n",
    "        zero_account.append(lottos[i])"
   ]
  },
  {
   "cell_type": "code",
   "execution_count": 87,
   "id": "04eec86c",
   "metadata": {},
   "outputs": [],
   "source": [
    "def order(n): # 당첨 번호 개수 별로 당첨 순위를 return 해주는 함수 \n",
    "    \n",
    "    if n == 6: \n",
    "        order_n = 1\n",
    "    elif n == 5:\n",
    "        order_n = 2\n",
    "    elif n == 4:\n",
    "        order_n = 3\n",
    "    elif n == 3:\n",
    "        order_n = 4\n",
    "    elif n == 2:\n",
    "        order_n = 5\n",
    "    else:\n",
    "        order_n = 6\n",
    "    return(order_n)\n",
    "        \n",
    "\n"
   ]
  },
  {
   "cell_type": "code",
   "execution_count": 88,
   "id": "afcd0d79",
   "metadata": {},
   "outputs": [],
   "source": [
    "answers = [\n",
    "    # 최고 순위는 당첨이 확실한 번호의 개수에 + 로또 번호가 '0'- 당첨인지 아닌지 알수 없는 번호가 모두 당첨되있을때\n",
    "    order(len(win_account)+len(zero_account)), \n",
    "           \n",
    "    # 최저 순위는 당첨이 확실한 번호만 당첨이 되었다고 가정할 때\n",
    "    order(len(win_account))]"
   ]
  },
  {
   "cell_type": "code",
   "execution_count": 89,
   "id": "26827dc6",
   "metadata": {},
   "outputs": [
    {
     "name": "stdout",
     "output_type": "stream",
     "text": [
      "[3, 6]\n"
     ]
    }
   ],
   "source": [
    "print(answers)\n",
    "    "
   ]
  },
  {
   "cell_type": "code",
   "execution_count": null,
   "id": "a916eee8",
   "metadata": {},
   "outputs": [],
   "source": []
  }
 ],
 "metadata": {
  "kernelspec": {
   "display_name": "Python 3 (ipykernel)",
   "language": "python",
   "name": "python3"
  },
  "language_info": {
   "codemirror_mode": {
    "name": "ipython",
    "version": 3
   },
   "file_extension": ".py",
   "mimetype": "text/x-python",
   "name": "python",
   "nbconvert_exporter": "python",
   "pygments_lexer": "ipython3",
   "version": "3.9.7"
  }
 },
 "nbformat": 4,
 "nbformat_minor": 5
}
