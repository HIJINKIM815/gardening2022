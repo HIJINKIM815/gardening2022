{
 "cells": [
  {
   "cell_type": "markdown",
   "id": "b04adbc5",
   "metadata": {},
   "source": [
    "**수 이어 쓰기 1**"
   ]
  },
  {
   "cell_type": "code",
   "execution_count": 5,
   "id": "83ddd86e",
   "metadata": {},
   "outputs": [],
   "source": [
    "# 1부터 N까지의 수를 이어 썼을때 이 수의 길이를 출력하는 함수를 만들자\n",
    "def solution(N):\n",
    "    answer = 0\n",
    "    for i in range(1,N+1):\n",
    "        answer = answer + len(str(i))\n",
    "    return answer"
   ]
  },
  {
   "cell_type": "code",
   "execution_count": 6,
   "id": "80092ccf",
   "metadata": {},
   "outputs": [
    {
     "data": {
      "text/plain": [
       "11"
      ]
     },
     "execution_count": 6,
     "metadata": {},
     "output_type": "execute_result"
    }
   ],
   "source": [
    "solution(10) "
   ]
  },
  {
   "cell_type": "code",
   "execution_count": 7,
   "id": "31048901",
   "metadata": {},
   "outputs": [],
   "source": [
    "# for 문을 안쓰고 바로 숫자들을 합치고, 그 숫자를 카운트 하는 방식은?\n",
    "def solution(N):\n",
    "    oneToN = ''.join(range(1,N+1)).astype(str)\n",
    "    answer = len(oneToN)"
   ]
  },
  {
   "cell_type": "code",
   "execution_count": 17,
   "id": "05fbd63f",
   "metadata": {},
   "outputs": [
    {
     "ename": "TypeError",
     "evalue": "unsupported operand type(s) for //: 'list' and 'int'",
     "output_type": "error",
     "traceback": [
      "\u001b[0;31m---------------------------------------------------------------------------\u001b[0m",
      "\u001b[0;31mTypeError\u001b[0m                                 Traceback (most recent call last)",
      "\u001b[0;32m/var/folders/sy/lzv1b4r92bqb6hy15tk2qy5h0000gn/T/ipykernel_44746/218881703.py\u001b[0m in \u001b[0;36m<module>\u001b[0;34m\u001b[0m\n\u001b[1;32m      1\u001b[0m \u001b[0mnumbers\u001b[0m \u001b[0;34m=\u001b[0m \u001b[0;34m[\u001b[0m\u001b[0;36m1\u001b[0m\u001b[0;34m,\u001b[0m\u001b[0;36m2\u001b[0m\u001b[0;34m,\u001b[0m\u001b[0;36m3\u001b[0m\u001b[0;34m]\u001b[0m\u001b[0;34m\u001b[0m\u001b[0;34m\u001b[0m\u001b[0m\n\u001b[0;32m----> 2\u001b[0;31m \u001b[0mnumbers\u001b[0m \u001b[0;34m//\u001b[0m \u001b[0;36m10\u001b[0m\u001b[0;34m\u001b[0m\u001b[0;34m\u001b[0m\u001b[0m\n\u001b[0m",
      "\u001b[0;31mTypeError\u001b[0m: unsupported operand type(s) for //: 'list' and 'int'"
     ]
    }
   ],
   "source": [
    "numbers = [1,2,3]\n",
    "numbers // 10"
   ]
  },
  {
   "cell_type": "markdown",
   "id": "f4475468",
   "metadata": {},
   "source": [
    "**숫자 N을 1,2,3의 합으로 나타내기**"
   ]
  },
  {
   "cell_type": "code",
   "execution_count": 18,
   "id": "82d40af7",
   "metadata": {},
   "outputs": [
    {
     "ename": "SyntaxError",
     "evalue": "invalid syntax (3642063649.py, line 10)",
     "output_type": "error",
     "traceback": [
      "\u001b[0;36m  File \u001b[0;32m\"/var/folders/sy/lzv1b4r92bqb6hy15tk2qy5h0000gn/T/ipykernel_44746/3642063649.py\"\u001b[0;36m, line \u001b[0;32m10\u001b[0m\n\u001b[0;31m    1 2   3     4\u001b[0m\n\u001b[0m      ^\u001b[0m\n\u001b[0;31mSyntaxError\u001b[0m\u001b[0;31m:\u001b[0m invalid syntax\n"
     ]
    }
   ],
   "source": [
    "# 숫자 N 을 1,2,3의 합으로 나타내는 방법\n",
    "# 3 은 \n",
    "# (1,1,1)\n",
    "# (1,2)\n",
    "# (2,1)\n",
    "# (3)\n",
    "# 세가지의 방법으로 나타낼 수 있다.\n",
    "\n",
    "# 숫자 N은 먼저 N개의 1의 합으로 나타낼 수 있다 (1,1,1,1,1, ... ,1) \n",
    "1 2   3     4\n",
    "1 1+1 1+1+1 1+1+1+1\n",
    "ㅋ          1+2+1\n",
    "  2   1+2   1+3\n",
    "      2+1   2+2\n",
    "      3     3+1\n",
    "            4"
   ]
  },
  {
   "cell_type": "markdown",
   "id": "1d5faa3d",
   "metadata": {},
   "source": [
    "**예산 정하기**"
   ]
  },
  {
   "cell_type": "code",
   "execution_count": 62,
   "id": "e43bf777",
   "metadata": {},
   "outputs": [],
   "source": [
    "def solution(d, budget): \n",
    "    # 가장 무식한 방법\n",
    "    sorted_d = sorted(d,reverse=True)\n",
    "    for i in range(len(d)):\n",
    "        if sum(sorted_d[i:])< budget+1 :\n",
    "            answer = len(sorted_d)-i\n",
    "            break\n",
    "        \n",
    "    return answer"
   ]
  },
  {
   "cell_type": "code",
   "execution_count": 63,
   "id": "2cb81708",
   "metadata": {},
   "outputs": [],
   "source": [
    "d = [1,2,3]\n",
    "budget = 5"
   ]
  },
  {
   "cell_type": "code",
   "execution_count": 64,
   "id": "14bf6e3f",
   "metadata": {},
   "outputs": [
    {
     "data": {
      "text/plain": [
       "2"
      ]
     },
     "execution_count": 64,
     "metadata": {},
     "output_type": "execute_result"
    }
   ],
   "source": [
    "solution(d,budget)"
   ]
  },
  {
   "cell_type": "code",
   "execution_count": 65,
   "id": "7556808d",
   "metadata": {},
   "outputs": [
    {
     "data": {
      "text/plain": [
       "False"
      ]
     },
     "execution_count": 65,
     "metadata": {},
     "output_type": "execute_result"
    }
   ],
   "source": [
    "sum(d)<budget+1"
   ]
  },
  {
   "cell_type": "code",
   "execution_count": null,
   "id": "ae40c365",
   "metadata": {},
   "outputs": [],
   "source": []
  }
 ],
 "metadata": {
  "kernelspec": {
   "display_name": "Python 3 (ipykernel)",
   "language": "python",
   "name": "python3"
  },
  "language_info": {
   "codemirror_mode": {
    "name": "ipython",
    "version": 3
   },
   "file_extension": ".py",
   "mimetype": "text/x-python",
   "name": "python",
   "nbconvert_exporter": "python",
   "pygments_lexer": "ipython3",
   "version": "3.9.9"
  }
 },
 "nbformat": 4,
 "nbformat_minor": 5
}
