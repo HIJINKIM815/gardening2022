{
 "cells": [
  {
   "cell_type": "markdown",
   "id": "fa9dc2c8",
   "metadata": {},
   "source": [
    "**정수 n을 매개 변수를 입력받아, 각자리의 수를 내림차순으로 정렬한 값을 return**"
   ]
  },
  {
   "cell_type": "code",
   "execution_count": 56,
   "id": "18def3a4",
   "metadata": {},
   "outputs": [],
   "source": [
    "import numpy as np\n",
    "import pandas as pd\n",
    "import math\n",
    "\n",
    "# 매개변수 n 을 받는 함수 'solution'\n",
    "def solution(n): \n",
    "    # 각 자리의 숫자들을 입력 받을 list\n",
    "    num_list = [] \n",
    "    # 몇 자리 수인지 판단하기 위해 밑이 10인 log에 값을 입력한다.\n",
    "    x = int(round(math.log10(n),0))\n",
    "    \n",
    "    # 자리수 만큼 for 문을 돌려서 각 자리의 수를 list에 저장한다.\n",
    "    for i in range(x+1):\n",
    "        # 일의 자리 수부터 차례로 구한다(10으로 나누었을때, 나머지)\n",
    "        # append를 이용하여 num_list에 추가\n",
    "        num_list.append(int(n%10))\n",
    "        # 나머지를 구한후 그 자리수는 10으로 나누어 버려버린다. \n",
    "        n=int(math.trunc(n/10))\n",
    "    \n",
    "    # num_list를 내림차순으로 정렬\n",
    "    num_list=sorted(num_list,reverse=True)\n",
    "    print(num_list)\n",
    "    global y \n",
    "    y = str(num_list[0])\n",
    "    if len(num_list)>1:\n",
    "        for i in range(1,x+1):\n",
    "            y = y+str(num_list[i])\n",
    "        \n",
    "    return(int(y))\n",
    "\n",
    "\n",
    "\n",
    "\n",
    "\n",
    "\n"
   ]
  },
  {
   "cell_type": "code",
   "execution_count": 63,
   "id": "deed3f4c",
   "metadata": {},
   "outputs": [],
   "source": [
    "# 문자열을 이용해서 해결하는 방법\n",
    "def solution(n):\n",
    "    str_n = str(n)\n",
    "    n_list = [] \n",
    "    for i in range(len(str_n)):\n",
    "        append.n_list(str_n[i])\n",
    "    n_list = sorted(n_list, reverse=True)\n",
    "    sorted_str_n = n_list[0]\n",
    "    for i in range(1,len(str_n)):\n",
    "        sorted_str_n = sorted_str_n+n_list[i]\n",
    "        \n",
    "    return(int(sorted_str_n))\n",
    "        \n",
    "        \n"
   ]
  },
  {
   "cell_type": "code",
   "execution_count": null,
   "id": "f39d5ec2",
   "metadata": {},
   "outputs": [],
   "source": []
  }
 ],
 "metadata": {
  "kernelspec": {
   "display_name": "Python 3 (ipykernel)",
   "language": "python",
   "name": "python3"
  },
  "language_info": {
   "codemirror_mode": {
    "name": "ipython",
    "version": 3
   },
   "file_extension": ".py",
   "mimetype": "text/x-python",
   "name": "python",
   "nbconvert_exporter": "python",
   "pygments_lexer": "ipython3",
   "version": "3.9.7"
  }
 },
 "nbformat": 4,
 "nbformat_minor": 5
}
