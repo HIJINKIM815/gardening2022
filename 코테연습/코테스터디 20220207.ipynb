{
 "cells": [
  {
   "cell_type": "markdown",
   "id": "e4272028",
   "metadata": {},
   "source": [
    "창영이는 이번학기에 어떤 교양수업을 듣고 있다. 그런데, 그 교수님은 매우 지각을 자주 하시고 게다가 수업에 지각을 하였을 경우 수업을 일찍 마쳐 주기까지 하는 것을 발견하였다.\n",
    "\n",
    "창영이는 교수님의 지각시간 0이상의 정수 t와 수업을 일찍 마쳐주는 시간 s 사이에 다음과 같은 관계가 있음을 알았다.\n",
    "\n",
    "s = t2\n",
    "\n",
    "문득 창영이는 수업시간 d가 주어졌을 때, 교수님이 얼마나 지각을 할 수 있는지 궁금해졌고, 여러분은 창영이를 도와서 교수님이 지각할 수 있는 최대의 시간을 알아보자. 물론, 교수님이 도착하자마자 수업을 일찍 마쳐서 수업이 끝나는 것도 가능하다. 예를 들어, 수업시간이 6분인 경우, 교수님이 2분 지각을 하면, 4분간 수업을 일찍 마치게 되고, 2+4=6이기 때문에 바로 수업을 끝낼 수 있다. 또 다른 예로, 수업시간이 7분인 경우 교수님이 2분 지각을 하면, 수업을 4분 일찍 마쳐줄 수 있고, 2+4≤7 이므로 가능한 경우가 되고, 교수님이 3분 지각을 하게 되면, 수업을 9분 일찍 마쳐야 되고, 3+9>7 이므로, 교수님이 3분 지각을 하는 것은 불가능하다. 따라서, 교수님은 수업시간이 7분인 경우 교수님은 최대 2분간 지각을 할 수 있다."
   ]
  },
  {
   "cell_type": "markdown",
   "id": "eadc5ebf",
   "metadata": {},
   "source": [
    "창영이가 궁금한 경우의 수 T(1 ≤ T ≤ 100)가 첫 번째 줄에 주어지고, 이어서 T 개의 줄에 수업시간 d(1 ≤ d ≤ 10,000, d는 정수)가 차례대로 주어진다."
   ]
  },
  {
   "cell_type": "code",
   "execution_count": 33,
   "id": "15524108",
   "metadata": {},
   "outputs": [
    {
     "name": "stdout",
     "output_type": "stream",
     "text": [
      "경우의 수:1\n",
      "수업 시간(분):6\n",
      "2\n"
     ]
    }
   ],
   "source": [
    "### 몇번이나 관찰할지 경우의 수를 입력받는다.\n",
    "T = int(input(\"경우의 수:\"))\n",
    "### 수업시간의 길이(분)을 입력받을 리스트\n",
    "classTime =[]\n",
    "for i in range(T):\n",
    "    classTime.append(int(input(\"수업 시간(분):\")))\n",
    "    \n",
    "for i in range(T):\n",
    "    for t in range(classTime[i]+10000):\n",
    "        if t + t*t > classTime[i]:\n",
    "            print(t-1)\n",
    "            break\n",
    "            "
   ]
  },
  {
   "cell_type": "markdown",
   "id": "c71e3aab",
   "metadata": {},
   "source": [
    "**수학적호기심**"
   ]
  },
  {
   "cell_type": "markdown",
   "id": "a6fe7339",
   "metadata": {},
   "source": [
    "두 정수 n과 m이 주어졌을 때, 0 < a < b < n인 정수 쌍 (a, b) 중에서 (a2+b2+m)/(ab)가 정수인 쌍의 개수를 구하는 프로그램을 작성하시오.\n",
    "첫째 줄에 테스트 케이스의 개수 T가 주어진다. 각 테스트 케이스는 한 줄로 이루어져 있으며, n과 m이 주어진다. 두 수는 0보다 크고, 100보다 작거나 같다.\n",
    "각 테스트 케이스마다 문제의 조건을 만족하는 (a, b)쌍의 개수를 출력한다."
   ]
  },
  {
   "cell_type": "code",
   "execution_count": 38,
   "id": "2d55cd93",
   "metadata": {},
   "outputs": [
    {
     "name": "stdout",
     "output_type": "stream",
     "text": [
      "1\n",
      "10 1\n"
     ]
    }
   ],
   "source": [
    "### 입력받을 테스트 케이스의 개수 \n",
    "T = int(input())\n",
    "list_T=[]\n",
    "### 테스트 케이스 입력받기\n",
    "for i in range(T):\n",
    "    n,m = map(int, input().split(' '))\n",
    "    list_T.append([n,m])"
   ]
  },
  {
   "cell_type": "code",
   "execution_count": 39,
   "id": "49d43a27",
   "metadata": {},
   "outputs": [
    {
     "data": {
      "text/plain": [
       "[[10, 1]]"
      ]
     },
     "execution_count": 39,
     "metadata": {},
     "output_type": "execute_result"
    }
   ],
   "source": [
    "list_T"
   ]
  },
  {
   "cell_type": "code",
   "execution_count": 42,
   "id": "0bb24618",
   "metadata": {},
   "outputs": [],
   "source": [
    "### 입력받을 테스트 케이스의 개수 \n",
    "T = int(input())\n",
    "list_T=[]\n",
    "### 테스트 케이스 입력받기\n",
    "for i in range(T):\n",
    "    n,m = map(int, input().split(' '))\n",
    "    list_T.append([n,m])\n",
    "   \n",
    "for i in range(T):\n",
    "    for a in range(1,list_T[T][0]):\n",
    "        for b in range(a,list_T[T][0]):\n",
    "            if (a**2+b**2+list_T[T][1])%(a*b)==0:\n",
    "                n_iter = n_iter+1\n",
    "    print(n_iter)            \n",
    "                \n",
    "        "
   ]
  },
  {
   "cell_type": "code",
   "execution_count": 43,
   "id": "fe493758",
   "metadata": {},
   "outputs": [
    {
     "data": {
      "text/plain": [
       "2"
      ]
     },
     "execution_count": 43,
     "metadata": {},
     "output_type": "execute_result"
    }
   ],
   "source": [
    "n_iter"
   ]
  },
  {
   "cell_type": "code",
   "execution_count": 51,
   "id": "5754aa0e",
   "metadata": {},
   "outputs": [
    {
     "name": "stdout",
     "output_type": "stream",
     "text": [
      "3\n",
      "10 1\n",
      "20 3\n",
      "30 4\n",
      "2\n",
      "4\n",
      "5\n"
     ]
    }
   ],
   "source": [
    "### 입력받을 테스트 케이스의 개수 \n",
    "T = int(input())\n",
    "list_T=[]\n",
    "### 테스트 케이스 입력받기\n",
    "for i in range(T):\n",
    "    n,m = map(int, input().split(' '))\n",
    "    list_T.append([n,m])\n",
    "    \n",
    "for i in range(T):\n",
    "    n_iter = 0\n",
    "    for a in range(1,list_T[i][0]):\n",
    "        for b in range(a+1,list_T[i][0]):\n",
    "            if (a**2+b**2+list_T[i][1])%(a*b)==0:\n",
    "                n_iter = n_iter+1\n",
    "    print(n_iter)            \n",
    "                "
   ]
  },
  {
   "cell_type": "code",
   "execution_count": 47,
   "id": "14216911",
   "metadata": {},
   "outputs": [
    {
     "data": {
      "text/plain": [
       "10"
      ]
     },
     "execution_count": 47,
     "metadata": {},
     "output_type": "execute_result"
    }
   ],
   "source": [
    "list_T[0][0]"
   ]
  },
  {
   "cell_type": "code",
   "execution_count": null,
   "id": "92803483",
   "metadata": {},
   "outputs": [],
   "source": []
  }
 ],
 "metadata": {
  "kernelspec": {
   "display_name": "Python 3 (ipykernel)",
   "language": "python",
   "name": "python3"
  },
  "language_info": {
   "codemirror_mode": {
    "name": "ipython",
    "version": 3
   },
   "file_extension": ".py",
   "mimetype": "text/x-python",
   "name": "python",
   "nbconvert_exporter": "python",
   "pygments_lexer": "ipython3",
   "version": "3.9.10"
  }
 },
 "nbformat": 4,
 "nbformat_minor": 5
}
