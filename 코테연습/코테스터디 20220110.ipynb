{
 "cells": [
  {
   "cell_type": "markdown",
   "id": "50a782dc",
   "metadata": {},
   "source": [
    "문자열 N개가 주어진다. 이때, 문자열에 포함되어 있는 소문자, 대문자, 숫자, 공백의 개수를 구하는 프로그램을 작성하시오.\n",
    "\n",
    "각 문자열은 알파벳 소문자, 대문자, 숫자, 공백으로만 이루어져 있다.\n",
    "\n",
    "입력\n",
    "첫째 줄부터 N번째 줄까지 문자열이 주어진다. (1 ≤ N ≤ 100) 문자열의 길이는 100을 넘지 않는다."
   ]
  },
  {
   "cell_type": "code",
   "execution_count": 57,
   "id": "04c703b1",
   "metadata": {},
   "outputs": [
    {
     "name": "stdout",
     "output_type": "stream",
     "text": [
      "My major is applied mathematics\n"
     ]
    }
   ],
   "source": [
    "input_string = str(input())"
   ]
  },
  {
   "cell_type": "code",
   "execution_count": 58,
   "id": "42f6a08b",
   "metadata": {},
   "outputs": [
    {
     "name": "stdout",
     "output_type": "stream",
     "text": [
      "My major is applied mathematics\n"
     ]
    }
   ],
   "source": [
    "print(input_string)"
   ]
  },
  {
   "cell_type": "code",
   "execution_count": 59,
   "id": "53cda325",
   "metadata": {},
   "outputs": [
    {
     "data": {
      "text/plain": [
       "'My major is applied mathematics'"
      ]
     },
     "execution_count": 59,
     "metadata": {},
     "output_type": "execute_result"
    }
   ],
   "source": [
    "input_string"
   ]
  },
  {
   "cell_type": "code",
   "execution_count": 62,
   "id": "c0c9b99e",
   "metadata": {},
   "outputs": [
    {
     "data": {
      "text/plain": [
       "4"
      ]
     },
     "execution_count": 62,
     "metadata": {},
     "output_type": "execute_result"
    }
   ],
   "source": [
    "input_string.count(' ')"
   ]
  },
  {
   "cell_type": "code",
   "execution_count": 63,
   "id": "7a7e3c67",
   "metadata": {},
   "outputs": [],
   "source": [
    "def solution(input_string):\n",
    "    count_empty = input_string.count(' ')\n",
    "    count_lower = input_string.count('a'or'b'or'c'or'd'or'e'or'f'or'g'or'h'or'i'or'j'or'k'or'l'or'm'or'n'or'o'or'p'or'q'or's'or'u'or'v'or'x'or'y'or'z')\n",
    "    count_number = input_string.count('1'or'2'or'3'or'4'or'5'or'6'or'7'or'8'or'9'or'0')\n",
    "    count_upper = len(input_string)-count_empty-count_lower-count_number\n",
    "    print(count_empty,count_lower,count_number,count_upper)\n",
    "    "
   ]
  },
  {
   "cell_type": "code",
   "execution_count": 64,
   "id": "8aace054",
   "metadata": {},
   "outputs": [
    {
     "name": "stdout",
     "output_type": "stream",
     "text": [
      "4 4 0 23\n"
     ]
    }
   ],
   "source": [
    "solution(input_string)"
   ]
  },
  {
   "cell_type": "code",
   "execution_count": null,
   "id": "12026bd5",
   "metadata": {},
   "outputs": [],
   "source": []
  }
 ],
 "metadata": {
  "kernelspec": {
   "display_name": "Python 3 (ipykernel)",
   "language": "python",
   "name": "python3"
  },
  "language_info": {
   "codemirror_mode": {
    "name": "ipython",
    "version": 3
   },
   "file_extension": ".py",
   "mimetype": "text/x-python",
   "name": "python",
   "nbconvert_exporter": "python",
   "pygments_lexer": "ipython3",
   "version": "3.9.9"
  }
 },
 "nbformat": 4,
 "nbformat_minor": 5
}
