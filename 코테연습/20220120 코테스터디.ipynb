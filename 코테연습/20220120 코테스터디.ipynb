{
 "cells": [
  {
   "cell_type": "markdown",
   "id": "2a6b1279",
   "metadata": {},
   "source": [
    "철수는 쿠키를 세상에서 제일 좋아한다. 쿠키가 있는 곳이라면 철수도 반드시 있다고 할 정도이다. 철수는 날마다 자신이 가지고 있는 쿠키 중 C개를 먹는다. C개 미만의 쿠키가 남아 있다면 전부 먹는다. 철수가 쿠키 N개를 가지고 있으면 며칠 동안 먹을 수 있는지 구하시오."
   ]
  },
  {
   "cell_type": "code",
   "execution_count": 4,
   "id": "013b6b54",
   "metadata": {},
   "outputs": [
    {
     "name": "stdout",
     "output_type": "stream",
     "text": [
      "12 4\n"
     ]
    }
   ],
   "source": [
    "c, n = list(map(int,input().split(' '))) ### 철수가 가지고 있는 쿠키의 개수 c, 철수가 하루에 먹을 수있는 쿠키의 개수 n"
   ]
  },
  {
   "cell_type": "code",
   "execution_count": 5,
   "id": "d391d6ab",
   "metadata": {},
   "outputs": [
    {
     "name": "stdout",
     "output_type": "stream",
     "text": [
      "3\n"
     ]
    }
   ],
   "source": [
    "if c%n==0:\n",
    "    print(c//n)\n",
    "    \n",
    "else:\n",
    "    print(c//n+1)"
   ]
  },
  {
   "cell_type": "code",
   "execution_count": 2,
   "id": "3de7cefc",
   "metadata": {},
   "outputs": [
    {
     "data": {
      "text/plain": [
       "1"
      ]
     },
     "execution_count": 2,
     "metadata": {},
     "output_type": "execute_result"
    }
   ],
   "source": [
    "3//2"
   ]
  },
  {
   "cell_type": "code",
   "execution_count": 6,
   "id": "6b513487",
   "metadata": {},
   "outputs": [
    {
     "name": "stdout",
     "output_type": "stream",
     "text": [
      "5 2\n",
      "3\n"
     ]
    }
   ],
   "source": [
    "c, n = list(map(int,input().split(' '))) ### 철수가 가지고 있는 쿠키의 개수 c, 철수가 하루에 먹을 수있는 쿠키의 개수 n\n",
    "if c%n==0:\n",
    "    print(c//n)\n",
    "    \n",
    "else:\n",
    "    print((c//n)+1)"
   ]
  },
  {
   "cell_type": "code",
   "execution_count": null,
   "id": "63b1d85d",
   "metadata": {},
   "outputs": [],
   "source": []
  }
 ],
 "metadata": {
  "kernelspec": {
   "display_name": "Python 3 (ipykernel)",
   "language": "python",
   "name": "python3"
  },
  "language_info": {
   "codemirror_mode": {
    "name": "ipython",
    "version": 3
   },
   "file_extension": ".py",
   "mimetype": "text/x-python",
   "name": "python",
   "nbconvert_exporter": "python",
   "pygments_lexer": "ipython3",
   "version": "3.9.10"
  }
 },
 "nbformat": 4,
 "nbformat_minor": 5
}
