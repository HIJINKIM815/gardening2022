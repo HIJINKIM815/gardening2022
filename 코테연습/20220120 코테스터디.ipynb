{
 "cells": [
  {
   "cell_type": "markdown",
   "id": "6188df0a",
   "metadata": {},
   "source": [
    "철수는 쿠키를 세상에서 제일 좋아한다. 쿠키가 있는 곳이라면 철수도 반드시 있다고 할 정도이다. 철수는 날마다 자신이 가지고 있는 쿠키 중 C개를 먹는다. C개 미만의 쿠키가 남아 있다면 전부 먹는다. 철수가 쿠키 N개를 가지고 있으면 며칠 동안 먹을 수 있는지 구하시오."
   ]
  },
  {
   "cell_type": "code",
   "execution_count": 2,
   "id": "325dd95f",
   "metadata": {},
   "outputs": [
    {
     "name": "stdout",
     "output_type": "stream",
     "text": [
      "10 3\n"
     ]
    }
   ],
   "source": [
    "c, n = list(map(int,input().split(' '))) ### 철수가 가지고 있는 쿠키의 개수 c, 철수가 하루에 먹을 수있는 쿠키의 개수 n"
   ]
  },
  {
   "cell_type": "code",
   "execution_count": 3,
   "id": "d350e70d",
   "metadata": {},
   "outputs": [
    {
     "name": "stdout",
     "output_type": "stream",
     "text": [
      "4\n"
     ]
    }
   ],
   "source": [
    "if c%n==0:\n",
    "    print(c//n)\n",
    "    \n",
    "else:\n",
    "    print(c//n+1)"
   ]
  },
  {
   "cell_type": "code",
   "execution_count": 4,
   "id": "dd3155d5",
   "metadata": {},
   "outputs": [
    {
     "data": {
      "text/plain": [
       "1"
      ]
     },
     "execution_count": 4,
     "metadata": {},
     "output_type": "execute_result"
    }
   ],
   "source": [
    "3//2"
   ]
  },
  {
   "cell_type": "code",
   "execution_count": 5,
   "id": "cd2c5275",
   "metadata": {},
   "outputs": [
    {
     "name": "stdout",
     "output_type": "stream",
     "text": [
      "30 3\n",
      "10\n"
     ]
    }
   ],
   "source": [
    "c, n = list(map(int,input().split(' '))) \n",
    "if c%n==0:\n",
    "    print(c//n)\n",
    "    \n",
    "else:\n",
    "    print((c//n)+1)"
   ]
  },
  {
   "cell_type": "code",
   "execution_count": 8,
   "id": "9bc94b4a",
   "metadata": {},
   "outputs": [
    {
     "name": "stdout",
     "output_type": "stream",
     "text": [
      "3\n",
      "10 3\n",
      "11 2\n",
      "13 4\n",
      "4\n",
      "6\n",
      "4\n"
     ]
    }
   ],
   "source": [
    "t = int(input()) \n",
    "t_list = []\n",
    "for i in range(t):\n",
    "    c, n = list(map(int,input().split(' ')))\n",
    "    if c%n==0:\n",
    "        t_list.append(c//n)\n",
    "    else:\n",
    "        t_list.append(c//n+1)\n",
    "        \n",
    "for i in range(t):\n",
    "    print(t_list[i])\n",
    "    "
   ]
  },
  {
   "cell_type": "code",
   "execution_count": 11,
   "id": "b9a0bc6c",
   "metadata": {},
   "outputs": [
    {
     "name": "stdout",
     "output_type": "stream",
     "text": [
      "방학기간44\n",
      "풀어야하는 수학 문제 페이지 수100\n",
      "풀어야하는 국어 문제 페이지 수5\n",
      "하루에 최대한 풀수 있는 수학 문제 페이지 수20\n",
      "하루에 최대한 풀수 있는 국어 문제 페이지 수2\n"
     ]
    }
   ],
   "source": [
    "### 방학숙제 \n",
    "### 한 줄에 하나씩 총 다섯 줄에 걸쳐 L, A, B, C, D가 주어진다.\n",
    "L = int(input(\"방학기간\"))\n",
    "A = int(input(\"풀어야하는 수학 문제 페이지 수\"))\n",
    "B = int(input(\"풀어야하는 국어 문제 페이지 수\"))\n",
    "C = int(input(\"하루에 최대한 풀수 있는 수학 문제 페이지 수\"))\n",
    "D = int(input(\"하루에 최대한 풀수 있는 국어 문제 페이지 수\"))"
   ]
  },
  {
   "cell_type": "code",
   "execution_count": 12,
   "id": "4292c9a2",
   "metadata": {},
   "outputs": [
    {
     "data": {
      "text/plain": [
       "(20, 0)"
      ]
     },
     "execution_count": 12,
     "metadata": {},
     "output_type": "execute_result"
    }
   ],
   "source": [
    "divmod(A, B)"
   ]
  },
  {
   "cell_type": "code",
   "execution_count": null,
   "id": "e1261a75",
   "metadata": {},
   "outputs": [],
   "source": [
    "print(L-max(A//C,B//D))"
   ]
  }
 ],
 "metadata": {
  "kernelspec": {
   "display_name": "Python 3 (ipykernel)",
   "language": "python",
   "name": "python3"
  },
  "language_info": {
   "codemirror_mode": {
    "name": "ipython",
    "version": 3
   },
   "file_extension": ".py",
   "mimetype": "text/x-python",
   "name": "python",
   "nbconvert_exporter": "python",
   "pygments_lexer": "ipython3",
   "version": "3.9.10"
  }
 },
 "nbformat": 4,
 "nbformat_minor": 5
}
