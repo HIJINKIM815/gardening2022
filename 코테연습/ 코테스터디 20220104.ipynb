{
 "cells": [
  {
   "cell_type": "markdown",
   "id": "3fe3ebea",
   "metadata": {},
   "source": [
    "**N과 M(7)**"
   ]
  },
  {
   "cell_type": "markdown",
   "id": "62ab7493",
   "metadata": {},
   "source": [
    "N개의 모두 다른 자연수가 주어졌을때, M개의 자연수를 뽑아 수열 오름차순으로 정리하여라."
   ]
  },
  {
   "cell_type": "markdown",
   "id": "e4fa6d8d",
   "metadata": {},
   "source": [
    "총 N*(N-1)*(N-2)*...*(N-M+1) 총 M개의 수열이 만들어지고 이 수열을 차레대로 출력하도록 하면 된다.\n"
   ]
  },
  {
   "cell_type": "code",
   "execution_count": 25,
   "id": "f7926699",
   "metadata": {},
   "outputs": [
    {
     "name": "stdout",
     "output_type": "stream",
     "text": [
      "4 2 \n",
      "1 3 5 7 \n"
     ]
    }
   ],
   "source": [
    "\n",
    "def f():\n",
    "    n,m = list(map(int,input().split()))\n",
    "    series = list(map(int,input().split()))\n",
    "\n",
    "    s = []\n",
    "    if len(s) == m:\n",
    "        print(' '.join(map(str, s)))\n",
    "        return\n",
    "    \n",
    "    series = sorted(series)\n",
    "    for i in range(len(series)):\n",
    "        if series[i] in s:\n",
    "            continue\n",
    "        s.append(series[i])\n",
    "        s.pop()\n",
    "\n",
    "f()"
   ]
  },
  {
   "cell_type": "code",
   "execution_count": 50,
   "id": "b874d3be",
   "metadata": {},
   "outputs": [
    {
     "name": "stdout",
     "output_type": "stream",
     "text": [
      "4 2\n",
      "1 3 5 7\n",
      "1 3\n",
      "1 5\n",
      "1 7\n",
      "3 1\n",
      "3 5\n",
      "3 7\n",
      "5 1\n",
      "5 3\n",
      "5 7\n",
      "7 1\n",
      "7 3\n",
      "7 5\n"
     ]
    }
   ],
   "source": [
    "\n",
    "n,m = list(map(int,input().split()))\n",
    "series = list(map(int,input().split()))\n",
    "\n",
    "s = []\n",
    "def f():\n",
    "    if len(s) == m:\n",
    "        print(' '.join(map(str, s)))\n",
    "        return\n",
    "\n",
    "    for i in series:\n",
    "        if i in s:\n",
    "            continue\n",
    "        s.append(i)\n",
    "        f()\n",
    "        s.pop()\n",
    "\n",
    "f()"
   ]
  },
  {
   "cell_type": "code",
   "execution_count": 5,
   "id": "dec85f17",
   "metadata": {},
   "outputs": [
    {
     "name": "stdout",
     "output_type": "stream",
     "text": [
      "5 2\n"
     ]
    }
   ],
   "source": [
    "n,m = list(map(int,input().split()))"
   ]
  },
  {
   "cell_type": "markdown",
   "id": "0fb36f98",
   "metadata": {},
   "source": [
    "**프로그래머스(가운데 글자 가져오기)**"
   ]
  },
  {
   "cell_type": "code",
   "execution_count": 49,
   "id": "4dc277ae",
   "metadata": {},
   "outputs": [],
   "source": [
    "def solution(s):\n",
    "    if len(s)%2 == 0:\n",
    "        answer = s[int(len(s)/2)-1:int(len(s)/2)+1]\n",
    "    else:\n",
    "        answer = s[int(len(s)-1)/2]\n",
    "    return answer"
   ]
  },
  {
   "cell_type": "code",
   "execution_count": null,
   "id": "c79560ac",
   "metadata": {},
   "outputs": [],
   "source": []
  }
 ],
 "metadata": {
  "kernelspec": {
   "display_name": "Python 3 (ipykernel)",
   "language": "python",
   "name": "python3"
  },
  "language_info": {
   "codemirror_mode": {
    "name": "ipython",
    "version": 3
   },
   "file_extension": ".py",
   "mimetype": "text/x-python",
   "name": "python",
   "nbconvert_exporter": "python",
   "pygments_lexer": "ipython3",
   "version": "3.9.9"
  }
 },
 "nbformat": 4,
 "nbformat_minor": 5
}
