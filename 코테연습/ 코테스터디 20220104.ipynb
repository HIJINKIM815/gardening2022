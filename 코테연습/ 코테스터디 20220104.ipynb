{
 "cells": [
  {
   "cell_type": "code",
   "execution_count": 7,
   "id": "5750f7ea",
   "metadata": {},
   "outputs": [
    {
     "data": {
      "text/plain": [
       "['a']"
      ]
     },
     "execution_count": 7,
     "metadata": {},
     "output_type": "execute_result"
    }
   ],
   "source": [
    "# pop() - 리스트에서 맨 끝의 원소를 꺼낼때 \n",
    "list1 = [] # 빈 리스트 \n",
    "list1.append('a') # list1에 'a'를 넣는다.\n",
    "list1"
   ]
  },
  {
   "cell_type": "code",
   "execution_count": 8,
   "id": "8b959e93",
   "metadata": {},
   "outputs": [
    {
     "data": {
      "text/plain": [
       "['a', 1, 2, 3]"
      ]
     },
     "execution_count": 8,
     "metadata": {},
     "output_type": "execute_result"
    }
   ],
   "source": [
    "# list1에 1,2,3을 차례대로 넣어보자\n",
    "list1.append(1)\n",
    "list1.append(2)\n",
    "list1.append(3)\n",
    "list1"
   ]
  },
  {
   "cell_type": "code",
   "execution_count": 9,
   "id": "b87dfe76",
   "metadata": {},
   "outputs": [
    {
     "data": {
      "text/plain": [
       "3"
      ]
     },
     "execution_count": 9,
     "metadata": {},
     "output_type": "execute_result"
    }
   ],
   "source": [
    "# 맨 마지막 원소인 3을 꺼내보도록 하자\n",
    "list1.pop()"
   ]
  },
  {
   "cell_type": "code",
   "execution_count": 10,
   "id": "d5e5a62d",
   "metadata": {},
   "outputs": [
    {
     "data": {
      "text/plain": [
       "['a', 1, 2]"
      ]
     },
     "execution_count": 10,
     "metadata": {},
     "output_type": "execute_result"
    }
   ],
   "source": [
    "list1 # list1.pop()후 결과 "
   ]
  },
  {
   "cell_type": "markdown",
   "id": "18af2f7d",
   "metadata": {},
   "source": [
    "**N과 M(1)**"
   ]
  },
  {
   "cell_type": "markdown",
   "id": "94b2b7d8",
   "metadata": {},
   "source": [
    "자연수 N과 M을 입력받아, 1에서 N까지 수를 이용하여 M개 수를 가지는 수열을 차례대로 출력하여라.\n",
    " - 입력예제\n",
    "    4 2\n",
    "    \n",
    "    1 2\n",
    "    \n",
    "    1 3\n",
    "    \n",
    "    1 4\n",
    "    \n",
    "    2 3\n",
    "    \n",
    "    2 4\n",
    "    \n",
    "    3 4\n"
   ]
  },
  {
   "cell_type": "code",
   "execution_count": 12,
   "id": "36f05fee",
   "metadata": {},
   "outputs": [
    {
     "name": "stdout",
     "output_type": "stream",
     "text": [
      "3 1\n"
     ]
    }
   ],
   "source": [
    "n,m = list(map(int, input().split()))\n",
    "def solution():\n",
    "    s=[]\n",
    "    for i in range(n):\n",
    "        if len(s)==m:\n",
    "            return s\n",
    "        "
   ]
  },
  {
   "cell_type": "code",
   "execution_count": 13,
   "id": "66bcc907",
   "metadata": {},
   "outputs": [
    {
     "data": {
      "text/plain": [
       "3"
      ]
     },
     "execution_count": 13,
     "metadata": {},
     "output_type": "execute_result"
    }
   ],
   "source": [
    "s=[]\n",
    "def solution(n,m):\n",
    "    \n",
    "    \n",
    "        \n",
    "        if len(s)==m:\n",
    "            print(' '.join(map(str, s)))\n",
    "            return \n",
    "        "
   ]
  },
  {
   "cell_type": "markdown",
   "id": "3fe3ebea",
   "metadata": {},
   "source": [
    "**N과 M(7)**"
   ]
  },
  {
   "cell_type": "markdown",
   "id": "62ab7493",
   "metadata": {},
   "source": [
    "N개의 모두 다른 자연수가 주어졌을때, M개의 자연수를 뽑아 수열 오름차순으로 정리하여라."
   ]
  },
  {
   "cell_type": "markdown",
   "id": "e4fa6d8d",
   "metadata": {},
   "source": [
    "총 N*(N-1)*(N-2)*...*(N-M+1) 개 의 수열이 만들어지고 이 수열을 차레대로 출력하도록 하면 된다.\n"
   ]
  },
  {
   "cell_type": "code",
   "execution_count": 15,
   "id": "b874d3be",
   "metadata": {},
   "outputs": [
    {
     "name": "stdout",
     "output_type": "stream",
     "text": [
      "4 2 \n",
      "1 3 5 7\n",
      "1 1\n",
      "1 3\n",
      "1 5\n",
      "1 7\n",
      "3 1\n",
      "3 3\n",
      "3 5\n",
      "3 7\n",
      "5 1\n",
      "5 3\n",
      "5 5\n",
      "5 7\n",
      "7 1\n",
      "7 3\n",
      "7 5\n",
      "7 7\n"
     ]
    }
   ],
   "source": [
    "\n",
    "n,m = list(map(int,input().split())) \n",
    "series = list(map(int,input().split()))\n",
    "\n",
    "s = [] # 수열을 생성할 리스트\n",
    "def f():\n",
    "    if len(s) == m: # 수열의 길이가 m이면 멈춘다.\n",
    "        print(' '.join(map(str, s)))\n",
    "        return\n",
    "\n",
    "    for i in series:\n",
    "        if i in s:\n",
    "            if len(s)==0:\n",
    "                continue\n",
    "            elif i>s[-1]:\n",
    "                continue\n",
    "        s.append(i)\n",
    "        f()\n",
    "        s.pop()\n",
    "\n",
    "f()"
   ]
  },
  {
   "cell_type": "code",
   "execution_count": 26,
   "id": "dec85f17",
   "metadata": {},
   "outputs": [
    {
     "data": {
      "text/plain": [
       "'1 2 3'"
      ]
     },
     "execution_count": 26,
     "metadata": {},
     "output_type": "execute_result"
    }
   ],
   "source": [
    "s = [1,2,3]\n",
    "' '.join(map(str, s))"
   ]
  },
  {
   "cell_type": "code",
   "execution_count": null,
   "id": "9590fce4",
   "metadata": {},
   "outputs": [],
   "source": []
  },
  {
   "cell_type": "markdown",
   "id": "0fb36f98",
   "metadata": {},
   "source": [
    "**프로그래머스(가운데 글자 가져오기)**"
   ]
  },
  {
   "cell_type": "code",
   "execution_count": 49,
   "id": "4dc277ae",
   "metadata": {},
   "outputs": [],
   "source": [
    "def solution(s):\n",
    "    if len(s)%2 == 0:\n",
    "        answer = s[int(len(s)/2)-1:int(len(s)/2)+1]\n",
    "    else:\n",
    "        answer = s[int(len(s)-1)/2]\n",
    "    return answer"
   ]
  },
  {
   "cell_type": "code",
   "execution_count": 16,
   "id": "c79560ac",
   "metadata": {},
   "outputs": [],
   "source": [
    "s = []"
   ]
  },
  {
   "cell_type": "code",
   "execution_count": 17,
   "id": "ab9c945a",
   "metadata": {},
   "outputs": [
    {
     "ename": "IndexError",
     "evalue": "list index out of range",
     "output_type": "error",
     "traceback": [
      "\u001b[0;31m---------------------------------------------------------------------------\u001b[0m",
      "\u001b[0;31mIndexError\u001b[0m                                Traceback (most recent call last)",
      "\u001b[0;32m/var/folders/sy/lzv1b4r92bqb6hy15tk2qy5h0000gn/T/ipykernel_66448/2713154622.py\u001b[0m in \u001b[0;36m<module>\u001b[0;34m\u001b[0m\n\u001b[0;32m----> 1\u001b[0;31m \u001b[0ms\u001b[0m\u001b[0;34m[\u001b[0m\u001b[0;34m-\u001b[0m\u001b[0;36m1\u001b[0m\u001b[0;34m]\u001b[0m\u001b[0;34m\u001b[0m\u001b[0;34m\u001b[0m\u001b[0m\n\u001b[0m",
      "\u001b[0;31mIndexError\u001b[0m: list index out of range"
     ]
    }
   ],
   "source": [
    "s[-1]"
   ]
  },
  {
   "cell_type": "code",
   "execution_count": null,
   "id": "97e77d50",
   "metadata": {},
   "outputs": [],
   "source": []
  }
 ],
 "metadata": {
  "kernelspec": {
   "display_name": "Python 3 (ipykernel)",
   "language": "python",
   "name": "python3"
  },
  "language_info": {
   "codemirror_mode": {
    "name": "ipython",
    "version": 3
   },
   "file_extension": ".py",
   "mimetype": "text/x-python",
   "name": "python",
   "nbconvert_exporter": "python",
   "pygments_lexer": "ipython3",
   "version": "3.9.9"
  }
 },
 "nbformat": 4,
 "nbformat_minor": 5
}
