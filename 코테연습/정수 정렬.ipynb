{
 "cells": [
  {
   "cell_type": "markdown",
   "id": "fa9dc2c8",
   "metadata": {},
   "source": [
    "**정수 n을 매개 변수를 입력받아, 각자리의 수를 내림차순으로 정렬한 값을 return**"
   ]
  },
  {
   "cell_type": "code",
   "execution_count": 71,
   "id": "18def3a4",
   "metadata": {},
   "outputs": [],
   "source": [
    "import numpy as np\n",
    "import pandas as pd\n",
    "import math\n",
    "\n",
    "# 매개변수 n 을 받는 함수 'solution'\n",
    "def solution(n): \n",
    "    # 각 자리의 숫자들을 입력 받을 list\n",
    "    num_list = [] \n",
    "    # 몇 자리 수인지 판단하기 위해 밑이 10인 log에 값을 입력한다.\n",
    "    x = int(math.trunc(math.log10(n)))\n",
    "    \n",
    "    # 자리수 만큼 for 문을 돌려서 각 자리의 수를 list에 저장한다.\n",
    "    for i in range(x+1):\n",
    "        # 일의 자리 수부터 차례로 구한다(10으로 나누었을때, 나머지)\n",
    "        # append를 이용하여 num_list에 추가\n",
    "        num_list.append(int(n%10))\n",
    "        # 나머지를 구한후 그 자리수는 10으로 나누어 버려버린다. \n",
    "        n=int(math.trunc(n/10))\n",
    "    \n",
    "    # num_list를 내림차순으로 정렬\n",
    "    num_list=sorted(num_list,reverse=True)\n",
    "    print(num_list)\n",
    "    y = str(num_list[0])\n",
    "    if len(num_list)>1:\n",
    "        for i in range(1,x+1):\n",
    "            y = y+str(num_list[i])\n",
    "        \n",
    "    return(int(y))\n",
    "\n",
    "\n",
    "\n",
    "\n",
    "\n"
   ]
  },
  {
   "cell_type": "code",
   "execution_count": 65,
   "id": "deed3f4c",
   "metadata": {},
   "outputs": [],
   "source": [
    "\n",
    "def solution(n): # str의 성질을 이용해서 푸는 방법\n",
    "    \n",
    "    str_n = str(n) # n의 타입을 문자형으로 바꿔주기 \n",
    "    n_list = [] # n의 숫자를 차례 대로 담을 리스트 \n",
    "    for i in range(len(str_n)): # n의 길이만큼 for문을 돌려서 각 자리 수를 추출 \n",
    "        n_list.append(str_n[i])\n",
    "    n_list = sorted(n_list, reverse=True) # 추출한 각 자리 숫자를 내림차순으로 정렬\n",
    "    sorted_str_n = n_list[0] # 정렬한 리스트를 그 순대로 다시 합치기 \n",
    "    for i in range(1,len(str_n)):\n",
    "        sorted_str_n = sorted_str_n+n_list[i]\n",
    "        \n",
    "    return(int(sorted_str_n)) # 정수형으로 return\n",
    "        \n",
    "        \n"
   ]
  },
  {
   "cell_type": "code",
   "execution_count": 70,
   "id": "8d027b32",
   "metadata": {},
   "outputs": [
    {
     "name": "stdout",
     "output_type": "stream",
     "text": [
      "[5, 4, 3, 2, 1]\n"
     ]
    },
    {
     "data": {
      "text/plain": [
       "54321"
      ]
     },
     "execution_count": 70,
     "metadata": {},
     "output_type": "execute_result"
    }
   ],
   "source": [
    "solution(12345)"
   ]
  },
  {
   "cell_type": "code",
   "execution_count": null,
   "id": "64522aa6",
   "metadata": {},
   "outputs": [],
   "source": []
  }
 ],
 "metadata": {
  "kernelspec": {
   "display_name": "Python 3 (ipykernel)",
   "language": "python",
   "name": "python3"
  },
  "language_info": {
   "codemirror_mode": {
    "name": "ipython",
    "version": 3
   },
   "file_extension": ".py",
   "mimetype": "text/x-python",
   "name": "python",
   "nbconvert_exporter": "python",
   "pygments_lexer": "ipython3",
   "version": "3.9.7"
  }
 },
 "nbformat": 4,
 "nbformat_minor": 5
}
