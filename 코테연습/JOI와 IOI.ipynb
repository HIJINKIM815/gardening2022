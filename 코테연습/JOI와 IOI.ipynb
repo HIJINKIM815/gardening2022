{
 "cells": [
  {
   "cell_type": "code",
   "execution_count": 1,
   "id": "0c2bc641",
   "metadata": {},
   "outputs": [
    {
     "name": "stdout",
     "output_type": "stream",
     "text": [
      "JOIIOIJOI\n"
     ]
    }
   ],
   "source": [
    "string = input()"
   ]
  },
  {
   "cell_type": "code",
   "execution_count": 2,
   "id": "fe5c1f9e",
   "metadata": {},
   "outputs": [
    {
     "name": "stdout",
     "output_type": "stream",
     "text": [
      "2\n",
      "1\n"
     ]
    }
   ],
   "source": [
    "print(string.count('JOI'))\n",
    "print(string.count('IOI'))"
   ]
  },
  {
   "cell_type": "code",
   "execution_count": 3,
   "id": "12521bec",
   "metadata": {},
   "outputs": [
    {
     "name": "stdout",
     "output_type": "stream",
     "text": [
      "IOIOIIOIOIOIOIOI\n",
      "0\n",
      "4\n"
     ]
    }
   ],
   "source": [
    "string = input()\n",
    "print(string.count('JOI'))\n",
    "print(string.count('IOI'))"
   ]
  },
  {
   "cell_type": "markdown",
   "id": "9aa0141e",
   "metadata": {},
   "source": [
    "**내가 틀린이유 - 위 코딩에서 IOI 를 제대로 찾아내지를 못한다**"
   ]
  },
  {
   "cell_type": "markdown",
   "id": "ff695f26",
   "metadata": {},
   "source": [
    "(IOI)OIIOIOIOIOIOI\n",
    "IO(IOI)IOIOIOIOIOI\n",
    "IOIOI(IOI)OIOIOIOI\n",
    "IOIOIIO(IOI)OIOIOI\n",
    "IOIOIIOIO(IOI)OIOI\n",
    "IOIOIIOIOIO(IOI)OI\n",
    "IOIOIIOIOIOIO(IOI)"
   ]
  },
  {
   "cell_type": "code",
   "execution_count": null,
   "id": "39e68569",
   "metadata": {},
   "outputs": [],
   "source": []
  }
 ],
 "metadata": {
  "kernelspec": {
   "display_name": "Python 3 (ipykernel)",
   "language": "python",
   "name": "python3"
  },
  "language_info": {
   "codemirror_mode": {
    "name": "ipython",
    "version": 3
   },
   "file_extension": ".py",
   "mimetype": "text/x-python",
   "name": "python",
   "nbconvert_exporter": "python",
   "pygments_lexer": "ipython3",
   "version": "3.9.9"
  }
 },
 "nbformat": 4,
 "nbformat_minor": 5
}
