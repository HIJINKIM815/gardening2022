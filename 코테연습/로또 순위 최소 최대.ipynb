{
 "cells": [
  {
   "cell_type": "code",
   "execution_count": 1,
   "id": "b7d5ed50",
   "metadata": {},
   "outputs": [],
   "source": [
    "import numpy as np"
   ]
  },
  {
   "cell_type": "code",
   "execution_count": 2,
   "id": "012b785b",
   "metadata": {},
   "outputs": [],
   "source": [
    "lottos = [0,0,0,3,9,19]\n",
    "win_nums = [1,2,3,4,5,6]"
   ]
  },
  {
   "cell_type": "code",
   "execution_count": 3,
   "id": "9aeb3361",
   "metadata": {},
   "outputs": [],
   "source": [
    "lottos=sorted(lottos) # 올림차순으로 정렬\n",
    "win_nums=sorted(win_nums)"
   ]
  },
  {
   "cell_type": "code",
   "execution_count": 4,
   "id": "caa269ee",
   "metadata": {},
   "outputs": [],
   "source": [
    "win_account = [] # 당첨이 확실시 되는 번호를 담을 리스트\n",
    "zero_account = [] # 0인 값을 담을 리스트 \n",
    "for i in range(6):\n",
    "    if lottos[i] in win_nums: # 로또 번호가 당첨 번호 중에 하나일때 win_account에 담기\n",
    "        win_account.append(lottos[i])\n",
    "    elif lottos[i] == 0: # 로또 번호가 0일 때 zero_account에 담기\n",
    "        zero_account.append(lottos[i])"
   ]
  },
  {
   "cell_type": "code",
   "execution_count": 5,
   "id": "04eec86c",
   "metadata": {},
   "outputs": [],
   "source": [
    "def order(n): # 당첨 번호 개수 별로 당첨 순위를 return 해주는 함수 \n",
    "    \n",
    "    if n == 6: \n",
    "        order_n = 1\n",
    "    elif n == 5:\n",
    "        order_n = 2\n",
    "    elif n == 4:\n",
    "        order_n = 3\n",
    "    elif n == 3:\n",
    "        order_n = 4\n",
    "    elif n == 2:\n",
    "        order_n = 5\n",
    "    else:\n",
    "        order_n = 6\n",
    "    return(order_n)\n",
    "        \n",
    "\n"
   ]
  },
  {
   "cell_type": "code",
   "execution_count": 6,
   "id": "afcd0d79",
   "metadata": {},
   "outputs": [],
   "source": [
    "answers = [\n",
    "    # 최고 순위는 당첨이 확실한 번호의 개수에 + 로또 번호가 '0'- 당첨인지 아닌지 알수 없는 번호가 모두 당첨되있을때\n",
    "    order(len(win_account)+len(zero_account)), \n",
    "           \n",
    "    # 최저 순위는 당첨이 확실한 번호만 당첨이 되었다고 가정할 때\n",
    "    order(len(win_account))]"
   ]
  },
  {
   "cell_type": "code",
   "execution_count": 7,
   "id": "26827dc6",
   "metadata": {},
   "outputs": [
    {
     "name": "stdout",
     "output_type": "stream",
     "text": [
      "[3, 6]\n"
     ]
    }
   ],
   "source": [
    "print(answers)\n",
    "    "
   ]
  },
  {
   "cell_type": "markdown",
   "id": "b24b1bb8",
   "metadata": {},
   "source": [
    "**베스트 코드 따라해보기**"
   ]
  },
  {
   "cell_type": "code",
   "execution_count": 15,
   "id": "f45dc2c0",
   "metadata": {},
   "outputs": [],
   "source": [
    "lottos = [0,0,0,3,9,19]\n",
    "win_nums = [1,2,3,4,5,6]           "
   ]
  },
  {
   "cell_type": "code",
   "execution_count": 22,
   "id": "167c0510",
   "metadata": {},
   "outputs": [],
   "source": [
    "def ranking(lottos, win_nums):\n",
    "    ranking = [6,6,5,4,3,2,1] # 순위별로 맞아야하는 로또 개수를 리스트를 만들었다.(매우 편리함)\n",
    "    cnt_0 = lottos.count(0) # count로 0을 셈\n",
    "    win_n=0 # 당첨이 확실한 번호를 세어주는 변수\n",
    "    for i in range(6):\n",
    "        if lottos[i] in win_nums:\n",
    "            win_n=win_n+1 # 당첨번호가 있을때 1을 더해줌\n",
    "    return ranking[win_n+cnt_0],ranking[win_n] # 리스트 위치에서 당첨 순위를 \n",
    "            "
   ]
  },
  {
   "cell_type": "code",
   "execution_count": 23,
   "id": "efda6706",
   "metadata": {},
   "outputs": [
    {
     "data": {
      "text/plain": [
       "(3, 6)"
      ]
     },
     "execution_count": 23,
     "metadata": {},
     "output_type": "execute_result"
    }
   ],
   "source": [
    "ranking(lottos, win_nums)"
   ]
  }
 ],
 "metadata": {
  "kernelspec": {
   "display_name": "Python 3 (ipykernel)",
   "language": "python",
   "name": "python3"
  },
  "language_info": {
   "codemirror_mode": {
    "name": "ipython",
    "version": 3
   },
   "file_extension": ".py",
   "mimetype": "text/x-python",
   "name": "python",
   "nbconvert_exporter": "python",
   "pygments_lexer": "ipython3",
   "version": "3.9.7"
  }
 },
 "nbformat": 4,
 "nbformat_minor": 5
}
