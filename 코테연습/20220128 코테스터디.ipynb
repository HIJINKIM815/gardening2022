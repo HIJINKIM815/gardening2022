{
 "cells": [
  {
   "cell_type": "markdown",
   "id": "7e6c2a5d",
   "metadata": {},
   "source": [
    "**직각 삼각형**"
   ]
  },
  {
   "cell_type": "markdown",
   "id": "9c148f7e",
   "metadata": {},
   "source": [
    "2차원 평면에 N개의 점이 주어져 있다. 이 중에서 세 점을 골랐을 때, 직각삼각형이 몇 개나 있는지를 구하는 프로그램을 작성하시오.\n",
    "\n",
    "첫째 줄에 점의 개수 N(3 ≤ N ≤ 1,500)이 주어진다. 둘째 줄부터 N개의 줄에 걸쳐 각 점의 x좌표와 y좌표가 빈 칸을 사이에 두고 주어진다. 좌표값은 절댓값이 1,000,000,000을 넘지 않는 정수이며, 주어지는 모든 점의 좌표는 다르다.\n",
    "\n",
    "첫째 줄에 직각삼각형의 개수를 출력한다."
   ]
  },
  {
   "cell_type": "code",
   "execution_count": 19,
   "id": "171a5e8c",
   "metadata": {},
   "outputs": [
    {
     "name": "stdout",
     "output_type": "stream",
     "text": [
      "3\n",
      "0 0\n",
      "1 0\n",
      "0 1\n"
     ]
    }
   ],
   "source": [
    "### 입력 받을 점의 개수 N\n",
    "### 직각 삼각형이 되기 위해서는 3개 이상의 값을 입력 받아야 한다.\n",
    "N = int(input())\n",
    "\n",
    "### 좌표를 입력 받기 \n",
    "xy_list = []\n",
    "for i in range(N):\n",
    "    x,y = map(int,input().split(' '))\n",
    "    xy_list.append([x,y])"
   ]
  },
  {
   "cell_type": "code",
   "execution_count": 20,
   "id": "005552c9",
   "metadata": {},
   "outputs": [
    {
     "data": {
      "text/plain": [
       "[[0, 0], [1, 0], [0, 1]]"
      ]
     },
     "execution_count": 20,
     "metadata": {},
     "output_type": "execute_result"
    }
   ],
   "source": [
    "xy_list ### 입력 받은 세 좌표 "
   ]
  },
  {
   "cell_type": "markdown",
   "id": "b329f9b6",
   "metadata": {},
   "source": [
    "**직각 삼각형이면**\n",
    " - 꼭지점이 한 원안에 있다.\n",
    " - 세 점으로 만들어 지는 두 내전이 0이다\n",
    " - 피타 고라스의 정리를 만족한다.\n",
    " \n",
    " 위 조건 중에서 세번째 조건인 피타고라스의 정리를 만족하는 점들을 찾는게 가장 쉬운 길인 거 같다."
   ]
  },
  {
   "cell_type": "code",
   "execution_count": 23,
   "id": "e6a7a00f",
   "metadata": {},
   "outputs": [
    {
     "name": "stdout",
     "output_type": "stream",
     "text": [
      "1.0\n"
     ]
    }
   ],
   "source": [
    "### 피타 고라스의 정리를 만족하는지 살펴보자.\n",
    "### 첫번째 점과 두번째 점 사이의 거리를 구해보자 \n",
    "a=((xy_list[0][0]-xy_list[1][0])**2 + (xy_list[0][1]-xy_list[1][1])**2)**(1/2)\n",
    "print(a)"
   ]
  },
  {
   "cell_type": "code",
   "execution_count": 24,
   "id": "04d7684d",
   "metadata": {},
   "outputs": [
    {
     "name": "stdout",
     "output_type": "stream",
     "text": [
      "1.0\n"
     ]
    }
   ],
   "source": [
    "### 첫번째 점과 세번째 점 사이의 거리를 구해보자\n",
    "b=((xy_list[0][0]-xy_list[2][0])**2 + (xy_list[0][1]-xy_list[2][1])**2)**(1/2)\n",
    "print(b)"
   ]
  },
  {
   "cell_type": "code",
   "execution_count": 25,
   "id": "36a41a52",
   "metadata": {},
   "outputs": [
    {
     "name": "stdout",
     "output_type": "stream",
     "text": [
      "1.4142135623730951\n"
     ]
    }
   ],
   "source": [
    "### 두번째 점과 세번째 점 사이의 거리를. 구해보자.\n",
    "c=((xy_list[1][0]-xy_list[2][0])**2 + (xy_list[1][1]-xy_list[2][1])**2)**(1/2)\n",
    "print(c)"
   ]
  },
  {
   "cell_type": "code",
   "execution_count": 26,
   "id": "2e6f5e3d",
   "metadata": {},
   "outputs": [],
   "source": [
    "sorted_abc = sorted([a,b,c])"
   ]
  },
  {
   "cell_type": "code",
   "execution_count": 27,
   "id": "9040e491",
   "metadata": {},
   "outputs": [
    {
     "data": {
      "text/plain": [
       "2.0"
      ]
     },
     "execution_count": 27,
     "metadata": {},
     "output_type": "execute_result"
    }
   ],
   "source": [
    "sorted_abc[0]+sorted_abc[1]"
   ]
  },
  {
   "cell_type": "code",
   "execution_count": 28,
   "id": "3547ae1c",
   "metadata": {},
   "outputs": [
    {
     "data": {
      "text/plain": [
       "2.0000000000000004"
      ]
     },
     "execution_count": 28,
     "metadata": {},
     "output_type": "execute_result"
    }
   ],
   "source": [
    "sorted_abc[2]"
   ]
  },
  {
   "cell_type": "code",
   "execution_count": 31,
   "id": "b70e10a8",
   "metadata": {},
   "outputs": [
    {
     "name": "stdout",
     "output_type": "stream",
     "text": [
      "3\n",
      "0 0\n",
      "1 0\n",
      "0 1\n",
      "직각삼각형\n"
     ]
    }
   ],
   "source": [
    "### 입력 받을 점의 개수 N\n",
    "### 직각 삼각형이 되기 위해서는 3개 이상의 값을 입력 받아야 한다.\n",
    "N = int(input())\n",
    "\n",
    "### 좌표를 입력 받기 \n",
    "xy_list = []\n",
    "for i in range(N):\n",
    "    x,y = map(int,input().split(' '))\n",
    "    xy_list.append([x,y])\n",
    "### 피타 고라스의 정리를 만족하는지 살펴보자.\n",
    "### 첫번째 점과 두번째 점 사이의 거리를 구해보자 \n",
    "a=((xy_list[0][0]-xy_list[1][0])**2 + (xy_list[0][1]-xy_list[1][1])**2)\n",
    "### 첫번째 점과 세번째 점 사이의 거리를 구해보자\n",
    "b=((xy_list[0][0]-xy_list[2][0])**2 + (xy_list[0][1]-xy_list[2][1])**2)\n",
    "### 두번째 점과 세번째 점 사이의 거리를. 구해보자.\n",
    "c=((xy_list[1][0]-xy_list[2][0])**2 + (xy_list[1][1]-xy_list[2][1])**2)\n",
    "sorted_abc = sorted([a,b,c])\n",
    "if sorted_abc[0]+sorted_abc[1]== sorted_abc[2]:\n",
    "    print('직각삼각형')"
   ]
  },
  {
   "cell_type": "code",
   "execution_count": 30,
   "id": "2cf59e71",
   "metadata": {},
   "outputs": [
    {
     "name": "stdout",
     "output_type": "stream",
     "text": [
      "1 1 2\n"
     ]
    }
   ],
   "source": [
    "print(a,b,c)"
   ]
  },
  {
   "cell_type": "code",
   "execution_count": null,
   "id": "74206bd3",
   "metadata": {},
   "outputs": [],
   "source": []
  }
 ],
 "metadata": {
  "kernelspec": {
   "display_name": "Python 3 (ipykernel)",
   "language": "python",
   "name": "python3"
  },
  "language_info": {
   "codemirror_mode": {
    "name": "ipython",
    "version": 3
   },
   "file_extension": ".py",
   "mimetype": "text/x-python",
   "name": "python",
   "nbconvert_exporter": "python",
   "pygments_lexer": "ipython3",
   "version": "3.9.10"
  }
 },
 "nbformat": 4,
 "nbformat_minor": 5
}
