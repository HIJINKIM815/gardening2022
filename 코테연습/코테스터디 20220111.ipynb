{
 "cells": [
  {
   "cell_type": "markdown",
   "id": "ba2b59f6",
   "metadata": {},
   "source": [
    "앨버타의 자동차 번호판은 ABC-0123 (세 글자, 네 숫자)와 같이 두 부분으로 나누어져 있다.\n",
    "\n",
    "좋은 번호판은 첫 번째 부분의 가치와 두 번째 부분의 가치의 차이가 100을 넘지 않는 번호판이다.\n",
    "\n",
    "글자로 이루어진 첫 번째 부분의 가치는 글자를 26진법 수처럼 계산한다. (각 자리가 [A..Z]) 예를 들어, \"ABC\"의 가치는 28 (0×262 + 1×261 + 2×260)이 된다. \"ABC-0123\"은  |28 - 123| ≤ 100 이기 때문에, 좋은 번호판이다.\n",
    "\n",
    "자동차 번호판이 주어졌을 때, 좋은 번호판인지 아닌지를 구하는 프로그램을 작성하시오."
   ]
  },
  {
   "cell_type": "code",
   "execution_count": 13,
   "id": "40aad8f6",
   "metadata": {},
   "outputs": [
    {
     "name": "stdout",
     "output_type": "stream",
     "text": [
      "2\n"
     ]
    }
   ],
   "source": [
    "enroll_count = int(input()) # 입력받을 자동차 번호판의 개수"
   ]
  },
  {
   "cell_type": "code",
   "execution_count": 19,
   "id": "78cbd37b",
   "metadata": {},
   "outputs": [
    {
     "name": "stdout",
     "output_type": "stream",
     "text": [
      "AAA-1234\n",
      "BBB-2014\n"
     ]
    }
   ],
   "source": [
    "car_number = [] # 입력 받을 번호판 넘버\n",
    "alphabet = 'ABCDEFGHIJKLMNOPQRSTUVWXYZ'\n",
    "for i in range(enroll_count):\n",
    "    car_number.append(input())"
   ]
  },
  {
   "cell_type": "code",
   "execution_count": 20,
   "id": "9ca79ad7",
   "metadata": {},
   "outputs": [
    {
     "data": {
      "text/plain": [
       "['AAA-1234', 'BBB-2014']"
      ]
     },
     "execution_count": 20,
     "metadata": {},
     "output_type": "execute_result"
    }
   ],
   "source": [
    "car_number"
   ]
  },
  {
   "cell_type": "code",
   "execution_count": 25,
   "id": "b5646ead",
   "metadata": {},
   "outputs": [
    {
     "data": {
      "text/plain": [
       "['AAA', '1234']"
      ]
     },
     "execution_count": 25,
     "metadata": {},
     "output_type": "execute_result"
    }
   ],
   "source": [
    "car_number[0].split('-')"
   ]
  },
  {
   "cell_type": "code",
   "execution_count": 28,
   "id": "a75d855c",
   "metadata": {},
   "outputs": [
    {
     "data": {
      "text/plain": [
       "'A'"
      ]
     },
     "execution_count": 28,
     "metadata": {},
     "output_type": "execute_result"
    }
   ],
   "source": [
    "alphabet[0]"
   ]
  },
  {
   "cell_type": "code",
   "execution_count": 30,
   "id": "1cd63b3f",
   "metadata": {},
   "outputs": [],
   "source": [
    "place = []\n",
    "for i in range(len(alphabet)):\n",
    "    place.append(alphabet[i])"
   ]
  },
  {
   "cell_type": "code",
   "execution_count": 31,
   "id": "776c7416",
   "metadata": {},
   "outputs": [
    {
     "data": {
      "text/plain": [
       "['A',\n",
       " 'B',\n",
       " 'C',\n",
       " 'D',\n",
       " 'E',\n",
       " 'F',\n",
       " 'G',\n",
       " 'H',\n",
       " 'I',\n",
       " 'J',\n",
       " 'K',\n",
       " 'L',\n",
       " 'M',\n",
       " 'N',\n",
       " 'O',\n",
       " 'P',\n",
       " 'Q',\n",
       " 'R',\n",
       " 'S',\n",
       " 'T',\n",
       " 'U',\n",
       " 'V',\n",
       " 'W',\n",
       " 'X',\n",
       " 'Y',\n",
       " 'Z']"
      ]
     },
     "execution_count": 31,
     "metadata": {},
     "output_type": "execute_result"
    }
   ],
   "source": [
    "place"
   ]
  },
  {
   "cell_type": "code",
   "execution_count": 32,
   "id": "5834b769",
   "metadata": {},
   "outputs": [],
   "source": [
    "def solution(car_number):\n",
    "    for i in range(len(car_number)):\n",
    "        char = car_number[i].split('-')[0]\n",
    "        char[0]"
   ]
  },
  {
   "cell_type": "code",
   "execution_count": null,
   "id": "b0f4d132",
   "metadata": {},
   "outputs": [],
   "source": []
  }
 ],
 "metadata": {
  "kernelspec": {
   "display_name": "Python 3 (ipykernel)",
   "language": "python",
   "name": "python3"
  },
  "language_info": {
   "codemirror_mode": {
    "name": "ipython",
    "version": 3
   },
   "file_extension": ".py",
   "mimetype": "text/x-python",
   "name": "python",
   "nbconvert_exporter": "python",
   "pygments_lexer": "ipython3",
   "version": "3.9.9"
  }
 },
 "nbformat": 4,
 "nbformat_minor": 5
}
