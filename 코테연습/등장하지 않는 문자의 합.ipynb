{
 "cells": [
  {
   "cell_type": "markdown",
   "id": "6ba6bcaa",
   "metadata": {},
   "source": [
    "**알파벳 대문자로 구성되어있는 문자열 S가 주어졌을 때, S에 등장하지 않는 알파벳 대문자의 아스키 코드 값의 합을 구하는 프로그램을 작성하시오. 문자열 S가 “ABCDEFGHIJKLMNOPQRSTUVW” 일 때, S에 등장하지 않는 알파벳 대문자는 X, Y, Z이다. X의 아스키 코드 값은 88, Y는 89, Z는 90이므로 이 아스키 코드 값의 합은 267이다.**"
   ]
  },
  {
   "cell_type": "code",
   "execution_count": 8,
   "id": "477be1be",
   "metadata": {},
   "outputs": [],
   "source": [
    "### 내가 생각하는 문자의 포인트 \n",
    "### 중복을 없애는게 중요하다. ( 등장하지 않는 문자를 찾는 문제이기 때문에 )\n",
    "### 전체합에서 등장한 문자의 아스키 코드 합을 빼는게 빠를 수도 있다.\n",
    "### A - 65,,, Z-80 로 대응"
   ]
  },
  {
   "cell_type": "code",
   "execution_count": 22,
   "id": "7454ec57",
   "metadata": {},
   "outputs": [],
   "source": [
    "alphabet = 'ABCDEFGHIJKLMNOPQRSTUVWXYZ'\n",
    "alphabet_list = list(alphabet)"
   ]
  },
  {
   "cell_type": "code",
   "execution_count": 23,
   "id": "540cd8dc",
   "metadata": {},
   "outputs": [
    {
     "data": {
      "text/plain": [
       "['A',\n",
       " 'B',\n",
       " 'C',\n",
       " 'D',\n",
       " 'E',\n",
       " 'F',\n",
       " 'G',\n",
       " 'H',\n",
       " 'I',\n",
       " 'J',\n",
       " 'K',\n",
       " 'L',\n",
       " 'M',\n",
       " 'N',\n",
       " 'O',\n",
       " 'P',\n",
       " 'Q',\n",
       " 'R',\n",
       " 'S',\n",
       " 'T',\n",
       " 'U',\n",
       " 'V',\n",
       " 'W',\n",
       " 'X',\n",
       " 'Y',\n",
       " 'Z']"
      ]
     },
     "execution_count": 23,
     "metadata": {},
     "output_type": "execute_result"
    }
   ],
   "source": [
    "alphabet_list"
   ]
  },
  {
   "cell_type": "code",
   "execution_count": 26,
   "id": "52d24235",
   "metadata": {},
   "outputs": [],
   "source": [
    "apple = 'APPLE'"
   ]
  },
  {
   "cell_type": "code",
   "execution_count": 27,
   "id": "d1121a52",
   "metadata": {},
   "outputs": [
    {
     "data": {
      "text/plain": [
       "['A', 'P', 'L', 'E']"
      ]
     },
     "execution_count": 27,
     "metadata": {},
     "output_type": "execute_result"
    }
   ],
   "source": [
    "list(set(sorted(apple)))"
   ]
  },
  {
   "cell_type": "code",
   "execution_count": 28,
   "id": "b3123187",
   "metadata": {},
   "outputs": [
    {
     "data": {
      "text/plain": [
       "{'B',\n",
       " 'C',\n",
       " 'D',\n",
       " 'F',\n",
       " 'G',\n",
       " 'H',\n",
       " 'I',\n",
       " 'J',\n",
       " 'K',\n",
       " 'M',\n",
       " 'N',\n",
       " 'O',\n",
       " 'Q',\n",
       " 'R',\n",
       " 'S',\n",
       " 'T',\n",
       " 'U',\n",
       " 'V',\n",
       " 'W',\n",
       " 'X',\n",
       " 'Y',\n",
       " 'Z'}"
      ]
     },
     "execution_count": 28,
     "metadata": {},
     "output_type": "execute_result"
    }
   ],
   "source": [
    "set(alphabet_list) - set(sorted(apple))"
   ]
  },
  {
   "cell_type": "code",
   "execution_count": 31,
   "id": "c55e22da",
   "metadata": {},
   "outputs": [
    {
     "data": {
      "text/plain": [
       "['A', 'P', 'L', 'E']"
      ]
     },
     "execution_count": 31,
     "metadata": {},
     "output_type": "execute_result"
    }
   ],
   "source": [
    "list(set(sorted(apple)))"
   ]
  },
  {
   "cell_type": "code",
   "execution_count": null,
   "id": "c47391cf",
   "metadata": {},
   "outputs": [],
   "source": []
  }
 ],
 "metadata": {
  "kernelspec": {
   "display_name": "Python 3 (ipykernel)",
   "language": "python",
   "name": "python3"
  },
  "language_info": {
   "codemirror_mode": {
    "name": "ipython",
    "version": 3
   },
   "file_extension": ".py",
   "mimetype": "text/x-python",
   "name": "python",
   "nbconvert_exporter": "python",
   "pygments_lexer": "ipython3",
   "version": "3.9.9"
  }
 },
 "nbformat": 4,
 "nbformat_minor": 5
}
