{
 "cells": [
  {
   "cell_type": "markdown",
   "id": "18a4f3f7",
   "metadata": {},
   "source": [
    "**알파벳 대문자로 구성되어있는 문자열 S가 주어졌을 때, S에 등장하지 않는 알파벳 대문자의 아스키 코드 값의 합을 구하는 프로그램을 작성하시오. 문자열 S가 “ABCDEFGHIJKLMNOPQRSTUVW” 일 때, S에 등장하지 않는 알파벳 대문자는 X, Y, Z이다. X의 아스키 코드 값은 88, Y는 89, Z는 90이므로 이 아스키 코드 값의 합은 267이다.**"
   ]
  },
  {
   "cell_type": "code",
   "execution_count": 1,
   "id": "7dea518c",
   "metadata": {},
   "outputs": [],
   "source": [
    "### 내가 생각하는 문자의 포인트 \n",
    "### 중복을 없애는게 중요하다. ( 등장하지 않는 문자를 찾는 문제이기 때문에 )\n",
    "### 중복을 없애는 방법 - set 을 이용한다.\n",
    "### 전체합에서 등장한 문자의 아스키 코드 합을 빼는게 빠를 수도 있다.\n",
    "### A - 65,,, Z-80 로 대응"
   ]
  },
  {
   "cell_type": "code",
   "execution_count": 4,
   "id": "b1fa115c",
   "metadata": {},
   "outputs": [
    {
     "name": "stdout",
     "output_type": "stream",
     "text": [
      "알파벳으로 이루어진 문자를 입력하세요:PRETTY\n",
      "PRETTY\n",
      "1936\n"
     ]
    }
   ],
   "source": [
    "\n",
    "all_ASC = sum(range(65,91))\n",
    "all_ASC\n",
    "alphabet = 'ABCDEFGHIJKLMNOPQRSTUVWXYZ'\n",
    "list_alphabet = list(alphabet)\n",
    "### 입력받을 문자\n",
    "word = input(\"알파벳으로 이루어진 문자를 입력하세요:\")\n",
    "print(word)\n",
    "### word에 들어있는 알파벳의 아스키 코드 합을 구해보는 방법\n",
    "word_list = list(set(list(word)))\n",
    "word_list\n",
    "for i in word_list:\n",
    "\n",
    "    all_ASC = all_ASC - list_alphabet.index(i)\n",
    "    \n",
    "print(all_ASC)"
   ]
  },
  {
   "cell_type": "code",
   "execution_count": 14,
   "id": "dda8b851",
   "metadata": {},
   "outputs": [
    {
     "name": "stdout",
     "output_type": "stream",
     "text": [
      "2\n",
      "PRETTY\n",
      "PARTY\n",
      "1936\n",
      "1940\n"
     ]
    }
   ],
   "source": [
    "### 입력받을 테스트 문자의 개수\n",
    "n = int(input())\n",
    "word_list = []\n",
    "for i in range(n):\n",
    "    word_list.append(input())\n",
    "### 등장하지 않는 문자의 합\n",
    "### 알파벳과 아스키 코드값 대응 A : 65, B : 66, ... , Z : 80\n",
    "all_ASC = sum(range(65,91))\n",
    "all_ASC\n",
    "alphabet = 'ABCDEFGHIJKLMNOPQRSTUVWXYZ'\n",
    "list_alphabet = list(alphabet)\n",
    "\n",
    "for word in word_list:\n",
    "    all_ASC = sum(range(65,91))\n",
    "    word = list(set(word))\n",
    "    for i in range(len(word)):\n",
    "        all_ASC = all_ASC - list_alphabet.index(word[i])\n",
    "    print(all_ASC)"
   ]
  },
  {
   "cell_type": "code",
   "execution_count": null,
   "id": "d2a0ad80",
   "metadata": {},
   "outputs": [],
   "source": []
  }
 ],
 "metadata": {
  "kernelspec": {
   "display_name": "Python 3 (ipykernel)",
   "language": "python",
   "name": "python3"
  },
  "language_info": {
   "codemirror_mode": {
    "name": "ipython",
    "version": 3
   },
   "file_extension": ".py",
   "mimetype": "text/x-python",
   "name": "python",
   "nbconvert_exporter": "python",
   "pygments_lexer": "ipython3",
   "version": "3.9.10"
  }
 },
 "nbformat": 4,
 "nbformat_minor": 5
}
