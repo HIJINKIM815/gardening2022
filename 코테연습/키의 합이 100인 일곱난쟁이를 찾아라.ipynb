{
 "cells": [
  {
   "cell_type": "code",
   "execution_count": null,
   "id": "48e50960",
   "metadata": {},
   "outputs": [],
   "source": [
    "# 백설공주는 9명의 난쟁이중에, 진짜 일곱 난쟁이를 찾아내야한다.\n",
    "# 진짜 일곱 난쟁이 키의 합은 100이다. ( 이건 좀 선 넘었네 )\n",
    "def solution(list_of_mans):\n",
    "    # 가짜 난쟁이 두 사람의 키의 합은 전체의 키의 합에서 100을 뺀 값이다. \n",
    "    fake_mans_sum = sum(list_of_mans)-100\n",
    "    for i in range(9):\n",
    "        if list_of_mans.count(fake_mans_sum-list_of_mans[i])==1"
   ]
  }
 ],
 "metadata": {
  "kernelspec": {
   "display_name": "Python 3 (ipykernel)",
   "language": "python",
   "name": "python3"
  },
  "language_info": {
   "codemirror_mode": {
    "name": "ipython",
    "version": 3
   },
   "file_extension": ".py",
   "mimetype": "text/x-python",
   "name": "python",
   "nbconvert_exporter": "python",
   "pygments_lexer": "ipython3",
   "version": "3.9.9"
  }
 },
 "nbformat": 4,
 "nbformat_minor": 5
}
