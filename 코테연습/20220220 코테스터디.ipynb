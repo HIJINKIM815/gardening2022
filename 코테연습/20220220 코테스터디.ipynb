{
 "cells": [
  {
   "cell_type": "markdown",
   "id": "4c0e9f48",
   "metadata": {},
   "source": [
    "**프로그래머스 - x만큼 간격이 있는 n개의 숫자**\n",
    "\n",
    "함수 solution은 정수 x와 자연수 n을 입력 받아, x부터 시작해 x씩 증가하는 숫자를 n개 지니는 리스트를 리턴해야 합니다. 다음 제한 조건을 보고, 조건을 만족하는 함수, solution을 완성해주세요."
   ]
  },
  {
   "cell_type": "code",
   "execution_count": 3,
   "id": "f4673a8c",
   "metadata": {},
   "outputs": [],
   "source": [
    "def solution(x,n):\n",
    "    answer=[]\n",
    "    for i in range(1,n+1):\n",
    "        answer.append(x*i)\n",
    "    return answer"
   ]
  }
 ],
 "metadata": {
  "kernelspec": {
   "display_name": "Python 3 (ipykernel)",
   "language": "python",
   "name": "python3"
  },
  "language_info": {
   "codemirror_mode": {
    "name": "ipython",
    "version": 3
   },
   "file_extension": ".py",
   "mimetype": "text/x-python",
   "name": "python",
   "nbconvert_exporter": "python",
   "pygments_lexer": "ipython3",
   "version": "3.9.10"
  }
 },
 "nbformat": 4,
 "nbformat_minor": 5
}
