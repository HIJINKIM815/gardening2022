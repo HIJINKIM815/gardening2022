{
 "cells": [
  {
   "cell_type": "code",
   "execution_count": 66,
   "id": "22110fdd",
   "metadata": {},
   "outputs": [],
   "source": [
    "absolutes = [1,2,3]\n",
    "signs = [True,False,False]"
   ]
  },
  {
   "cell_type": "code",
   "execution_count": 67,
   "id": "363f924f",
   "metadata": {},
   "outputs": [],
   "source": [
    "def solution(absolutes, signs):\n",
    "    answer = 0\n",
    "    for i in range(len(absolutes)):\n",
    "        if signs[i]==True:\n",
    "            answer = answer+absolutes[i]\n",
    "        else:\n",
    "            answer = answer-absolutes[i]\n",
    "        \n",
    "    return answer\n",
    "        \n",
    "    "
   ]
  },
  {
   "cell_type": "code",
   "execution_count": 74,
   "id": "a5ea177e",
   "metadata": {},
   "outputs": [
    {
     "data": {
      "text/plain": [
       "range(2, 10, 2)"
      ]
     },
     "execution_count": 74,
     "metadata": {},
     "output_type": "execute_result"
    }
   ],
   "source": [
    "range(2,10,2)"
   ]
  },
  {
   "cell_type": "code",
   "execution_count": null,
   "id": "c51968dd",
   "metadata": {},
   "outputs": [],
   "source": []
  }
 ],
 "metadata": {
  "kernelspec": {
   "display_name": "Python 3 (ipykernel)",
   "language": "python",
   "name": "python3"
  },
  "language_info": {
   "codemirror_mode": {
    "name": "ipython",
    "version": 3
   },
   "file_extension": ".py",
   "mimetype": "text/x-python",
   "name": "python",
   "nbconvert_exporter": "python",
   "pygments_lexer": "ipython3",
   "version": "3.9.9"
  }
 },
 "nbformat": 4,
 "nbformat_minor": 5
}
