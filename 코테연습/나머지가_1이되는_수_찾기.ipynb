{
  "nbformat": 4,
  "nbformat_minor": 0,
  "metadata": {
    "colab": {
      "name": "나머지가 1이되는 수 찾기.ipynb",
      "provenance": []
    },
    "kernelspec": {
      "name": "python3",
      "display_name": "Python 3"
    },
    "language_info": {
      "name": "python"
    }
  },
  "cells": [
    {
      "cell_type": "code",
      "execution_count": 1,
      "metadata": {
        "id": "xpj-kx4OKJSi"
      },
      "outputs": [],
      "source": [
        "def solution(n): \n",
        "    for i in range(2,n):\n",
        "        if (n)%i==1:\n",
        "            answer = i\n",
        "            break\n",
        "    return answer"
      ]
    },
    {
      "cell_type": "code",
      "source": [
        "# n을 x로 나누었을때 나머지가 1이 되는 가장 작은 수 x \n",
        "# 몫은 클수록 좋다. \n",
        "# n 나누기 x = 몫 ... 1 \n",
        "# 몫 * x + 1 = n - 1 \n",
        "# 몫 * x = n - 1\n",
        "# n -1 의 약수중 가장 작은 수를 찾으면 된다.  "
      ],
      "metadata": {
        "id": "bJeEUqw8KOPp"
      },
      "execution_count": 2,
      "outputs": []
    },
    {
      "cell_type": "code",
      "source": [
        "# 이 문제는 결국 약수 찾기 문제가 된다. \n"
      ],
      "metadata": {
        "id": "9XxOfjieLeA_"
      },
      "execution_count": 3,
      "outputs": []
    },
    {
      "cell_type": "code",
      "source": [
        "def solution(array, commands):\n",
        "    answer = sorted(array[commands[0]:commands[1]+1])[commands[2]]\n",
        "    return answer"
      ],
      "metadata": {
        "id": "CSsW6qHkL_ZU"
      },
      "execution_count": 4,
      "outputs": []
    },
    {
      "cell_type": "code",
      "source": [
        "array = [1,2,3,4,5,6,7,4,2,3,4]\n",
        "commands = [3,5,2]"
      ],
      "metadata": {
        "id": "y9wsEpURNJ5-"
      },
      "execution_count": 5,
      "outputs": []
    },
    {
      "cell_type": "code",
      "source": [
        "solution(array, commands)"
      ],
      "metadata": {
        "colab": {
          "base_uri": "https://localhost:8080/"
        },
        "id": "ILitAALWNPVD",
        "outputId": "37bef5f8-30a7-4e98-8302-af7e74b56e68"
      },
      "execution_count": 6,
      "outputs": [
        {
          "output_type": "execute_result",
          "data": {
            "text/plain": [
              "6"
            ]
          },
          "metadata": {},
          "execution_count": 6
        }
      ]
    },
    {
      "cell_type": "code",
      "source": [
        ""
      ],
      "metadata": {
        "id": "GKwIVd4DNRH-"
      },
      "execution_count": null,
      "outputs": []
    }
  ]
}