{
 "cells": [
  {
   "cell_type": "markdown",
   "id": "3508ff47",
   "metadata": {},
   "source": [
    "팬그램은 26개의 알파벳, a~z를 최소 한번씩 모두 사용한 문장을 말한다. 아마 가장 유명한 문장은 이것일 것이다. \"The quick brown fox jumps over the lazy dog.\"\n",
    "\n",
    "꿍은 다른 문장들중에 팬그램인 것은 없는지 궁금해졌다. 그래서 여러분이 할 일은 꿍을 위해 어떠한 문장이 팬그램인지 아닌지를 판별해주는 프로그램을 짜는 것이다.\n",
    "\n",
    "팬그램에서는 알파벳의 대소문자를 구분하지 않는다고 하자."
   ]
  },
  {
   "cell_type": "code",
   "execution_count": 15,
   "id": "f1e414e1",
   "metadata": {},
   "outputs": [
    {
     "name": "stdout",
     "output_type": "stream",
     "text": [
      "1\n",
      "The quick brown fox jumps over the lazy dog.'.u\n",
      "pangram\n"
     ]
    }
   ],
   "source": [
    "### 모든 알파벳을 담은 리스트\n",
    "alphabet = set('ABCDEFGHIJKLMNOPQRSTUVWXYZ'.lower())\n",
    "\n",
    "### 팬그램인지 아닌지 확인하고 싶은 문장의 개수\n",
    "n = int(input())\n",
    "\n",
    "### 팬그램인지 아닌지 확인하고 싶은 문장을 담을 리스트\n",
    "pangrams = [] \n",
    "for i in range(n):\n",
    "    pangrams.append(input().lower())\n",
    "\n",
    "    \n",
    "    \n",
    "### 팬그램인지 아닌지 확인\n",
    "for i in range(n):\n",
    "    if len(alphabet-set(pangrams[i].lower()))==0:\n",
    "        print(\"pangram\")\n",
    "        \n",
    "    else:\n",
    "        print(\"missing\",alphabet-set(pangrams[i].lower()))\n",
    "    \n",
    "    "
   ]
  },
  {
   "cell_type": "code",
   "execution_count": 12,
   "id": "6b11c866",
   "metadata": {},
   "outputs": [
    {
     "data": {
      "text/plain": [
       "0"
      ]
     },
     "execution_count": 12,
     "metadata": {},
     "output_type": "execute_result"
    }
   ],
   "source": [
    "alphabet = set('ABCDEFGHIJKLMNOPQRSTUVWXYZ')\n",
    "len(alphabet - set('The quick brown fox jumps over the lazy dog.'.upper()))"
   ]
  },
  {
   "cell_type": "code",
   "execution_count": null,
   "id": "bbfcd079",
   "metadata": {},
   "outputs": [],
   "source": []
  }
 ],
 "metadata": {
  "kernelspec": {
   "display_name": "Python 3 (ipykernel)",
   "language": "python",
   "name": "python3"
  },
  "language_info": {
   "codemirror_mode": {
    "name": "ipython",
    "version": 3
   },
   "file_extension": ".py",
   "mimetype": "text/x-python",
   "name": "python",
   "nbconvert_exporter": "python",
   "pygments_lexer": "ipython3",
   "version": "3.9.10"
  }
 },
 "nbformat": 4,
 "nbformat_minor": 5
}
