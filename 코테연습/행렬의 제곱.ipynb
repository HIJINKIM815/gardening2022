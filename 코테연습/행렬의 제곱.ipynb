{
 "cells": [
  {
   "cell_type": "markdown",
   "id": "45f77d2c",
   "metadata": {},
   "source": [
    "크기가 N*N인 행렬 A가 주어진다. 이때, A의 B제곱을 구하는 프로그램을 작성하시오. 수가 매우 커질 수 있으니, A^B의 각 원소를 1,000으로 나눈 나머지를 출력한다."
   ]
  },
  {
   "cell_type": "code",
   "execution_count": 39,
   "id": "7ddbb71d",
   "metadata": {},
   "outputs": [
    {
     "ename": "SyntaxError",
     "evalue": "invalid syntax (Temp/ipykernel_12412/881604701.py, line 1)",
     "output_type": "error",
     "traceback": [
      "\u001b[1;36m  File \u001b[1;32m\"C:\\Users\\KTDS\\AppData\\Local\\Temp/ipykernel_12412/881604701.py\"\u001b[1;36m, line \u001b[1;32m1\u001b[0m\n\u001b[1;33m    2 3\u001b[0m\n\u001b[1;37m      ^\u001b[0m\n\u001b[1;31mSyntaxError\u001b[0m\u001b[1;31m:\u001b[0m invalid syntax\n"
     ]
    }
   ],
   "source": [
    "2 3\n",
    "1 3 \n",
    "4 5 \n",
    " \n",
    "    "
   ]
  },
  {
   "cell_type": "code",
   "execution_count": 62,
   "id": "1813e0a7",
   "metadata": {},
   "outputs": [
    {
     "name": "stdout",
     "output_type": "stream",
     "text": [
      "2 2\n"
     ]
    }
   ],
   "source": [
    "n,m = list(map(int,input().split()))"
   ]
  },
  {
   "cell_type": "markdown",
   "id": "d7109aab",
   "metadata": {},
   "source": [
    "**2X2 행렬을 4번 제곱하기**"
   ]
  },
  {
   "cell_type": "code",
   "execution_count": 63,
   "id": "d8bfa0d0",
   "metadata": {},
   "outputs": [],
   "source": [
    "matrix_n = []"
   ]
  },
  {
   "cell_type": "code",
   "execution_count": 64,
   "id": "029c634f",
   "metadata": {},
   "outputs": [
    {
     "name": "stdout",
     "output_type": "stream",
     "text": [
      "1 3\n",
      "4 5\n"
     ]
    }
   ],
   "source": [
    "for i in range(n):\n",
    "    matrix_n.append(list(map(int,input().split())))"
   ]
  },
  {
   "cell_type": "code",
   "execution_count": 65,
   "id": "fe1fdcf5",
   "metadata": {},
   "outputs": [
    {
     "data": {
      "text/plain": [
       "[[1, 3], [4, 5]]"
      ]
     },
     "execution_count": 65,
     "metadata": {},
     "output_type": "execute_result"
    }
   ],
   "source": [
    "matrix_n"
   ]
  },
  {
   "cell_type": "code",
   "execution_count": 66,
   "id": "61f148b8",
   "metadata": {},
   "outputs": [],
   "source": [
    "copy_matrix_n = matrix_n"
   ]
  },
  {
   "cell_type": "code",
   "execution_count": 68,
   "id": "f82d69f6",
   "metadata": {},
   "outputs": [
    {
     "name": "stdout",
     "output_type": "stream",
     "text": [
      "[[1, 3], [4, 5]]\n",
      "[[1, 3], [4, 5]]\n"
     ]
    }
   ],
   "source": [
    "print(copy_matrix_n)\n",
    "print(matrix_n)"
   ]
  },
  {
   "cell_type": "code",
   "execution_count": 53,
   "id": "364f7ca1",
   "metadata": {},
   "outputs": [],
   "source": [
    "for i in range(m):\n",
    "    "
   ]
  },
  {
   "cell_type": "code",
   "execution_count": 55,
   "id": "0a4aed85",
   "metadata": {},
   "outputs": [],
   "source": [
    "matrix_n = np.array(matrix_n)"
   ]
  },
  {
   "cell_type": "code",
   "execution_count": 56,
   "id": "35aad9a9",
   "metadata": {},
   "outputs": [
    {
     "data": {
      "text/plain": [
       "array([[16,  4],\n",
       "       [ 9, 16]])"
      ]
     },
     "execution_count": 56,
     "metadata": {},
     "output_type": "execute_result"
    }
   ],
   "source": [
    "matrix_n*matrix_n"
   ]
  },
  {
   "cell_type": "code",
   "execution_count": null,
   "id": "6af1f4a8",
   "metadata": {},
   "outputs": [],
   "source": []
  },
  {
   "cell_type": "code",
   "execution_count": 59,
   "id": "2ecea095",
   "metadata": {},
   "outputs": [
    {
     "name": "stdout",
     "output_type": "stream",
     "text": [
      "2 2\n",
      "1 3\n",
      "4 5\n"
     ]
    },
    {
     "data": {
      "text/plain": [
       "array([[ 1,  9],\n",
       "       [16, 25]])"
      ]
     },
     "execution_count": 59,
     "metadata": {},
     "output_type": "execute_result"
    }
   ],
   "source": [
    "n,m = list(map(int,input().split()))\n",
    "matrix_n = []\n",
    "for i in range(n):\n",
    "    matrix_n.append(list(map(int,input().split())))\n",
    "import numpy as np\n",
    "matrix_n = np.array(matrix_n)\n",
    "(matrix_n*(matrix_n)"
   ]
  },
  {
   "cell_type": "code",
   "execution_count": 61,
   "id": "f6e8d259",
   "metadata": {},
   "outputs": [
    {
     "data": {
      "text/plain": [
       "array([[ 1,  9],\n",
       "       [16, 25]])"
      ]
     },
     "execution_count": 61,
     "metadata": {},
     "output_type": "execute_result"
    }
   ],
   "source": [
    "matrix_n*matrix_n"
   ]
  },
  {
   "cell_type": "code",
   "execution_count": null,
   "id": "e0caab18",
   "metadata": {},
   "outputs": [],
   "source": []
  },
  {
   "cell_type": "code",
   "execution_count": null,
   "id": "ef7afd00",
   "metadata": {},
   "outputs": [],
   "source": []
  },
  {
   "cell_type": "code",
   "execution_count": null,
   "id": "9969082b",
   "metadata": {},
   "outputs": [],
   "source": []
  }
 ],
 "metadata": {
  "kernelspec": {
   "display_name": "Python 3 (ipykernel)",
   "language": "python",
   "name": "python3"
  },
  "language_info": {
   "codemirror_mode": {
    "name": "ipython",
    "version": 3
   },
   "file_extension": ".py",
   "mimetype": "text/x-python",
   "name": "python",
   "nbconvert_exporter": "python",
   "pygments_lexer": "ipython3",
   "version": "3.9.7"
  }
 },
 "nbformat": 4,
 "nbformat_minor": 5
}
