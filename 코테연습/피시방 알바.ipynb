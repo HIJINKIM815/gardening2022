{
 "cells": [
  {
   "cell_type": "markdown",
   "id": "51f0b6f7",
   "metadata": {},
   "source": [
    "**백준_피시방 알바**"
   ]
  },
  {
   "cell_type": "markdown",
   "id": "58bfd405",
   "metadata": {},
   "source": [
    "세준이는 피시방에서 아르바이트를 한다. 세준이의 피시방에는 1번부터 100번까지 컴퓨터가 있다.\n",
    "\n",
    "들어오는 손님은 모두 자기가 앉고 싶은 자리에만 앉고싶어한다. 따라서 들어오면서 번호를 말한다. 만약에 그 자리에 사람이 없으면 그 손님은 그 자리에 앉아서 컴퓨터를 할 수 있고, 사람이 있다면 거절당한다.\n",
    "\n",
    "거절당하는 사람의 수를 출력하는 프로그램을 작성하시오. 자리는 맨 처음에 모두 비어있고, 어떤 사람이 자리에 앉으면 자리를 비우는 일은 없다."
   ]
  },
  {
   "cell_type": "code",
   "execution_count": 4,
   "id": "1179760b",
   "metadata": {},
   "outputs": [
    {
     "name": "stdout",
     "output_type": "stream",
     "text": [
      "7\n"
     ]
    }
   ],
   "source": [
    "customers = int(input()) # 입장할 손님의 수를 입력 받는다."
   ]
  },
  {
   "cell_type": "code",
   "execution_count": 5,
   "id": "57729f9f",
   "metadata": {},
   "outputs": [
    {
     "data": {
      "text/plain": [
       "int"
      ]
     },
     "execution_count": 5,
     "metadata": {},
     "output_type": "execute_result"
    }
   ],
   "source": [
    "type(customers)"
   ]
  },
  {
   "cell_type": "code",
   "execution_count": 18,
   "id": "7b19dcbf",
   "metadata": {},
   "outputs": [
    {
     "name": "stdout",
     "output_type": "stream",
     "text": [
      "1 3 5 2 3 4 1\n"
     ]
    }
   ],
   "source": [
    "place = list(map(int,input().split(' '))) # 손님들이 안고 싶어하는 자리를 번호로 입력받는다."
   ]
  },
  {
   "cell_type": "code",
   "execution_count": 19,
   "id": "9be15319",
   "metadata": {},
   "outputs": [
    {
     "data": {
      "text/plain": [
       "[1, 3, 5, 2, 3, 4, 1]"
      ]
     },
     "execution_count": 19,
     "metadata": {},
     "output_type": "execute_result"
    }
   ],
   "source": [
    "place"
   ]
  },
  {
   "cell_type": "code",
   "execution_count": 29,
   "id": "64805412",
   "metadata": {},
   "outputs": [],
   "source": [
    "value = list(set(place))"
   ]
  },
  {
   "cell_type": "code",
   "execution_count": 30,
   "id": "64299d10",
   "metadata": {},
   "outputs": [
    {
     "data": {
      "text/plain": [
       "[1, 2, 3, 4, 5]"
      ]
     },
     "execution_count": 30,
     "metadata": {},
     "output_type": "execute_result"
    }
   ],
   "source": [
    "value"
   ]
  },
  {
   "cell_type": "markdown",
   "id": "78b7bdac",
   "metadata": {},
   "source": [
    "**만약 앞의 사람이 앉은 자리를 뒤에 온 손님이 원하면 그 손님은 거절 당하게 된다. 따라서 중복되는 값을 찾으면 된다**"
   ]
  },
  {
   "cell_type": "code",
   "execution_count": 32,
   "id": "b2179971",
   "metadata": {},
   "outputs": [],
   "source": [
    "refused_count = 0\n",
    "for i in range(len(value)):\n",
    "    if place.count(value[i])>1:\n",
    "        refused_count = refused_count + place.count(value[i])-1\n",
    "    "
   ]
  },
  {
   "cell_type": "code",
   "execution_count": 33,
   "id": "92364684",
   "metadata": {},
   "outputs": [
    {
     "data": {
      "text/plain": [
       "2"
      ]
     },
     "execution_count": 33,
     "metadata": {},
     "output_type": "execute_result"
    }
   ],
   "source": [
    "refused_count"
   ]
  },
  {
   "cell_type": "code",
   "execution_count": null,
   "id": "ad61c6a6",
   "metadata": {},
   "outputs": [],
   "source": [
    "customers = int(input())\n",
    "place = list(map(int,input().split(' ')))\n",
    "value = list(set(place))\n",
    "refused_count = 0\n",
    "for i in range(len(value)):\n",
    "    if place.count(value[i])>1:\n",
    "        refused_count = refused_count + place.count(value[i])-1"
   ]
  },
  {
   "cell_type": "code",
   "execution_count": null,
   "id": "cdc79a39",
   "metadata": {},
   "outputs": [],
   "source": [
    "customers = int(input())\n",
    "place = list(map(int,input().split(' ')))\n",
    "def solution(place):\n",
    "    \n",
    "    value = list(set(place))\n",
    "    refused_count = 0\n",
    "    for i in range(len(value)):\n",
    "        if place.count(value[i])>1:\n",
    "            refused_count = refused_count + place.count(value[i])-1\n",
    "    return refused_count\n",
    "    "
   ]
  },
  {
   "cell_type": "code",
   "execution_count": null,
   "id": "33445b08",
   "metadata": {},
   "outputs": [],
   "source": []
  }
 ],
 "metadata": {
  "kernelspec": {
   "display_name": "Python 3 (ipykernel)",
   "language": "python",
   "name": "python3"
  },
  "language_info": {
   "codemirror_mode": {
    "name": "ipython",
    "version": 3
   },
   "file_extension": ".py",
   "mimetype": "text/x-python",
   "name": "python",
   "nbconvert_exporter": "python",
   "pygments_lexer": "ipython3",
   "version": "3.9.9"
  }
 },
 "nbformat": 4,
 "nbformat_minor": 5
}
