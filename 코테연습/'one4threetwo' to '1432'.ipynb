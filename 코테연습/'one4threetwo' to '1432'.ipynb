{
 "cells": [
  {
   "cell_type": "code",
   "execution_count": 1,
   "id": "17753a5f",
   "metadata": {},
   "outputs": [],
   "source": [
    "def solution(s):\n",
    "    num_str = ['zero','one','two','three','four','five','six','seven','eight','nine']\n",
    "    for i in range(10):\n",
    "        s = s.replace(num_str[i],str(i))\n",
    "    \n",
    "    answer = int(s)       \n",
    "    return answer"
   ]
  }
 ],
 "metadata": {
  "kernelspec": {
   "display_name": "Python 3 (ipykernel)",
   "language": "python",
   "name": "python3"
  },
  "language_info": {
   "codemirror_mode": {
    "name": "ipython",
    "version": 3
   },
   "file_extension": ".py",
   "mimetype": "text/x-python",
   "name": "python",
   "nbconvert_exporter": "python",
   "pygments_lexer": "ipython3",
   "version": "3.9.9"
  }
 },
 "nbformat": 4,
 "nbformat_minor": 5
}
