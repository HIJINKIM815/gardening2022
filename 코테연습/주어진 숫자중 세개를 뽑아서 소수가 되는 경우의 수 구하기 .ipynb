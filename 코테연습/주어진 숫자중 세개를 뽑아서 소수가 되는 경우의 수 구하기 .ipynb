{
 "cells": [
  {
   "cell_type": "markdown",
   "id": "1dd43def",
   "metadata": {},
   "source": [
    "**어려워 보이지만, 이 문제는 level1이다. 생각보다 쉬울 수가 있다. 어떤 규칙이 분명히 있다고 생각했는데 너무 어렵네**"
   ]
  },
  {
   "cell_type": "markdown",
   "id": "3dc9837a",
   "metadata": {},
   "source": [
    "### 첫번째 접근 방법\n",
    " - 서로 다른 세개의 수를 차례대로 A, B, C 라고 하자. ( A < B < C)\n",
    " - 그렇다면 B = A + m , C = A + n 이라고 표현 할 수 있고 \n",
    " - 세 수의 합을 A+B+C 대신 A + (A+m) + (A+n) 으로 새롭게 표현 할 수 있다. \n",
    " - A + (A+m) + (A+n) = 3A + m + n 이 소수가 되기 위해서는 \n",
    " \n",
    "     (1) m+n이 3을 인수로 갖지 않고, \n",
    "     \n",
    "     (2) A와 (m+n)이 서로소 이면 된다."
   ]
  },
  {
   "cell_type": "code",
   "execution_count": 44,
   "id": "813d083b",
   "metadata": {},
   "outputs": [],
   "source": [
    "\n",
    "def solution(nums): # 숫자들이 들어있는 배열 nums가 매개변수로 주어질 때\n",
    "    answer_list = [] # 조건을 만족할때 원소를 하나씩 추가할 list \n",
    "    \n",
    "    import numpy as np\n",
    "    numsA = np.subtract(sorted(nums), min(nums)) # nums를 정렬후, 각 원소들을 nums의 최소값으로 빼준다\n",
    "    \n",
    "    for i in range(1,len(numsA)): # 최소를 제외하고 나머지 수들중에서 두개씩을 뽑는다 \n",
    "        for a in range(i+1,len(numsA)):\n",
    "            if (numsA[i]+numsA[a])%3!=0: # 그 두의 합을 3으로 나눈 나머지가 0이 아니면 \n",
    "                if ((numsA[i]+numsA[a])%(np.arange(2,min(nums)+1))).tolist().count(0)==0:\n",
    "                    # 두수의 합을 '2에서 최소값'에 해당 되는 수들 모두로 나누었을때 0이 되는 값이 없다면 \n",
    "                    answer_list.append('p') # p를 추가 \n",
    "    return len(answer_list)\n",
    "               \n",
    "            "
   ]
  },
  {
   "cell_type": "code",
   "execution_count": 53,
   "id": "13c473d5",
   "metadata": {},
   "outputs": [],
   "source": [
    "nums = [1,2,4,8,12]"
   ]
  },
  {
   "cell_type": "code",
   "execution_count": 54,
   "id": "75e5c87a",
   "metadata": {},
   "outputs": [
    {
     "data": {
      "text/plain": [
       "array([ 0,  1,  3,  7, 11])"
      ]
     },
     "execution_count": 54,
     "metadata": {},
     "output_type": "execute_result"
    }
   ],
   "source": [
    "numsA = np.subtract(sorted(nums), min(nums))\n",
    "numsA"
   ]
  },
  {
   "cell_type": "code",
   "execution_count": 55,
   "id": "2c53fed6",
   "metadata": {},
   "outputs": [
    {
     "data": {
      "text/plain": [
       "4"
      ]
     },
     "execution_count": 55,
     "metadata": {},
     "output_type": "execute_result"
    }
   ],
   "source": [
    "solution(nums)"
   ]
  },
  {
   "cell_type": "code",
   "execution_count": 56,
   "id": "05d708d7",
   "metadata": {},
   "outputs": [
    {
     "data": {
      "text/plain": [
       "array([], dtype=int64)"
      ]
     },
     "execution_count": 56,
     "metadata": {},
     "output_type": "execute_result"
    }
   ],
   "source": [
    "np.arange(2,min(nums)+1)"
   ]
  },
  {
   "cell_type": "code",
   "execution_count": 70,
   "id": "593d3a62",
   "metadata": {},
   "outputs": [],
   "source": [
    "\n",
    "def solution(nums): # 숫자들이 들어있는 배열 nums가 매개변수로 주어질 때\n",
    "    answer_list = [] # 조건을 만족할때 원소를 하나씩 추가할 list \n",
    "    \n",
    "    import numpy as np\n",
    "    numsA = np.subtract(sorted(nums), min(nums)) # nums를 정렬후, 각 원소들을 nums의 최소값으로 빼준다\n",
    "    \n",
    "    for i in range(1,len(numsA)):\n",
    "        for a in range(i+1,len(numsA)):\n",
    "            if (numsA[i]+numsA[a])%3!=0 & ((numsA[i]+numsA[a])%(np.arange(1,min(nums)+1))).tolist().count(0)==1:\n",
    "                answer_list.append('p')\n",
    "    return len(answer_list)\n",
    "                        "
   ]
  },
  {
   "cell_type": "code",
   "execution_count": 71,
   "id": "c4e4d27f",
   "metadata": {},
   "outputs": [],
   "source": [
    "nums=[1, 2, 4]"
   ]
  },
  {
   "cell_type": "code",
   "execution_count": 72,
   "id": "c0597548",
   "metadata": {},
   "outputs": [
    {
     "data": {
      "text/plain": [
       "0"
      ]
     },
     "execution_count": 72,
     "metadata": {},
     "output_type": "execute_result"
    }
   ],
   "source": [
    "solution(nums)"
   ]
  },
  {
   "cell_type": "code",
   "execution_count": 60,
   "id": "ce36ccf0",
   "metadata": {},
   "outputs": [],
   "source": [
    "numsA = np.subtract(sorted(nums), min(nums))"
   ]
  },
  {
   "cell_type": "code",
   "execution_count": 61,
   "id": "28ef78e6",
   "metadata": {},
   "outputs": [
    {
     "data": {
      "text/plain": [
       "array([0, 1, 2, 3])"
      ]
     },
     "execution_count": 61,
     "metadata": {},
     "output_type": "execute_result"
    }
   ],
   "source": [
    "numsA"
   ]
  },
  {
   "cell_type": "code",
   "execution_count": 63,
   "id": "fd970a7a",
   "metadata": {},
   "outputs": [
    {
     "ename": "IndentationError",
     "evalue": "expected an indented block (2720411562.py, line 1)",
     "output_type": "error",
     "traceback": [
      "\u001b[0;36m  File \u001b[0;32m\"/var/folders/sy/lzv1b4r92bqb6hy15tk2qy5h0000gn/T/ipykernel_2482/2720411562.py\"\u001b[0;36m, line \u001b[0;32m1\u001b[0m\n\u001b[0;31m    for i in range(1,len(numsA)):\u001b[0m\n\u001b[0m                                 ^\u001b[0m\n\u001b[0;31mIndentationError\u001b[0m\u001b[0;31m:\u001b[0m expected an indented block\n"
     ]
    }
   ],
   "source": [
    "for i in range(1,len(numsA)):"
   ]
  },
  {
   "cell_type": "code",
   "execution_count": 74,
   "id": "d29eea8a",
   "metadata": {},
   "outputs": [
    {
     "data": {
      "text/plain": [
       "1"
      ]
     },
     "execution_count": 74,
     "metadata": {},
     "output_type": "execute_result"
    }
   ],
   "source": [
    "(7%np.arange(1,3)).tolist().count(0)"
   ]
  },
  {
   "cell_type": "code",
   "execution_count": 75,
   "id": "304e035e",
   "metadata": {},
   "outputs": [
    {
     "data": {
      "text/plain": [
       "array([1, 2])"
      ]
     },
     "execution_count": 75,
     "metadata": {},
     "output_type": "execute_result"
    }
   ],
   "source": [
    "np.arange(1,3)"
   ]
  },
  {
   "cell_type": "code",
   "execution_count": null,
   "id": "39d687a3",
   "metadata": {},
   "outputs": [],
   "source": []
  }
 ],
 "metadata": {
  "kernelspec": {
   "display_name": "Python 3 (ipykernel)",
   "language": "python",
   "name": "python3"
  },
  "language_info": {
   "codemirror_mode": {
    "name": "ipython",
    "version": 3
   },
   "file_extension": ".py",
   "mimetype": "text/x-python",
   "name": "python",
   "nbconvert_exporter": "python",
   "pygments_lexer": "ipython3",
   "version": "3.9.9"
  }
 },
 "nbformat": 4,
 "nbformat_minor": 5
}
