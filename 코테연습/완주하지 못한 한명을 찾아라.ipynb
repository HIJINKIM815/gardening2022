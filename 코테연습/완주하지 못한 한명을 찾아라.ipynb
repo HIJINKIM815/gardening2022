{
 "cells": [
  {
   "cell_type": "markdown",
   "id": "eafb77b7",
   "metadata": {},
   "source": [
    "< 문제 >  마라톤에 참가한 선수의 배열 participant 중에서 1명을 제외하고 모두 완주를 하였고, 완주한 그룹은 배열 completion 으로 주어져있다. 완주 하지 못한 한명을 찾아서 answer로 return하여라."
   ]
  },
  {
   "cell_type": "markdown",
   "id": "e9b40baf",
   "metadata": {},
   "source": [
    "**1.completion과 participant의 길이 차이는 1뿐이다.**\n",
    "\n",
    "**2.completion에 'a'라는 이름을 가진 사람이 2명 이상일 수도 있다.**"
   ]
  },
  {
   "cell_type": "code",
   "execution_count": 52,
   "id": "c4b3c940",
   "metadata": {},
   "outputs": [],
   "source": [
    "# 참가자와, 완주자 그룹이 배열로 주어진다.\n",
    "def solution(participant, completion):\n",
    "    # 참가자 그룹과 완주자 그룹을 역순으로 정렬했을때, 첫번째 원소가 다르다면 ( = 완주하지 못한 사람 )\n",
    "    if sorted(participant,reverse=True)[0] != sorted(completion,reverse=True)[0]:\n",
    "        answer = sorted(participant,reverse=True)[0]\n",
    "        \n",
    "    else:\n",
    "        for i in range(len(completion)):\n",
    "            # 참가자 그룹과 완주자 그룹을 정렬했을때, 원소가 다른 지점을 찾아서 완주하지 못한 사람을 찾음 \n",
    "            if sorted(participant)[i]!=sorted(completion)[i]:\n",
    "                answer = sorted(participant)[i]\n",
    "                break\n",
    "    return answer"
   ]
  },
  {
   "cell_type": "markdown",
   "id": "7f2af84d",
   "metadata": {},
   "source": [
    "**하지만 위의 코드는 효율적이지 못함(시간이 오래걸린다)**"
   ]
  },
  {
   "cell_type": "code",
   "execution_count": null,
   "id": "15cb079a",
   "metadata": {},
   "outputs": [],
   "source": [
    "def solution(participant, completion):\n",
    "    completion.append('zzzzzzzzzzzzzzzzzz')\n",
    "    for one in range(len(participant)):\n",
    "        if sorted(participant)[one] != sorted(completion)[one]:\n",
    "            answer = sorted(participant)[one]\n",
    "            break\n",
    "            \n",
    "    return answer\n",
    "\n"
   ]
  },
  {
   "cell_type": "code",
   "execution_count": 1,
   "id": "0a9174b4",
   "metadata": {},
   "outputs": [],
   "source": [
    "def solution(participant,completion):\n",
    "    global answer \n",
    "    for i in range(len(participant)):\n",
    "        if participant[i] in completion:\n",
    "            completion.replace(participant[i],str(participant[i]+'x'),1)\n",
    "        if participant[i] not in completion:\n",
    "            answer = participant[i]\n",
    "            break\n",
    "             \n",
    "    return answer\n",
    "    "
   ]
  },
  {
   "cell_type": "code",
   "execution_count": 4,
   "id": "f9b4640c",
   "metadata": {},
   "outputs": [
    {
     "ename": "TypeError",
     "evalue": "'type' object is not subscriptable",
     "output_type": "error",
     "traceback": [
      "\u001b[0;31m---------------------------------------------------------------------------\u001b[0m",
      "\u001b[0;31mTypeError\u001b[0m                                 Traceback (most recent call last)",
      "\u001b[0;32m/var/folders/sy/lzv1b4r92bqb6hy15tk2qy5h0000gn/T/ipykernel_12476/271632398.py\u001b[0m in \u001b[0;36m<module>\u001b[0;34m\u001b[0m\n\u001b[0;32m----> 1\u001b[0;31m \u001b[0mparticipant\u001b[0m \u001b[0;34m=\u001b[0m \u001b[0mstr\u001b[0m\u001b[0;34m[\u001b[0m\u001b[0;34m'a'\u001b[0m\u001b[0;34m,\u001b[0m\u001b[0;34m'b'\u001b[0m\u001b[0;34m,\u001b[0m\u001b[0;34m'c'\u001b[0m\u001b[0;34m,\u001b[0m\u001b[0;34m'd'\u001b[0m\u001b[0;34m]\u001b[0m\u001b[0;34m\u001b[0m\u001b[0;34m\u001b[0m\u001b[0m\n\u001b[0m\u001b[1;32m      2\u001b[0m \u001b[0mcompletion\u001b[0m \u001b[0;34m=\u001b[0m \u001b[0;34m[\u001b[0m\u001b[0;34m'a'\u001b[0m\u001b[0;34m,\u001b[0m\u001b[0;34m'c'\u001b[0m\u001b[0;34m,\u001b[0m\u001b[0;34m'd'\u001b[0m\u001b[0;34m]\u001b[0m\u001b[0;34m\u001b[0m\u001b[0;34m\u001b[0m\u001b[0m\n",
      "\u001b[0;31mTypeError\u001b[0m: 'type' object is not subscriptable"
     ]
    }
   ],
   "source": [
    "participant = ['a','b','c','d']\n",
    "completion = ['a','c','d']\n"
   ]
  },
  {
   "cell_type": "code",
   "execution_count": 27,
   "id": "6af6e196",
   "metadata": {},
   "outputs": [],
   "source": [
    "\n",
    "participant = str(['a','a','c'])"
   ]
  },
  {
   "cell_type": "code",
   "execution_count": 28,
   "id": "ed04ff81",
   "metadata": {},
   "outputs": [
    {
     "data": {
      "text/plain": [
       "\"['a', 'a', 'c']\""
      ]
     },
     "execution_count": 28,
     "metadata": {},
     "output_type": "execute_result"
    }
   ],
   "source": [
    "participant"
   ]
  },
  {
   "cell_type": "code",
   "execution_count": 29,
   "id": "d3125130",
   "metadata": {},
   "outputs": [],
   "source": [
    "completion = str(['a','c'])"
   ]
  },
  {
   "cell_type": "code",
   "execution_count": 33,
   "id": "d669f10b",
   "metadata": {},
   "outputs": [
    {
     "data": {
      "text/plain": [
       "'b'"
      ]
     },
     "execution_count": 33,
     "metadata": {},
     "output_type": "execute_result"
    }
   ],
   "source": [
    "solution(participant , completion)"
   ]
  },
  {
   "cell_type": "code",
   "execution_count": 31,
   "id": "3aafb0aa",
   "metadata": {},
   "outputs": [
    {
     "data": {
      "text/plain": [
       "\"['a', 'a', 'c']\""
      ]
     },
     "execution_count": 31,
     "metadata": {},
     "output_type": "execute_result"
    }
   ],
   "source": [
    "participant "
   ]
  },
  {
   "cell_type": "code",
   "execution_count": 32,
   "id": "e505c97e",
   "metadata": {},
   "outputs": [
    {
     "data": {
      "text/plain": [
       "\"['a', 'c']\""
      ]
     },
     "execution_count": 32,
     "metadata": {},
     "output_type": "execute_result"
    }
   ],
   "source": [
    "completion"
   ]
  },
  {
   "cell_type": "code",
   "execution_count": 34,
   "id": "76d1268a",
   "metadata": {},
   "outputs": [
    {
     "ename": "TypeError",
     "evalue": "unsupported operand type(s) for -: 'str' and 'str'",
     "output_type": "error",
     "traceback": [
      "\u001b[0;31m---------------------------------------------------------------------------\u001b[0m",
      "\u001b[0;31mTypeError\u001b[0m                                 Traceback (most recent call last)",
      "\u001b[0;32m/var/folders/sy/lzv1b4r92bqb6hy15tk2qy5h0000gn/T/ipykernel_12476/366509990.py\u001b[0m in \u001b[0;36m<module>\u001b[0;34m\u001b[0m\n\u001b[0;32m----> 1\u001b[0;31m \u001b[0mparticipant\u001b[0m \u001b[0;34m-\u001b[0m \u001b[0mcompletion\u001b[0m\u001b[0;34m\u001b[0m\u001b[0;34m\u001b[0m\u001b[0m\n\u001b[0m",
      "\u001b[0;31mTypeError\u001b[0m: unsupported operand type(s) for -: 'str' and 'str'"
     ]
    }
   ],
   "source": [
    "participant - completion"
   ]
  },
  {
   "cell_type": "code",
   "execution_count": null,
   "id": "265bbb11",
   "metadata": {},
   "outputs": [],
   "source": []
  }
 ],
 "metadata": {
  "kernelspec": {
   "display_name": "Python 3 (ipykernel)",
   "language": "python",
   "name": "python3"
  },
  "language_info": {
   "codemirror_mode": {
    "name": "ipython",
    "version": 3
   },
   "file_extension": ".py",
   "mimetype": "text/x-python",
   "name": "python",
   "nbconvert_exporter": "python",
   "pygments_lexer": "ipython3",
   "version": "3.9.9"
  }
 },
 "nbformat": 4,
 "nbformat_minor": 5
}
