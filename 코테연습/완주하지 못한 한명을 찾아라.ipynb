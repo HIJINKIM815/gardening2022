{
 "cells": [
  {
   "cell_type": "markdown",
   "id": "9cf7e0cb",
   "metadata": {},
   "source": [
    "< 문제 >  마라톤에 참가한 선수의 배열 participant 중에서 1명을 제외하고 모두 완주를 하였고, 완주한 그룹은 배열 completion 으로 주어져있다. 완주 하지 못한 한명을 찾아서 answer로 return하여라."
   ]
  },
  {
   "cell_type": "markdown",
   "id": "6768bd38",
   "metadata": {},
   "source": [
    "**1.completion과 participant의 길이 차이는 1뿐이다.**\n",
    "\n",
    "**2.completion에 'a'라는 이름을 가진 사람이 2명 이상일 수도 있다.**"
   ]
  },
  {
   "cell_type": "code",
   "execution_count": 52,
   "id": "914bdda8",
   "metadata": {},
   "outputs": [],
   "source": [
    "# 참가자와, 완주자 그룹이 배열로 주어진다.\n",
    "def solution(participant, completion):\n",
    "    # 참가자 그룹과 완주자 그룹을 역순으로 정렬했을때, 첫번째 원소가 다르다면 ( = 완주하지 못한 사람 )\n",
    "    if sorted(participant,reverse=True)[0] != sorted(completion,reverse=True)[0]:\n",
    "        answer = sorted(participant,reverse=True)[0]\n",
    "        \n",
    "    else:\n",
    "        for i in range(len(completion)):\n",
    "            # 참가자 그룹과 완주자 그룹을 정렬했을때, 원소가 다른 지점을 찾아서 완주하지 못한 사람을 찾음 \n",
    "            if sorted(participant)[i]!=sorted(completion)[i]:\n",
    "                answer = sorted(participant)[i]\n",
    "                break\n",
    "    return answer"
   ]
  },
  {
   "cell_type": "markdown",
   "id": "c75d609f",
   "metadata": {},
   "source": [
    "**하지만 위의 코드는 효율적이지 못함(시간이 오래걸린다)**"
   ]
  },
  {
   "cell_type": "code",
   "execution_count": null,
   "id": "15072493",
   "metadata": {},
   "outputs": [],
   "source": [
    "def solution(participant, completion):\n",
    "    completion.append('zzzzzzzzzzzzzzzzzz')\n",
    "    for one in range(len(participant)):\n",
    "        if sorted(participant)[one] != sorted(completion)[one]:\n",
    "            answer = sorted(participant)[one]\n",
    "            break\n",
    "            \n",
    "    return answer\n",
    "\n"
   ]
  },
  {
   "cell_type": "code",
   "execution_count": null,
   "id": "c3246ed8",
   "metadata": {},
   "outputs": [],
   "source": [
    "def solution(participant,completion):\n",
    "    "
   ]
  },
  {
   "cell_type": "code",
   "execution_count": 76,
   "id": "403e51f2",
   "metadata": {},
   "outputs": [
    {
     "data": {
      "text/plain": [
       "range(0, 3)"
      ]
     },
     "execution_count": 76,
     "metadata": {},
     "output_type": "execute_result"
    }
   ],
   "source": [
    "participant = ['a','a','b']\n",
    "completion = ['a','b','c']\n",
    "range(0,len(participant))"
   ]
  },
  {
   "cell_type": "code",
   "execution_count": 78,
   "id": "4f853831",
   "metadata": {},
   "outputs": [],
   "source": [
    "for i in range(len(participant)):\n",
    "    zip_paritzip(range(len(participant)),participant)"
   ]
  },
  {
   "cell_type": "code",
   "execution_count": 63,
   "id": "1e2791a3",
   "metadata": {},
   "outputs": [],
   "source": []
  },
  {
   "cell_type": "code",
   "execution_count": 64,
   "id": "30fef78a",
   "metadata": {},
   "outputs": [
    {
     "data": {
      "text/plain": [
       "<zip at 0x1033fbec0>"
      ]
     },
     "execution_count": 64,
     "metadata": {},
     "output_type": "execute_result"
    }
   ],
   "source": []
  },
  {
   "cell_type": "code",
   "execution_count": null,
   "id": "93fa5983",
   "metadata": {},
   "outputs": [],
   "source": []
  }
 ],
 "metadata": {
  "kernelspec": {
   "display_name": "Python 3 (ipykernel)",
   "language": "python",
   "name": "python3"
  },
  "language_info": {
   "codemirror_mode": {
    "name": "ipython",
    "version": 3
   },
   "file_extension": ".py",
   "mimetype": "text/x-python",
   "name": "python",
   "nbconvert_exporter": "python",
   "pygments_lexer": "ipython3",
   "version": "3.9.9"
  }
 },
 "nbformat": 4,
 "nbformat_minor": 5
}
