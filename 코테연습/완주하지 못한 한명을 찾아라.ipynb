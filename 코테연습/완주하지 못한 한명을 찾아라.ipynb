{
 "cells": [
  {
   "cell_type": "markdown",
   "id": "eafb77b7",
   "metadata": {},
   "source": [
    "< 문제 >  마라톤에 참가한 선수의 배열 participant 중에서 1명을 제외하고 모두 완주를 하였고, 완주한 그룹은 배열 completion 으로 주어져있다. 완주 하지 못한 한명을 찾아서 answer로 return하여라."
   ]
  },
  {
   "cell_type": "markdown",
   "id": "e9b40baf",
   "metadata": {},
   "source": [
    "**1.completion과 participant의 길이 차이는 1뿐이다.**\n",
    "\n",
    "**2.completion에 'a'라는 이름을 가진 사람이 2명 이상일 수도 있다.**"
   ]
  },
  {
   "cell_type": "code",
   "execution_count": 2,
   "id": "c4b3c940",
   "metadata": {},
   "outputs": [],
   "source": [
    "# 참가자와, 완주자 그룹이 배열로 주어진다.\n",
    "def solution(participant, completion):\n",
    "    # 참가자 그룹과 완주자 그룹을 역순으로 정렬했을때, 첫번째 원소가 다르다면 ( = 완주하지 못한 사람 )\n",
    "    if sorted(participant,reverse=True)[0] != sorted(completion,reverse=True)[0]:\n",
    "        answer = sorted(participant,reverse=True)[0]\n",
    "        \n",
    "    else:\n",
    "        for i in range(len(completion)):\n",
    "            # 참가자 그룹과 완주자 그룹을 정렬했을때, 원소가 다른 지점을 찾아서 완주하지 못한 사람을 찾음 \n",
    "            if sorted(participant)[i]!=sorted(completion)[i]:\n",
    "                answer = sorted(participant)[i]\n",
    "                break\n",
    "    return answer"
   ]
  },
  {
   "cell_type": "markdown",
   "id": "7f2af84d",
   "metadata": {},
   "source": [
    "**하지만 위의 코드는 효율적이지 못함(시간이 오래걸린다)**"
   ]
  },
  {
   "cell_type": "code",
   "execution_count": 3,
   "id": "15cb079a",
   "metadata": {},
   "outputs": [],
   "source": [
    "def solution(participant, completion):\n",
    "    completion.append('zzzzzzzzzzzzzzzzzz')\n",
    "    for one in range(len(participant)):\n",
    "        if sorted(participant)[one] != sorted(completion)[one]:\n",
    "            answer = sorted(participant)[one]\n",
    "            break\n",
    "            \n",
    "    return answer\n",
    "\n"
   ]
  },
  {
   "cell_type": "code",
   "execution_count": 4,
   "id": "0a9174b4",
   "metadata": {},
   "outputs": [],
   "source": [
    "def solution(participant,completion):\n",
    "    global answer \n",
    "    for i in range(len(participant)):\n",
    "        if participant[i] in completion:\n",
    "            completion.replace(participant[i],str(participant[i]+'x'),1)\n",
    "        if participant[i] not in completion:\n",
    "            answer = participant[i]\n",
    "            break\n",
    "             \n",
    "    return answer\n",
    "    "
   ]
  },
  {
   "cell_type": "code",
   "execution_count": 5,
   "id": "3a840d1f",
   "metadata": {
    "scrolled": true
   },
   "outputs": [],
   "source": [
    "def solution(participant,completion):\n",
    "    \n",
    "    for i in range(len(completion)):\n",
    "        if sorted(participant + completion)[2*i] !=sorted(participant + completion)[2*i+1] :\n",
    "            answer = sorted(participant + completion)[2*i]\n",
    "        else:\n",
    "            answer = sorted(participant)[-1]\n",
    "    return answer"
   ]
  },
  {
   "cell_type": "code",
   "execution_count": 6,
   "id": "6f78e5e9",
   "metadata": {},
   "outputs": [],
   "source": [
    "def solution(participant,completion):\n",
    "    participant = ''.join(participant)\n",
    "    completion = ''.join(completion)\n",
    "    for i in range(len(participant)):\n",
    "        if participant.count(participant[i])%2==1 :\n",
    "            answer = participant[i]\n",
    "        \n",
    "    return answer"
   ]
  },
  {
   "cell_type": "code",
   "execution_count": 9,
   "id": "5d7dead4",
   "metadata": {},
   "outputs": [],
   "source": [
    "def solution(participant,completion):\n",
    "    all_str = ' '.join(participant+completion)\n",
    "    \n",
    "    for i in range(len(participant)):\n",
    "        if (all_str.count(participant[i]))%2!=0 :\n",
    "            answer = participant[i]\n",
    "            break\n",
    "        \n",
    "    return answer"
   ]
  },
  {
   "cell_type": "code",
   "execution_count": 10,
   "id": "51d1f41b",
   "metadata": {},
   "outputs": [],
   "source": [
    "def solution(participant,completion):\n",
    "    for i in range(len(completion)):\n",
    "        participant = participant.remove(completion[i])\n",
    "    return answer"
   ]
  },
  {
   "cell_type": "code",
   "execution_count": 11,
   "id": "25f7b839",
   "metadata": {},
   "outputs": [],
   "source": [
    "list1 = ['heejin','hayul','heeseon','elly','heejin']\n",
    "list2 = ['heejin','heeseon','elly','hayul']"
   ]
  },
  {
   "cell_type": "code",
   "execution_count": 12,
   "id": "686dd465",
   "metadata": {},
   "outputs": [],
   "source": [
    "def solution(participant, completion):\n",
    "    for i in set(participant):\n",
    "        if participant.count(i)!=completion.count(i):\n",
    "            break\n",
    "    return i"
   ]
  },
  {
   "cell_type": "code",
   "execution_count": 13,
   "id": "98700a0f",
   "metadata": {},
   "outputs": [
    {
     "data": {
      "text/plain": [
       "'heejin'"
      ]
     },
     "execution_count": 13,
     "metadata": {},
     "output_type": "execute_result"
    }
   ],
   "source": [
    "solution(list1,list2)"
   ]
  },
  {
   "cell_type": "code",
   "execution_count": null,
   "id": "868e1ecb",
   "metadata": {},
   "outputs": [],
   "source": []
  },
  {
   "cell_type": "markdown",
   "id": "39492bc9",
   "metadata": {},
   "source": [
    "### 이 문제를 풀 때 문제점\n",
    "동일한 이름을 가진 사람이 2명 이상이고, 그 사람이 완주를 못했을 수도 있다. "
   ]
  },
  {
   "cell_type": "code",
   "execution_count": 16,
   "id": "da338ede",
   "metadata": {},
   "outputs": [
    {
     "data": {
      "text/plain": [
       "['elly',\n",
       " 'elly',\n",
       " 'hayul',\n",
       " 'hayul',\n",
       " 'heejin',\n",
       " 'heejin',\n",
       " 'heejin',\n",
       " 'heeseon',\n",
       " 'heeseon']"
      ]
     },
     "execution_count": 16,
     "metadata": {},
     "output_type": "execute_result"
    }
   ],
   "source": [
    "sorted(list1+list2)"
   ]
  },
  {
   "cell_type": "code",
   "execution_count": 17,
   "id": "3e6a1417",
   "metadata": {},
   "outputs": [],
   "source": [
    "def solution(participant, completion):\n",
    "    for i in range(len(completion)):\n",
    "        if sorted(participant+completion)[2*i]!=sorted(participant+completion)[2*i+1]:\n",
    "            return sorted(participant+completion)[2*i]\n",
    "    if sorted(participant+completion)[2*len(completion)]!=sorted(participant+completion)[2*len(completion)+1]:\n",
    "        return sorted(participant+completion)[2*len(participant)]"
   ]
  },
  {
   "cell_type": "code",
   "execution_count": null,
   "id": "69e24e2a",
   "metadata": {},
   "outputs": [],
   "source": []
  }
 ],
 "metadata": {
  "kernelspec": {
   "display_name": "Python 3 (ipykernel)",
   "language": "python",
   "name": "python3"
  },
  "language_info": {
   "codemirror_mode": {
    "name": "ipython",
    "version": 3
   },
   "file_extension": ".py",
   "mimetype": "text/x-python",
   "name": "python",
   "nbconvert_exporter": "python",
   "pygments_lexer": "ipython3",
   "version": "3.9.10"
  }
 },
 "nbformat": 4,
 "nbformat_minor": 5
}
