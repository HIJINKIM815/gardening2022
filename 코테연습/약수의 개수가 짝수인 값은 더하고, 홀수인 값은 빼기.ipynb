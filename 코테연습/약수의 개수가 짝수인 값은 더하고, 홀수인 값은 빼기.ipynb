{
 "cells": [
  {
   "cell_type": "markdown",
   "id": "23ddbdd0",
   "metadata": {},
   "source": [
    "두 매개 변수 (left,right)가 주어지면, left이상 right이하의 값들 중, 약수의 개수가 짝수인 값은 더하고, 홀수인 값은 뺀 합을 구하여라."
   ]
  },
  {
   "cell_type": "code",
   "execution_count": 1,
   "id": "b97daae7",
   "metadata": {},
   "outputs": [],
   "source": [
    "def solution(left, right): # 두 매개 변수 (left 이상 right 이하) 사이 존재하는 수의 약수의 개수가 짝수일때는 그 수를 더하고, 홀수일때는 그 수를 뺀 결과를 출력 \n",
    "    sum=0 # 초기합 = 0으로 설정\n",
    "    for i in range(left,right+1): # left에서 right까지 반복문\n",
    "        cnt = 0 # 약수의 개수를 헤아리기 위한 변수\n",
    "        for n in range(1,i+1):\n",
    "            if i%n==0: # 1에서 i까지의 수로 나누었을때 나머지가 0이면(약수이면)\n",
    "                cnt+=1 # 약수의 개수를 카운트\n",
    "        sum = sum+i*(-1)**(cnt) # 약수의 개수가 짝수일때는 더해지고, 홀수있때는 빼지도록 합을 설정\n",
    "    answer=sum\n",
    "    return answer"
   ]
  },
  {
   "cell_type": "markdown",
   "id": "db300154",
   "metadata": {},
   "source": [
    "**포인트는 약수의 개수를 구하는 로직**"
   ]
  },
  {
   "cell_type": "code",
   "execution_count": 67,
   "id": "1cee26a6",
   "metadata": {},
   "outputs": [],
   "source": [
    "# numpy을 이용하는 것이 더 빠르다고 생각하였으나, 프로그래밍 돌릴때 훨씬 더 오래걸림\n",
    "def solution(left, right):\n",
    "    import numpy as np\n",
    "    answer = 0\n",
    "    for i in range(left,right+1):\n",
    "        divisor_count = (i%np.arange(1,i+1)).tolist().count(0)\n",
    "        answer = answer+i*(-1)**(divisor_count)\n",
    "        \n",
    "    return answer"
   ]
  },
  {
   "cell_type": "markdown",
   "id": "1031f3a8",
   "metadata": {},
   "source": [
    "**이 문제를 잘 푸는 문제는 약수의 개수가 짝수인지, 홀수인지에 대해서 포인트를 맞추는 것이다. 다른 여러 문제와 마찬가지로, 프로그래밍(반복문이나, numpy모듈)적인 지식 보다도 수학적인 면에 집중하는게 효율적인 로직을 짜는 방법인것 같다**"
   ]
  },
  {
   "cell_type": "markdown",
   "id": "ed0be057",
   "metadata": {},
   "source": [
    "약수의 개수가 짝수인지, 홀수인지를 파악을 해야하는데, 나는 약수의 **개수**에 초점을 두었고, 그랬기 때문에 약수가 될수있는 수들을 나열하고(1에서부터 그 모든 수를 나열) 그 수가 약수인지 아닌지 파악하여 개수를 카운팅하는 방식으로 접근을 하였다.\n",
    "하지만 약수의 개수 보다 더 중요한 것은 그 개수가 **짝수**인지 **홀수**인지 파악하는 것인데, 짝수와 홀수의 특징을 직관적으로 파악하는 것이 훨씬 더 빠른 로직을 푸는 방법이었다."
   ]
  },
  {
   "cell_type": "markdown",
   "id": "b0e75d74",
   "metadata": {},
   "source": [
    "A의 약수의 개수는 이 수를 소인수 분해 하였을때 지수로 결정이 된다.\n",
    "### A = $a^m \\times b^n$\n",
    " - A를 소인수 분해한 결과가 위와 같을 때, \n",
    "### A의 약수의 개수는 (m+1)*(n+1) 이 된다. \n",
    " - 약수의 개수가 홀수가 되기 위해서는 (m+1)*(n+1)이 홀수가 되어야 하고, 두 수의 곱이 홀수가 되기 위해서는 두 수가 모두 홀수가 되어야하므로 \n",
    " - m+1 = 홀수, n+1 = 홀수가 되어야하므로 m, n은 짝수가 되어야한다. \n",
    " - 그리고 이 지수가 짝수라는 의미는, A가 거듭 제곱인 수가 된다는 의미이므로 \n",
    " ### $\\sqrt A$는 정수가된다.\n",
    " "
   ]
  },
  {
   "cell_type": "code",
   "execution_count": 86,
   "id": "00305b60",
   "metadata": {},
   "outputs": [],
   "source": [
    "def solution(left, right): # 두 매개 변수 (left 이상 right 이하) 사이 존재하는 수의 약수의 개수가 짝수일때는 그 수를 더하고, 홀수일때는 그 수를 뺀 결과를 출력 \n",
    "    sum=0 # 초기합 = 0으로 설정\n",
    "    for i in range(left,right+1): # left에서 right까지 반복문\n",
    "        if i**0.5 == int(i**0.5): # i의 약수의 개수가 홀수일때\n",
    "            sum = sum+i*(-1)\n",
    "        else:\n",
    "            sum = sum+i # 약수의 개수가 짝수일때는 더해지고, 홀수있때는 빼지도록 합을 설정\n",
    "    answer=sum\n",
    "    return answer"
   ]
  }
 ],
 "metadata": {
  "kernelspec": {
   "display_name": "Python 3 (ipykernel)",
   "language": "python",
   "name": "python3"
  },
  "language_info": {
   "codemirror_mode": {
    "name": "ipython",
    "version": 3
   },
   "file_extension": ".py",
   "mimetype": "text/x-python",
   "name": "python",
   "nbconvert_exporter": "python",
   "pygments_lexer": "ipython3",
   "version": "3.9.9"
  }
 },
 "nbformat": 4,
 "nbformat_minor": 5
}
